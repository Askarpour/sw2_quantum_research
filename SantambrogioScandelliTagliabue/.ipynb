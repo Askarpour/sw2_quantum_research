{
 "cells": [
  {
   "cell_type": "markdown",
   "metadata": {},
   "source": [
    "<b>Replication of results achieved in paper \"Towards Pricing Financial Derivatives with an IBM Quantum Computer\" (Martin et. al 2019) using QISKIT</b>\n",
    "=========="
   ]
  },
  {
   "cell_type": "code",
   "execution_count": 1,
   "metadata": {},
   "outputs": [],
   "source": [
    "import numpy as np\n",
    "import scipy\n",
    "from qiskit import(\n",
    "  QuantumCircuit,\n",
    "  execute,\n",
    "  BasicAer,\n",
    "  QuantumRegister,\n",
    "  ClassicalRegister)\n",
    "from qiskit.visualization import plot_histogram\n",
    "from qiskit.quantum_info.synthesis import euler_angles_1q "
   ]
  },
  {
   "cell_type": "markdown",
   "metadata": {},
   "source": [
    "Presenting the classical implementation of PCA, on a simple dataset. \n",
    "<br>The dataset is represented as a matrix: each row is a sample and each column is a variable whose value has been measured.\n",
    "First the data is standardized, then the covariance matrix is computed and divided by its trace to normalize it.\n",
    "<br>Let's suppose we get to this normalized covariance matrix $$\\rho = \\begin{pmatrix} 0.6407 & 0.3288 \\\\ 0.3288 & 0.3593\\end{pmatrix}$$\n",
    "<br>The algorithm proceeds by computing the eigenvalues and eigenvectors of such matrix"
   ]
  },
  {
   "cell_type": "code",
   "execution_count": 2,
   "metadata": {},
   "outputs": [
    {
     "name": "stdout",
     "output_type": "stream",
     "text": [
      "Eigenvalues: \n",
      "[0.85763939 0.14236061]\n",
      "Eigenvectors: \n",
      "[[ 0.83468948 -0.55072087]\n",
      " [ 0.55072087  0.83468948]]\n"
     ]
    }
   ],
   "source": [
    "covmat=[[0.6407, 0.3288],[0.3288, 0.3593]]\n",
    "eigval, eigvec = np.linalg.eig(covmat)\n",
    "eva=eigval[np.argsort(eigval)[::-1]]\n",
    "evs=eigvec[:,np.argsort(eigval)[::-1]]\n",
    "print(\"Eigenvalues: \")\n",
    "print(eva)\n",
    "print(\"Eigenvectors: \")\n",
    "print(evs)"
   ]
  },
  {
   "cell_type": "markdown",
   "metadata": {},
   "source": [
    "----------\n",
    "This step, performed classically, typically runs in $ O (n^3) $ (where $ n $ is the number of variables), depending on the implementation.\n",
    "<br>What we really need to perform PCA is the first (largest) eigenvalue and corresponding eigenvector, that will be used to transform the original dataset and obtain its one-dimensional representation.\n",
    "<br>\n",
    "We will exploit a quantum circuit in order to approximate such largest eigenvalue.\n"
   ]
  },
  {
   "cell_type": "code",
   "execution_count": 3,
   "metadata": {},
   "outputs": [
    {
     "data": {
      "image/png": "[encoded data removed]",
      "text/plain": [
       "<Figure size 504x360 with 1 Axes>"
      ]
     },
     "execution_count": 3,
     "metadata": {},
     "output_type": "execute_result"
    }
   ],
   "source": [
    "simulator = BasicAer.get_backend('qasm_simulator')\n",
    "circuit = QuantumCircuit(4, 4)\n",
    "\n",
    "#gate preparation\n",
    "u = np.round(scipy.linalg.expm(2*np.pi*1j*np.array(covmat)),4)\n",
    "u = euler_angles_1q(u)\n",
    "\n",
    "#superposition\n",
    "circuit.h(0)\n",
    "circuit.h(1)\n",
    "circuit.h(2)\n",
    "circuit.h(3)\n",
    "\n",
    "#U3 chain\n",
    "circuit.cu3(u[0],u[1],u[2],2,3)\n",
    "\n",
    "circuit.cu3(u[0],u[1],u[2],1,3)\n",
    "circuit.cu3(u[0],u[1],u[2],1,3)\n",
    "\n",
    "circuit.cu3(u[0],u[1],u[2],0,3)\n",
    "circuit.cu3(u[0],u[1],u[2],0,3)\n",
    "circuit.cu3(u[0],u[1],u[2],0,3)\n",
    "circuit.cu3(u[0],u[1],u[2],0,3)\n",
    "\n",
    "\n",
    "#QFT\n",
    "circuit.h(0)\n",
    "circuit.cu1(-np.pi/2,0,1)\n",
    "circuit.cu1(-np.pi/4,0,2)\n",
    "circuit.h(1)\n",
    "circuit.cu1(-np.pi/2,1,2)\n",
    "circuit.h(2)\n",
    "\n",
    "\n",
    "circuit.measure([0,1,2,3],[0,1,2,3])\n",
    "\n",
    "job = execute(circuit, simulator, shots=8192)\n",
    "result = job.result().data(circuit)\n",
    "\n",
    "plot_histogram(job.result().get_counts())"
   ]
  },
  {
   "cell_type": "markdown",
   "metadata": {},
   "source": [
    "To estimate the largest eigenvalue, we look at the values of the last 3 qubits.\n",
    "<br>The two configurations $ 0111 $ and $ 1111 $ combined have the largest outcome probability, and the expected result is in fact $ 111 $, that is the best approximation of the value $ 0.8576 $ with this number of bits."
   ]
  }
 ],
 "metadata": {
  "kernelspec": {
   "display_name": "Python 3",
   "language": "python",
   "name": "python3"
  },
  "language_info": {
   "codemirror_mode": {
    "name": "ipython",
    "version": 3
   },
   "file_extension": ".py",
   "mimetype": "text/x-python",
   "name": "python",
   "nbconvert_exporter": "python",
   "pygments_lexer": "ipython3",
   "version": "3.7.3"
  }
 },
 "nbformat": 4,
 "nbformat_minor": 4
}
