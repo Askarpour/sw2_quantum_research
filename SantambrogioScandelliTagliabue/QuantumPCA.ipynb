{
 "cells": [
  {
   "cell_type": "markdown",
   "metadata": {},
   "source": [
    "<b>General implementation of a Quantum PCA Algorithm</b>"
   ]
  },
  {
   "cell_type": "code",
   "execution_count": 1,
   "metadata": {},
   "outputs": [],
   "source": [
    "import numpy as np\n",
    "import scipy\n",
    "from qiskit import(\n",
    "  QuantumCircuit,\n",
    "  execute,\n",
    "  BasicAer,\n",
    "  QuantumRegister,\n",
    "  ClassicalRegister)\n",
    "from qiskit.visualization import plot_histogram\n",
    "from qiskit.quantum_info.synthesis import euler_angles_1q \n",
    "from math import sqrt\n",
    "from scipy import random\n",
    "from math import acos"
   ]
  },
  {
   "cell_type": "markdown",
   "metadata": {},
   "source": [
    "Utility functions"
   ]
  },
  {
   "cell_type": "code",
   "execution_count": 3,
   "metadata": {},
   "outputs": [],
   "source": [
    "def encode_eigv2(eigv):\n",
    "  print(eigv)\n",
    "  return (2*acos(eigv[0]), 0, 0)\n",
    "\n",
    "def encode_covmat(covmat):\n",
    "  covmat=covmat/np.trace(covmat)\n",
    "  u=np.round(scipy.linalg.expm(2*np.pi*1j*np.array(covmat)),4)\n",
    "  return euler_angles_1q(u)\n",
    "\n",
    "def eigv_from(count):\n",
    "  maxcount = max(count.values())\n",
    "  binary_res = None\n",
    "  acc=0\n",
    "  for i in count.items():\n",
    "    if i[1]==maxcount:\n",
    "      binary_res=i[0]\n",
    "  for i in range(1, len(binary_res)):\n",
    "    acc+=2**(-i)*int(binary_res[i])\n",
    "  return acc"
   ]
  },
  {
   "cell_type": "markdown",
   "metadata": {},
   "source": [
    "Parametric implementation of the algorithm"
   ]
  },
  {
   "cell_type": "code",
   "execution_count": 4,
   "metadata": {},
   "outputs": [],
   "source": [
    "def qpca(covmat, NBITS, initialeig = None, iterations=1, simulator=BasicAer.get_backend('qasm_simulator'), req_shots=8192):\n",
    "  iteration=0\n",
    "  last_approx=None\n",
    "  while(iteration<iterations):\n",
    "    circuit = QuantumCircuit(NBITS+1, NBITS+1)\n",
    "    for i in range(NBITS):\n",
    "      circuit.h(i)\n",
    "    if iteration==0 and not initialeig:\n",
    "      circuit.h(NBITS) #last bit initial guess\n",
    "    elif initialeig and iteration==0:\n",
    "      pars = encode_eigv2(initialeig)\n",
    "      circuit.u3(pars[0],pars[1],pars[2],NBITS)\n",
    "    else:\n",
    "      pars = encode_eigv2(last_approx)\n",
    "      circuit.u3(pars[0],pars[1],pars[2],NBITS)\n",
    "    u1=encode_covmat(covmat)\n",
    "    for i in range(NBITS):\n",
    "      for j in range(2**i):\n",
    "        circuit.cu3(u1[0],u1[1],u1[2],NBITS-1-i,NBITS)\n",
    "    #inverse QFT\n",
    "    for i in range(NBITS):\n",
    "      circuit.h(i)\n",
    "      for j in range(1,NBITS-i):\n",
    "        circuit.cu1(-np.pi/(2**(j)),i,j+i)\n",
    "    circuit.measure([i for i in range(NBITS+1)],[i for i in range(NBITS+1)])\n",
    "    job = execute(circuit, simulator, shots=req_shots)\n",
    "    result = job.result().data(circuit)\n",
    "    counts = job.result().get_counts()\n",
    "    keys = list(counts.keys())\n",
    "    zero = sum([counts[k] for k in keys if k[0]=='0'])\n",
    "    ones = sum([counts[k] for k in keys if k[0]=='1'])\n",
    "    pz = sqrt(zero/(zero+ones))\n",
    "    po = sqrt(ones/(zero+ones))\n",
    "    last_approx = [pz, po]\n",
    "    iteration+=1\n",
    "  return {\"results\": counts, \"eigv\": last_approx, \"lastcirc\": circuit}"
   ]
  },
  {
   "cell_type": "markdown",
   "metadata": {},
   "source": [
    "Generation of the covariance matrix and normalization"
   ]
  },
  {
   "cell_type": "code",
   "execution_count": 8,
   "metadata": {},
   "outputs": [
    {
     "name": "stdout",
     "output_type": "stream",
     "text": [
      "[[0.673169   0.40250556]\n",
      " [0.40250556 0.326831  ]]\n"
     ]
    }
   ],
   "source": [
    "A = random.rand(2,2)\n",
    "covmat = np.dot(A,A.transpose())\n",
    "covmat=covmat/np.trace(covmat)\n",
    "print(covmat)"
   ]
  },
  {
   "cell_type": "markdown",
   "metadata": {},
   "source": [
    "Target results, computed classically"
   ]
  },
  {
   "cell_type": "code",
   "execution_count": 9,
   "metadata": {},
   "outputs": [
    {
     "name": "stdout",
     "output_type": "stream",
     "text": [
      "Eigenvalues: \n",
      "[0.93817602 0.06182398]\n",
      "Eigenvectors: \n",
      "[[ 0.83522577 -0.54990718]\n",
      " [ 0.54990718  0.83522577]]\n"
     ]
    }
   ],
   "source": [
    "eigval, eigvec = np.linalg.eig(covmat)\n",
    "print(\"Eigenvalues: \")\n",
    "print(eigval)\n",
    "print(\"Eigenvectors: \")\n",
    "print(eigvec)"
   ]
  },
  {
   "cell_type": "markdown",
   "metadata": {},
   "source": [
    "Run the algorithm"
   ]
  },
  {
   "cell_type": "code",
   "execution_count": 11,
   "metadata": {},
   "outputs": [
    {
     "name": "stdout",
     "output_type": "stream",
     "text": [
      "[0.8286407592029854, 0.5597807536772768]\n",
      "[0.8363389806920397, 0.5482126497765261]\n",
      "[0.8349512289274745, 0.5503239457923851]\n",
      "[0.8377244335475121, 0.5460931911656655]\n",
      "[0.8351705009307979, 0.5499911220874388]\n",
      "[0.8393257850426734, 0.5436287580348376]\n",
      "[0.8331217179230176, 0.5530896881383706]\n",
      "[0.8326820371546393, 0.5537514108334172]\n",
      "[0.8313615996514393, 0.5557318513680856]\n",
      "[0.8364849258952608, 0.5479899348984432]\n",
      "0.9609375\n"
     ]
    }
   ],
   "source": [
    "res=qpca(covmat,7,iterations=10)\n",
    "print(res[\"eigv\"])\n",
    "print(eigv_from(res[\"results\"]))\n",
    "# PLOT THE RESULTS HISTOGRAM\n",
    "#plot_histogram(res[\"results\"])\n",
    "# SHOW THE CIRCUIT AT LAST ITERATION\n",
    "#res[\"lastcirc\"].draw()"
   ]
  }
 ],
 "metadata": {
  "kernelspec": {
   "display_name": "Python 3",
   "language": "python",
   "name": "python3"
  },
  "language_info": {
   "codemirror_mode": {
    "name": "ipython",
    "version": 3
   },
   "file_extension": ".py",
   "mimetype": "text/x-python",
   "name": "python",
   "nbconvert_exporter": "python",
   "pygments_lexer": "ipython3",
   "version": "3.7.0"
  }
 },
 "nbformat": 4,
 "nbformat_minor": 4
}
