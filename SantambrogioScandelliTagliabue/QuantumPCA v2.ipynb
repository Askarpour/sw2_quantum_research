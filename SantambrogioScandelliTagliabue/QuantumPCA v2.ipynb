{
 "cells": [
  {
   "cell_type": "markdown",
   "metadata": {},
   "source": [
    "<b>General implementation of a Quantum PCA for any size covariance matrices.</b>"
   ]
  },
  {
   "cell_type": "code",
   "execution_count": 8,
   "metadata": {},
   "outputs": [],
   "source": [
    "import numpy as np\n",
    "import scipy\n",
    "import copy\n",
    "from math import *\n",
    "from qiskit import(\n",
    "  QuantumCircuit,\n",
    "  execute,\n",
    "  BasicAer,\n",
    "  QuantumRegister,\n",
    "  ClassicalRegister)\n",
    "from qiskit.visualization import plot_histogram\n",
    "from qiskit.quantum_info.synthesis import euler_angles_1q \n",
    "from qiskit.quantum_info.operators import Operator\n",
    "from qiskit.aqua.utils.controlled_circuit import get_controlled_circuit"
   ]
  },
  {
   "cell_type": "markdown",
   "metadata": {},
   "source": [
    "Utility functions"
   ]
  },
  {
   "cell_type": "code",
   "execution_count": 2,
   "metadata": {},
   "outputs": [],
   "source": [
    "def encode_eigv2(eigv):\n",
    "  print(eigv)\n",
    "  return (2*acos(eigv[0]), 0, 0)\n",
    "\n",
    "def encode_covmat(covmat):\n",
    "  covmat=covmat/np.trace(covmat)\n",
    "  u=np.round(scipy.linalg.expm(2*np.pi*1j*np.array(covmat)),4)\n",
    "  return euler_angles_1q(u)\n",
    "\n",
    "#FIXME: controllare che funzioni per più qbit per psi\n",
    "def eigval_from(count, psibits):\n",
    "    occurrence = {}\n",
    "    for i in count.items():\n",
    "        substring = i[0][psibits:]\n",
    "        if substring not in occurrence.keys():\n",
    "            occurrence[substring] = i[1]\n",
    "        else: \n",
    "            occurrence[substring] += i[1]\n",
    "    maxcount = max(occurrence.values())\n",
    "    binary_res = None\n",
    "    acc=0\n",
    "    for i in occurrence.items():\n",
    "        if i[1]==maxcount:\n",
    "            binary_res=i[0]\n",
    "    for i in range(len(binary_res)):\n",
    "        acc+=2**(-i-1)*int(binary_res[i])\n",
    "    return acc"
   ]
  },
  {
   "cell_type": "markdown",
   "metadata": {},
   "source": [
    "Parametric implementation of the algorithm"
   ]
  },
  {
   "cell_type": "code",
   "execution_count": 156,
   "metadata": {},
   "outputs": [],
   "source": [
    "#Check if valid matrix, add rows and cols in order to make it of 2**i length, return n° of bits required to encode it\n",
    "def preprocess_mat(matrix):\n",
    "    if matrix is None or len(matrix)!=len(matrix[0]) or len(matrix)==0:\n",
    "        raise ValueError()\n",
    "    while len(matrix) & (len(matrix) - 1) != 0:\n",
    "        b = np.zeros((len(matrix)+1,len(matrix)+1))\n",
    "        b[:-1,:-1] = matrix\n",
    "        matrix=b\n",
    "    PSIBITS = ceil(log2(len(matrix)))\n",
    "    matrix = scipy.linalg.expm(2*np.pi*1j*np.array(matrix))\n",
    "    return matrix, PSIBITS\n",
    "\n",
    "def generate_cu3(unitary):\n",
    "    op = np.eye(2*len(unitary),dtype=\"complex\")\n",
    "    for i in range(len(op)//2, len(op)):\n",
    "        for j in range(len(op)//2, len(op)):\n",
    "            op[i,j] = unitary[i-len(op)//2,j-len(op)//2]\n",
    "    return Operator(op)\n",
    "    \n",
    "#Creates the circuit needed to caluclate eigenvalues/eigenvectors\n",
    "def generate_circuit(initial, covmat, NBITS, PSIBITS):\n",
    "    circuit = QuantumCircuit(NBITS+PSIBITS, NBITS+PSIBITS)\n",
    "    for i in range(NBITS):\n",
    "        circuit.h(i)\n",
    "    circuit.initialize(initial, [i for i in range(NBITS,NBITS+PSIBITS)])\n",
    "    #Phase kickback:\n",
    "    cu3 = generate_cu3(covmat)\n",
    "    qubits = circuit.qubits\n",
    "    for i in range(NBITS):\n",
    "        for j in range(2**i):\n",
    "            q = [qubits[k] for k in range(NBITS, NBITS+PSIBITS)] + [qubits[NBITS-i-1]]\n",
    "            circuit.unitary(cu3,q)\n",
    "    circuit.barrier()        \n",
    "    \n",
    "    result = execute(circuit, BasicAer.get_backend('statevector_simulator')).result()\n",
    "    #print(np.round(result.get_statevector(circuit),4))\n",
    "    #inverse QFT:\n",
    "    for i in range(NBITS):\n",
    "        circuit.h(i)\n",
    "        for j in range(1,NBITS-i):\n",
    "            circuit.cu1(-pi/(2**(j)),i,j+i)\n",
    "        circuit.barrier()\n",
    "    circuit.measure([i for i in range(NBITS+PSIBITS)],[i for i in range(NBITS+PSIBITS)])\n",
    "    return circuit\n",
    "\n",
    "#From the results of the measure, estimate eigenvector for next measure\n",
    "#FIXME hardcoded\n",
    "def estimate_eigv(counts,PSIBITS):\n",
    "    keys = list(counts.keys())\n",
    "    if PSIBITS==1:\n",
    "        zero = sum([counts[k] for k in keys if k[0]=='0'])\n",
    "        ones = sum([counts[k] for k in keys if k[0]=='1'])\n",
    "        pz = sqrt(zero/(zero+ones))\n",
    "        po = sqrt(ones/(zero+ones))\n",
    "        return [pz, po]\n",
    "    elif PSIBITS==2:\n",
    "        zz = sqrt(sum([counts[i] for i in counts.keys() if i[0:2]=='00'])/sum([counts[k] for k in keys]))\n",
    "        zo = sqrt(sum([counts[i] for i in counts.keys() if i[0:2]=='01'])/sum([counts[k] for k in keys]))\n",
    "        oz = sqrt(sum([counts[i] for i in counts.keys() if i[0:2]=='10'])/sum([counts[k] for k in keys]))\n",
    "        oo = sqrt(sum([counts[i] for i in counts.keys() if i[0:2]=='11'])/sum([counts[k] for k in keys]))\n",
    "        return [zz,zo,oz,oo]/ np.linalg.norm([zz,zo,oz,oo])\n",
    "    else:\n",
    "        print(\"This function works only for 2x2 now\")\n",
    "        raise ValueError()\n",
    "\n",
    "def generatefirst(psibits, realdim):\n",
    "    last_approx=[0]*2**psibits\n",
    "    for i in range(realdim):\n",
    "        last_approx[i] = 1\n",
    "    return last_approx / np.linalg.norm(last_approx)\n",
    "    \n",
    "\n",
    "def qpca(covmat, NBITS, initialeig = None, iterations=1, simulator=BasicAer.get_backend('qasm_simulator'), req_shots=8192):\n",
    "    iteration=0\n",
    "    REALDIM=len(covmat)\n",
    "    covmat, PSIBITS = preprocess_mat(covmat)\n",
    "    last_approx = generatefirst(PSIBITS, REALDIM)\n",
    "    print(\"last_approx\", last_approx)\n",
    "    while(iteration<iterations):\n",
    "        circuit = generate_circuit(last_approx, covmat, NBITS, PSIBITS)\n",
    "        job = execute(circuit, simulator, shots=req_shots)\n",
    "        result = job.result().data(circuit)\n",
    "        counts = job.result().get_counts()\n",
    "        last_approx = estimate_eigv(counts, PSIBITS)\n",
    "        print(\"last_approx\",last_approx)\n",
    "        iteration+=1\n",
    "    return {\"results\": counts, \"eigvec\": last_approx, \"eigval\": eigval_from(counts,PSIBITS), \"lastcirc\": circuit}"
   ]
  },
  {
   "cell_type": "markdown",
   "metadata": {},
   "source": [
    "Generation of the covariance matrix and normalization"
   ]
  },
  {
   "cell_type": "code",
   "execution_count": 165,
   "metadata": {},
   "outputs": [
    {
     "name": "stdout",
     "output_type": "stream",
     "text": [
      "[[0.97447078 0.15129853]\n",
      " [0.15129853 0.02552922]]\n"
     ]
    }
   ],
   "source": [
    "A = scipy.random.rand(2,2)\n",
    "covmat = np.dot(A,A.transpose())\n",
    "covmat=covmat/np.trace(covmat)\n",
    "print(covmat)"
   ]
  },
  {
   "cell_type": "code",
   "execution_count": 166,
   "metadata": {},
   "outputs": [
    {
     "name": "stdout",
     "output_type": "stream",
     "text": [
      "Eigenvalues: \n",
      "[0.9980098 0.0019902]\n",
      "Eigenvectors: \n",
      "[[ 0.9881128  -0.15373059]\n",
      " [ 0.15373059  0.9881128 ]]\n"
     ]
    }
   ],
   "source": [
    "eigval, eigvec = np.linalg.eig(covmat)\n",
    "print(\"Eigenvalues: \")\n",
    "print(eigval)\n",
    "print(\"Eigenvectors: \")\n",
    "print(eigvec)"
   ]
  },
  {
   "cell_type": "code",
   "execution_count": 168,
   "metadata": {},
   "outputs": [
    {
     "name": "stdout",
     "output_type": "stream",
     "text": [
      "last_approx [0.70710678 0.70710678]\n",
      "last_approx [0.7964153085859161, 0.6047500775113633]\n",
      "last_approx [0.8755578578826188, 0.4831132760543846]\n",
      "last_approx [0.9271564811966748, 0.3746743377588062]\n",
      "last_approx [0.9606516343087124, 0.27775607554111215]\n",
      "last_approx [0.9813321024569104, 0.19232083789204954]\n",
      "last_approx [0.9861714758030167, 0.16572815184059708]\n",
      "last_approx [0.9866664797121163, 0.16275520824999734]\n",
      "0.998046875\n"
     ]
    }
   ],
   "source": [
    "res=qpca(covmat,10,iterations=7)\n",
    "print(res[\"eigval\"])\n",
    "# PLOT THE RESULTS HISTOGRAM\n",
    "#plot_histogram(res[\"results\"])\n",
    "# SHOW THE CIRCUIT AT LAST ITERATION\n",
    "#res[\"lastcirc\"].draw(fold=200)"
   ]
  }
 ],
 "metadata": {
  "kernelspec": {
   "display_name": "Python 3",
   "language": "python",
   "name": "python3"
  },
  "language_info": {
   "codemirror_mode": {
    "name": "ipython",
    "version": 3
   },
   "file_extension": ".py",
   "mimetype": "text/x-python",
   "name": "python",
   "nbconvert_exporter": "python",
   "pygments_lexer": "ipython3",
   "version": "3.7.0"
  }
 },
 "nbformat": 4,
 "nbformat_minor": 4
}
