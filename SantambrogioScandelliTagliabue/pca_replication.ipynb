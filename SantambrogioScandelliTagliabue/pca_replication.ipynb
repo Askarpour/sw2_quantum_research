{
 "cells": [
  {
   "cell_type": "markdown",
   "metadata": {},
   "source": [
    "<b>Replication of results achieved in paper \"Towards Pricing Financial Derivatives with an IBM Quantum Computer\" (Martin et. al 2019) using QISKIT</b>\n",
    "=========="
   ]
  },
  {
   "cell_type": "code",
   "execution_count": 1,
   "metadata": {},
   "outputs": [
    {
     "name": "stdout",
     "output_type": "stream",
     "text": [
      "Requirement already satisfied: qiskit in e:\\users\\miki1\\anaconda3\\lib\\site-packages (0.16.0)\n",
      "Requirement already satisfied: qiskit-terra==0.12.0 in e:\\users\\miki1\\anaconda3\\lib\\site-packages (from qiskit) (0.12.0)\n",
      "Requirement already satisfied: qiskit-aqua==0.6.4 in e:\\users\\miki1\\anaconda3\\lib\\site-packages (from qiskit) (0.6.4)\n",
      "Requirement already satisfied: qiskit-ibmq-provider==0.5.0 in e:\\users\\miki1\\anaconda3\\lib\\site-packages (from qiskit) (0.5.0)\n",
      "Requirement already satisfied: qiskit-aer==0.4.0 in e:\\users\\miki1\\anaconda3\\lib\\site-packages (from qiskit) (0.4.0)\n",
      "Requirement already satisfied: qiskit-ignis==0.2.0 in e:\\users\\miki1\\anaconda3\\lib\\site-packages (from qiskit) (0.2.0)\n",
      "Requirement already satisfied: marshmallow<4,>=3 in e:\\users\\miki1\\anaconda3\\lib\\site-packages (from qiskit-terra==0.12.0->qiskit) (3.5.1)\n",
      "Requirement already satisfied: jsonschema>=2.6 in e:\\users\\miki1\\anaconda3\\lib\\site-packages (from qiskit-terra==0.12.0->qiskit) (3.0.1)\n",
      "Requirement already satisfied: dill>=0.3 in e:\\users\\miki1\\anaconda3\\lib\\site-packages (from qiskit-terra==0.12.0->qiskit) (0.3.1.1)\n",
      "Requirement already satisfied: networkx>=2.2; python_version > \"3.5\" in e:\\users\\miki1\\anaconda3\\lib\\site-packages (from qiskit-terra==0.12.0->qiskit) (2.2)\n",
      "Requirement already satisfied: marshmallow-polyfield<6,>=5.7 in e:\\users\\miki1\\anaconda3\\lib\\site-packages (from qiskit-terra==0.12.0->qiskit) (5.8)\n",
      "Requirement already satisfied: numpy>=1.13 in e:\\users\\miki1\\anaconda3\\lib\\site-packages (from qiskit-terra==0.12.0->qiskit) (1.16.2)\n",
      "Requirement already satisfied: psutil>=5 in e:\\users\\miki1\\anaconda3\\lib\\site-packages (from qiskit-terra==0.12.0->qiskit) (5.6.1)\n",
      "Requirement already satisfied: scipy>=1.0 in e:\\users\\miki1\\anaconda3\\lib\\site-packages (from qiskit-terra==0.12.0->qiskit) (1.2.1)\n",
      "Requirement already satisfied: ply>=3.10 in e:\\users\\miki1\\anaconda3\\lib\\site-packages (from qiskit-terra==0.12.0->qiskit) (3.11)\n",
      "Requirement already satisfied: sympy>=1.3 in e:\\users\\miki1\\anaconda3\\lib\\site-packages (from qiskit-terra==0.12.0->qiskit) (1.3)\n",
      "Requirement already satisfied: fastdtw in e:\\users\\miki1\\anaconda3\\lib\\site-packages (from qiskit-aqua==0.6.4->qiskit) (0.3.4)\n",
      "Requirement already satisfied: docplex in e:\\users\\miki1\\anaconda3\\lib\\site-packages (from qiskit-aqua==0.6.4->qiskit) (2.12.182)\n",
      "Requirement already satisfied: setuptools>=40.1.0 in e:\\users\\miki1\\anaconda3\\lib\\site-packages (from qiskit-aqua==0.6.4->qiskit) (40.8.0)\n",
      "Requirement already satisfied: dlx in e:\\users\\miki1\\anaconda3\\lib\\site-packages (from qiskit-aqua==0.6.4->qiskit) (1.0.4)\n",
      "Requirement already satisfied: h5py in e:\\users\\miki1\\anaconda3\\lib\\site-packages (from qiskit-aqua==0.6.4->qiskit) (2.9.0)\n",
      "Requirement already satisfied: quandl in e:\\users\\miki1\\anaconda3\\lib\\site-packages (from qiskit-aqua==0.6.4->qiskit) (3.5.0)\n",
      "Requirement already satisfied: cvxopt; python_version < \"3.8\" or sys_platform != \"win32\" in e:\\users\\miki1\\anaconda3\\lib\\site-packages (from qiskit-aqua==0.6.4->qiskit) (1.2.4)\n",
      "Requirement already satisfied: scikit-learn>=0.20.0 in e:\\users\\miki1\\anaconda3\\lib\\site-packages (from qiskit-aqua==0.6.4->qiskit) (0.20.3)\n",
      "Requirement already satisfied: requests-ntlm>=1.1.0 in e:\\users\\miki1\\anaconda3\\lib\\site-packages (from qiskit-ibmq-provider==0.5.0->qiskit) (1.1.0)\n",
      "Requirement already satisfied: websockets<8,>=7 in e:\\users\\miki1\\anaconda3\\lib\\site-packages (from qiskit-ibmq-provider==0.5.0->qiskit) (7.0)\n",
      "Requirement already satisfied: nest-asyncio!=1.1.0,>=1.0.0 in e:\\users\\miki1\\anaconda3\\lib\\site-packages (from qiskit-ibmq-provider==0.5.0->qiskit) (1.2.3)\n",
      "Requirement already satisfied: requests>=2.19 in e:\\users\\miki1\\anaconda3\\lib\\site-packages (from qiskit-ibmq-provider==0.5.0->qiskit) (2.21.0)\n",
      "Requirement already satisfied: arrow>=0.15.5 in e:\\users\\miki1\\anaconda3\\lib\\site-packages (from qiskit-ibmq-provider==0.5.0->qiskit) (0.15.5)\n",
      "Requirement already satisfied: pybind11>=2.4 in e:\\users\\miki1\\anaconda3\\lib\\site-packages (from qiskit-aer==0.4.0->qiskit) (2.4.3)\n",
      "Requirement already satisfied: cython>=0.27.1 in e:\\users\\miki1\\anaconda3\\lib\\site-packages (from qiskit-aer==0.4.0->qiskit) (0.29.6)\n",
      "Requirement already satisfied: attrs>=17.4.0 in e:\\users\\miki1\\anaconda3\\lib\\site-packages (from jsonschema>=2.6->qiskit-terra==0.12.0->qiskit) (19.1.0)\n",
      "Requirement already satisfied: pyrsistent>=0.14.0 in e:\\users\\miki1\\anaconda3\\lib\\site-packages (from jsonschema>=2.6->qiskit-terra==0.12.0->qiskit) (0.14.11)\n",
      "Requirement already satisfied: six>=1.11.0 in e:\\users\\miki1\\anaconda3\\lib\\site-packages (from jsonschema>=2.6->qiskit-terra==0.12.0->qiskit) (1.12.0)\n",
      "Requirement already satisfied: decorator>=4.3.0 in e:\\users\\miki1\\anaconda3\\lib\\site-packages (from networkx>=2.2; python_version > \"3.5\"->qiskit-terra==0.12.0->qiskit) (4.4.0)\n",
      "Requirement already satisfied: docloud>=1.0.375 in e:\\users\\miki1\\anaconda3\\lib\\site-packages (from docplex->qiskit-aqua==0.6.4->qiskit) (1.0.375)\n",
      "Requirement already satisfied: more-itertools in e:\\users\\miki1\\anaconda3\\lib\\site-packages (from quandl->qiskit-aqua==0.6.4->qiskit) (6.0.0)\n",
      "Requirement already satisfied: pandas>=0.14 in e:\\users\\miki1\\anaconda3\\lib\\site-packages (from quandl->qiskit-aqua==0.6.4->qiskit) (0.24.2)\n",
      "Requirement already satisfied: inflection>=0.3.1 in e:\\users\\miki1\\anaconda3\\lib\\site-packages (from quandl->qiskit-aqua==0.6.4->qiskit) (0.3.1)\n",
      "Requirement already satisfied: python-dateutil in e:\\users\\miki1\\anaconda3\\lib\\site-packages (from quandl->qiskit-aqua==0.6.4->qiskit) (2.8.0)\n",
      "Requirement already satisfied: mkl in e:\\users\\miki1\\anaconda3\\lib\\site-packages (from cvxopt; python_version < \"3.8\" or sys_platform != \"win32\"->qiskit-aqua==0.6.4->qiskit) (2019.0)\n",
      "Requirement already satisfied: ntlm-auth>=1.0.2 in e:\\users\\miki1\\anaconda3\\lib\\site-packages (from requests-ntlm>=1.1.0->qiskit-ibmq-provider==0.5.0->qiskit) (1.4.0)\n",
      "Requirement already satisfied: cryptography>=1.3 in e:\\users\\miki1\\anaconda3\\lib\\site-packages (from requests-ntlm>=1.1.0->qiskit-ibmq-provider==0.5.0->qiskit) (2.6.1)\n",
      "Requirement already satisfied: chardet<3.1.0,>=3.0.2 in e:\\users\\miki1\\anaconda3\\lib\\site-packages (from requests>=2.19->qiskit-ibmq-provider==0.5.0->qiskit) (3.0.4)\n",
      "Requirement already satisfied: certifi>=2017.4.17 in e:\\users\\miki1\\anaconda3\\lib\\site-packages (from requests>=2.19->qiskit-ibmq-provider==0.5.0->qiskit) (2019.3.9)\n",
      "Requirement already satisfied: urllib3<1.25,>=1.21.1 in e:\\users\\miki1\\anaconda3\\lib\\site-packages (from requests>=2.19->qiskit-ibmq-provider==0.5.0->qiskit) (1.24.1)\n",
      "Requirement already satisfied: idna<2.9,>=2.5 in e:\\users\\miki1\\anaconda3\\lib\\site-packages (from requests>=2.19->qiskit-ibmq-provider==0.5.0->qiskit) (2.8)\n",
      "Requirement already satisfied: pytz>=2011k in e:\\users\\miki1\\anaconda3\\lib\\site-packages (from pandas>=0.14->quandl->qiskit-aqua==0.6.4->qiskit) (2018.9)\n",
      "Requirement already satisfied: intel-openmp in e:\\users\\miki1\\anaconda3\\lib\\site-packages (from mkl->cvxopt; python_version < \"3.8\" or sys_platform != \"win32\"->qiskit-aqua==0.6.4->qiskit) (2019.0)\n",
      "Requirement already satisfied: cffi!=1.11.3,>=1.8 in e:\\users\\miki1\\anaconda3\\lib\\site-packages (from cryptography>=1.3->requests-ntlm>=1.1.0->qiskit-ibmq-provider==0.5.0->qiskit) (1.12.2)\n",
      "Requirement already satisfied: asn1crypto>=0.21.0 in e:\\users\\miki1\\anaconda3\\lib\\site-packages (from cryptography>=1.3->requests-ntlm>=1.1.0->qiskit-ibmq-provider==0.5.0->qiskit) (0.24.0)\n",
      "Requirement already satisfied: pycparser in e:\\users\\miki1\\anaconda3\\lib\\site-packages (from cffi!=1.11.3,>=1.8->cryptography>=1.3->requests-ntlm>=1.1.0->qiskit-ibmq-provider==0.5.0->qiskit) (2.19)\n"
     ]
    }
   ],
   "source": [
    "!pip install qiskit"
   ]
  },
  {
   "cell_type": "code",
   "execution_count": 2,
   "metadata": {},
   "outputs": [],
   "source": [
    "import numpy as np\n",
    "import scipy\n",
    "from qiskit import(\n",
    "  QuantumCircuit,\n",
    "  execute,\n",
    "  BasicAer,\n",
    "  QuantumRegister,\n",
    "  ClassicalRegister)\n",
    "from qiskit.visualization import plot_histogram\n",
    "from qiskit.quantum_info.synthesis import euler_angles_1q "
   ]
  },
  {
   "cell_type": "markdown",
   "metadata": {},
   "source": [
    "Presenting the classical implementation of PCA, on a simple dataset. \n",
    "<br>The dataset is represented as a matrix: each row is a sample and each column is a variable whose value has been measured.\n",
    "First the data is standardized, then the covariance matrix is computed and divided by its trace to normalize it.\n",
    "<br>Let's suppose we get to this normalized covariance matrix $$\\rho = \\begin{pmatrix} 0.6407 & 0.3288 \\\\ 0.3288 & 0.3593\\end{pmatrix}$$\n",
    "<br>The algorithm proceeds by computing the eigenvalues and eigenvectors of such matrix"
   ]
  },
  {
   "cell_type": "code",
<<<<<<< HEAD
   "execution_count": 6,
=======
   "execution_count": 3,
>>>>>>> 0fabc6156bd6e016ec84355e453d9b66e20929ec
   "metadata": {},
   "outputs": [
    {
     "name": "stdout",
     "output_type": "stream",
     "text": [
      "Eigenvalues: \n",
      "[0.85763939 0.14236061]\n",
      "Eigenvectors: \n",
      "[[ 0.83468948 -0.55072087]\n",
      " [ 0.55072087  0.83468948]]\n"
     ]
    }
   ],
   "source": [
    "covmat=[[0.6407, 0.3288],[0.3288, 0.3593]]\n",
    "eigval, eigvec = np.linalg.eig(covmat)\n",
    "eva=eigval[np.argsort(eigval)[::-1]]\n",
    "evs=eigvec[:,np.argsort(eigval)[::-1]]\n",
    "print(\"Eigenvalues: \")\n",
    "print(eva)\n",
    "print(\"Eigenvectors: \")\n",
    "print(evs)"
   ]
  },
  {
   "cell_type": "markdown",
   "metadata": {},
   "source": [
    "----------\n",
    "This step, performed classically, typically runs in $ O (n^3) $ (where $ n $ is the number of variables), depending on the implementation.\n",
    "<br>What we really need to perform PCA is the first (largest) eigenvalue and corresponding eigenvector, that will be used to transform the original dataset and obtain its one-dimensional representation.\n",
    "<br>\n",
    "We will exploit a quantum circuit in order to approximate such largest eigenvalue.\n"
   ]
  },
  {
   "cell_type": "code",
   "execution_count": null,
   "metadata": {},
   "outputs": [],
   "source": [
    "simulator = BasicAer.get_backend('qasm_simulator')\n",
    "circuit = QuantumCircuit(4, 4)\n",
    "\n",
    "#gate preparation\n",
    "u = np.round(scipy.linalg.expm(2*np.pi*1j*np.array(covmat)),4)\n",
    "u = euler_angles_1q(u)\n",
    "\n",
    "#superposition\n",
    "circuit.h(0)\n",
    "circuit.h(1)\n",
    "circuit.h(2)\n",
    "circuit.h(3)\n",
    "\n",
    "#U3 chain\n",
    "circuit.cu3(u[0],u[1],u[2],2,3)\n",
    "\n",
    "circuit.cu3(u[0],u[1],u[2],1,3)\n",
    "circuit.cu3(u[0],u[1],u[2],1,3)\n",
    "\n",
    "circuit.cu3(u[0],u[1],u[2],0,3)\n",
    "circuit.cu3(u[0],u[1],u[2],0,3)\n",
    "circuit.cu3(u[0],u[1],u[2],0,3)\n",
    "circuit.cu3(u[0],u[1],u[2],0,3)\n",
    "\n",
    "\n",
    "#QFT\n",
    "circuit.h(0)\n",
    "circuit.cu1(-np.pi/2,0,1)\n",
    "circuit.cu1(-np.pi/4,0,2)\n",
    "circuit.h(1)\n",
    "circuit.cu1(-np.pi/2,1,2)\n",
    "circuit.h(2)\n",
    "\n",
    "\n",
    "circuit.measure([0,1,2,3],[0,1,2,3])\n",
    "\n",
    "job = execute(circuit, simulator, shots=8192)\n",
    "result = job.result().data(circuit)\n",
    "\n",
    "plot_histogram(job.result().get_counts())"
   ]
  },
  {
   "cell_type": "markdown",
   "metadata": {},
   "source": [
    "To estimate the largest eigenvalue, we look at the values of the last 3 qubits.\n",
    "<br>The two configurations $ 0111 $ and $ 1111 $ combined have the largest outcome probability, and the expected result is in fact $ 111 $, that is the best approximation of the value $ 0.8576 $ with this number of bits."
   ]
  }
 ],
 "metadata": {
  "kernelspec": {
   "display_name": "Python 3",
   "language": "python",
   "name": "python3"
  },
  "language_info": {
   "codemirror_mode": {
    "name": "ipython",
    "version": 3
   },
   "file_extension": ".py",
   "mimetype": "text/x-python",
   "name": "python",
   "nbconvert_exporter": "python",
   "pygments_lexer": "ipython3",
   "version": "3.7.3"
  }
 },
 "nbformat": 4,
 "nbformat_minor": 4
}
