{
 "cells": [
  {
   "cell_type": "code",
   "execution_count": 1,
   "metadata": {},
   "outputs": [],
   "source": [
    "import numpy as np\n",
    "from qiskit import(\n",
    "  QuantumCircuit,\n",
    "  execute,\n",
    "  BasicAer,\n",
    "  QuantumRegister,\n",
    "  ClassicalRegister\n",
    ")\n",
    "from qiskit.visualization import plot_histogram"
   ]
  },
  {
   "cell_type": "code",
   "execution_count": 2,
   "metadata": {},
   "outputs": [],
   "source": [
    "def gen_measurements(circuit, backend, shots):\n",
    "    N = len(circuit.qubits)\n",
    "    res = []\n",
    "    # z measurement\n",
    "    circ = circuit.copy()\n",
    "    circ.measure([x for x in range(N)],[x for x in range(N)])\n",
    "    result = execute(circ, backend=backend, shots=shots).result().get_counts()\n",
    "    for x in range(2**N):\n",
    "        key = '{number:0{width}b}'.format(width=N,number=x)\n",
    "        if key not in result:\n",
    "            result[key] = 0      \n",
    "    res.append(result)\n",
    "    # one-x measurements\n",
    "    for i in range(N):\n",
    "        circ = circuit.copy()\n",
    "        circ.h(i)\n",
    "        circ.measure([x for x in range(N)],[x for x in range(N)])\n",
    "        result = execute(circ, backend=backend, shots=shots).result().get_counts()\n",
    "        for x in range(2**N):\n",
    "            key = '{number:0{width}b}'.format(width=N,number=x)\n",
    "            if key not in result:\n",
    "                result[key] = 0      \n",
    "        res.append(result)\n",
    "    return res\n",
    "\n",
    "def estimate_vector(measurements, dim):\n",
    "    #absolute values estimation\n",
    "    meas = measurements[0]\n",
    "    estvect = [np.sqrt(meas.get('{number:0{width}b}'.format(width=dim,number=i))/sum(meas.values())) for i in range(2**dim)]\n",
    "    #signs \n",
    "    for i in range(dim):\n",
    "        estvect = np.reshape(estvect,(-1,2**i))\n",
    "        estvect = rel_sign(estvect, measurements[i+1], i)\n",
    "    estvect = np.reshape(estvect,(-1,2**dim))\n",
    "    return estvect\n",
    "\n",
    "def rel_sign(vect, measurement, n):\n",
    "    meas = sorted(measurement.items())\n",
    "    for i in range(0,len(vect),2):\n",
    "            if meas[i*(2**n)][1] < meas[(i+1)*(2**n)][1]:\n",
    "                vect[i+1] *= -1\n",
    "    return vect"
   ]
  },
  {
   "cell_type": "code",
   "execution_count": 6,
   "metadata": {},
   "outputs": [
    {
     "name": "stdout",
     "output_type": "stream",
     "text": [
      "Real vector: [ 0.0133037   0.17787972  0.05143998  0.01534008  0.17243966  0.09538567\n",
      " -0.18361977 -0.2082282   0.06490131 -0.18212693  0.10907535  0.06379422\n",
      " -0.02159684  0.0717469  -0.03967729  0.11846587  0.03408098 -0.04821098\n",
      " -0.10782044 -0.1745602  -0.07479563  0.18399008  0.18784807 -0.0173821\n",
      "  0.17363766  0.18032631 -0.11910093 -0.21857194  0.13004034 -0.12281693\n",
      " -0.21036158  0.00128238 -0.15441032 -0.14331005  0.03338858  0.05408904\n",
      "  0.11614812 -0.05539334 -0.13501242  0.00730328  0.04753614  0.04489713\n",
      "  0.15651751 -0.21960503  0.1194423   0.1575945  -0.13462875  0.19103362\n",
      "  0.05542984 -0.0588734  -0.00795047  0.18196389  0.06881131  0.12705652\n",
      "  0.02255045  0.1394396  -0.1559745   0.08303021 -0.04300533 -0.19271931\n",
      "  0.01893318 -0.03602596 -0.13425481 -0.17002628]\n",
      "Estimated: [[ 0.          0.18973666  0.05244044  0.01118034  0.17923448  0.09552487\n",
      "  -0.18506756 -0.20248457  0.07158911 -0.18027756  0.11779219  0.075\n",
      "  -0.01581139  0.07331439 -0.04330127  0.11510864  0.0295804  -0.05123475\n",
      "  -0.10062306 -0.17356555 -0.0813941   0.18674849  0.18234583 -0.01118034\n",
      "   0.1767767   0.18165902 -0.11672618 -0.21330729  0.12599603 -0.12093387\n",
      "  -0.21154196 -0.         -0.15811388 -0.14317821  0.02738613  0.05123475\n",
      "   0.11672618 -0.0591608  -0.12845233  0.01118034  0.04873397  0.03535534\n",
      "   0.15732133 -0.23048861  0.12298374  0.14790199 -0.12990381  0.18641352\n",
      "   0.06324555 -0.05477226 -0.01118034 -0.18439089  0.07826238  0.12698425\n",
      "   0.02236068  0.11401754 -0.1616323   0.07826238 -0.05       -0.18405162\n",
      "   0.02236068 -0.03354102 -0.14448183 -0.16955825]]\n"
     ]
    }
   ],
   "source": [
    "vect = np.random.rand(64)*2-1\n",
    "vect = vect/np.linalg.norm(vect)\n",
    "print(\"Real vector:\",vect)\n",
    "\n",
    "simulator = BasicAer.get_backend('qasm_simulator')\n",
    "\n",
    "circuit = QuantumCircuit(6, 6)\n",
    "circuit.initialize(vect,circuit.qubits)\n",
    "measurements = gen_measurements(circuit, simulator, 8000)\n",
    "vector = estimate_vector(measurements, len(circuit.qubits))\n",
    "\n",
    "print(\"Estimated:\",vector)"
   ]
  }
 ],
 "metadata": {
  "kernelspec": {
   "display_name": "Python 3",
   "language": "python",
   "name": "python3"
  },
  "language_info": {
   "codemirror_mode": {
    "name": "ipython",
    "version": 3
   },
   "file_extension": ".py",
   "mimetype": "text/x-python",
   "name": "python",
   "nbconvert_exporter": "python",
   "pygments_lexer": "ipython3",
   "version": "3.8.1"
  }
 },
 "nbformat": 4,
 "nbformat_minor": 4
}
