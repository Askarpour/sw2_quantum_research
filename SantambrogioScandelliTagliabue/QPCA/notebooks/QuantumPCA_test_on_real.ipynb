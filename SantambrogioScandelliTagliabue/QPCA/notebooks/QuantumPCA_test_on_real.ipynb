{
 "cells": [
  {
   "cell_type": "code",
   "execution_count": 1,
   "metadata": {},
   "outputs": [],
   "source": [
    "%run ../modules/qpca"
   ]
  },
  {
   "cell_type": "markdown",
   "metadata": {
    "colab_type": "text",
    "id": "6bepS3A5Evrt"
   },
   "source": [
    "<b>General implementation of a Quantum PCA for any size covariance matrices.</b>"
   ]
  },
  {
   "cell_type": "code",
   "execution_count": 2,
   "metadata": {
    "colab": {},
    "colab_type": "code",
    "id": "d7-fSYBcEvru"
   },
   "outputs": [],
   "source": [
    "import numpy as np\n",
    "import scipy\n",
    "from math import *\n",
    "from qiskit.visualization import plot_histogram\n",
    "from scipy.stats import ortho_group"
   ]
  },
  {
   "cell_type": "code",
   "execution_count": 3,
   "metadata": {},
   "outputs": [
    {
     "data": {
      "text/plain": [
       "<AccountProvider for IBMQ(hub='ibm-q', group='open', project='main')>"
      ]
     },
     "execution_count": 3,
     "metadata": {},
     "output_type": "execute_result"
    }
   ],
   "source": [
    "from qiskit import IBMQ\n",
    "IBMQ.load_account()"
   ]
  },
  {
   "cell_type": "code",
   "execution_count": 4,
   "metadata": {},
   "outputs": [],
   "source": [
    "provider = IBMQ.get_provider(group='open')\n",
    "provider.backends()\n",
    "backend = provider.get_backend('ibmq_athens')"
   ]
  },
  {
   "cell_type": "markdown",
   "metadata": {
    "colab_type": "text",
    "id": "g0rj3ROJEvr7"
   },
   "source": [
    "Generation of the covariance matrix and normalization"
   ]
  },
  {
   "cell_type": "code",
   "execution_count": 7,
   "metadata": {
    "colab": {},
    "colab_type": "code",
    "id": "hDmQ-VFAEvr7",
    "outputId": "fbc92795-8cb4-49e7-f4b3-b2a0abf0a86d"
   },
   "outputs": [
    {
     "name": "stdout",
     "output_type": "stream",
     "text": [
      "[[ 0.245019    0.09313585 -0.071616    0.03574989]\n",
      " [ 0.09313585  0.22063789  0.02256142  0.14435303]\n",
      " [-0.071616    0.02256142  0.28989122  0.03076787]\n",
      " [ 0.03574989  0.14435303  0.03076787  0.24445189]]\n",
      "Eigenvalues: \n",
      "[0.07180329 0.16469016 0.33986836 0.42363818]\n",
      "Eigenvectors: \n",
      "[[ 0.34308179 -0.67913033  0.46063842  0.4570439 ]\n",
      " [-0.75820741 -0.01097697 -0.09185463  0.6454175 ]\n",
      " [ 0.11456495 -0.51499527 -0.84948834  0.00492931]\n",
      " [ 0.5424862   0.52291622 -0.24030091  0.6119827 ]]\n"
     ]
    }
   ],
   "source": [
    "#number of features\n",
    "N = 4\n",
    "\n",
    "data = scipy.random.rand(10,N)*20\n",
    "means = np.mean(data,axis=0)\n",
    "u=np.ones(len(data))[None] \n",
    "u=u.reshape((len(data),1)) \n",
    "means=means.reshape((len(data[0]),1))\n",
    "centered = data-np.dot(u,means.T)\n",
    "\n",
    "\n",
    "\n",
    "covmat = np.dot(centered.transpose(),centered)\n",
    "covmat=covmat/np.trace(covmat)\n",
    "\n",
    "#covmat = [[ 0.58116991,-0.21442533],[-0.21442533 ,0.41883009]]\n",
    "\n",
    "for r in covmat:\n",
    "    #print(\"&\".join([str(c.round(4)) for c in r])+\"\\\\\")\n",
    "    pass\n",
    "print(covmat)\n",
    "\n",
    "\n",
    "eigvals, eigvecs = np.linalg.eig(covmat)\n",
    "idx = np.argsort(eigvals)\n",
    "eigvals = eigvals[idx]\n",
    "eigvecs = eigvecs[:,idx]\n",
    "\n",
    "#print(\"&\".join([str(c.round(4)) for c in eigval])+\"\\\\\")\n",
    "print(\"Eigenvalues: \")\n",
    "print(eigvals)\n",
    "print(\"Eigenvectors: \")\n",
    "print(eigvecs)\n",
    "for r in eigvecs:\n",
    "    #print(\"&\".join([str(c.round(4)) for c in r])+\"\\\\\")\n",
    "    pass\n",
    "\n"
   ]
  },
  {
   "cell_type": "code",
   "execution_count": 8,
   "metadata": {},
   "outputs": [
    {
     "name": "stdout",
     "output_type": "stream",
     "text": [
      "Eigvector associated to 0.0718: [0.3431,-0.7582,0.1146,0.5425 ].\n",
      "Eigvector associated to 0.16469: [-0.6791,-0.011,-0.515,0.5229 ].\n",
      "Eigvector associated to 0.33987: [0.4606,-0.0919,-0.8495,-0.2403 ].\n",
      "Eigvector associated to 0.42364: [0.457,0.6454,0.0049,0.612 ].\n"
     ]
    }
   ],
   "source": [
    "for i in range(N):\n",
    "    print(f\"Eigvector associated to {np.round(eigvals[i].real,5)}: [{','.join([str(j.real) for j in np.round(eigvecs.T[i],4)])} ].\")\n",
    "\n"
   ]
  },
  {
   "cell_type": "code",
   "execution_count": 9,
   "metadata": {},
   "outputs": [],
   "source": [
    "def select_eigenvalues(eigenvalues_occurrences, bits, n):\n",
    "    max_val = 1\n",
    "    relevant_eigvals = []\n",
    "\n",
    "    for i in range(n):\n",
    "        eigenvalues_occurrences = [j for j in eigenvalues_occurrences if j[0] <= max_val]\n",
    "        if len(eigenvalues_occurrences)<=0:\n",
    "            break\n",
    "        most_relevant = eigenvalues_occurrences.pop(-1)[0]\n",
    "        max_val -= most_relevant - (0.5**(bits+1))\n",
    "        relevant_eigvals.append(most_relevant)\n",
    "    return relevant_eigvals"
   ]
  },
  {
   "cell_type": "code",
   "execution_count": null,
   "metadata": {
    "colab": {},
    "colab_type": "code",
    "id": "Ze0vHW8WEvr_",
    "outputId": "5f60b732-e8ab-47c6-bea4-b86d49b46612"
   },
   "outputs": [],
   "source": [
    "bits = 3\n",
    "shots_per_vec1 = 100\n",
    "shots_per_vec2 = 1000\n",
    "roundoff = 0\n",
    "\n",
    "pool = ortho_group.rvs(dim=N)\n",
    "res = None\n",
    "for i in range(N):\n",
    "    initial = pool[i]\n",
    "    if res is None:\n",
    "        res = qpca(covmat,bits,initial= initial, req_shots = shots_per_vec1, nbitsroundoff = roundoff, backend=backend)\n",
    "    else:\n",
    "        res.merge(qpca(covmat,bits,initial= initial, req_shots = shots_per_vec1, nbitsroundoff = roundoff, backend=backend))\n",
    "        \n",
    "eigval_occurences = res.get_eigvals()\n",
    "\n",
    "print(eigval_occurences)\n",
    "\n",
    "#THRESHOLDING\n",
    "\n",
    "relevant_eigvals = select_eigenvalues(eigval_occurences, bits-roundoff, N)\n",
    "\n",
    "print(relevant_eigvals)\n",
    "\n",
    "eigvec_weights = [i/sum(relevant_eigvals) for i in relevant_eigvals]\n",
    "\n",
    "\n",
    "result = None\n",
    "for eigval,weight in zip(relevant_eigvals,eigvec_weights):\n",
    "    initial = res.eigvec_from_eigval(eigval)\n",
    "    print(f\"Using estimate for {eigval}: {initial}, with weight: {weight}\")\n",
    "    if len(initial)==0:\n",
    "        continue\n",
    "    if result is None:\n",
    "        result = qpca(covmat,bits,initial= initial, req_shots = int(shots_per_vec2*weight*N+1), nbitsroundoff = roundoff, backend=backend)\n",
    "    else:\n",
    "        result.merge(qpca(covmat,bits,initial= initial, req_shots = int(shots_per_vec2*weight*N+1), nbitsroundoff = roundoff, backend=backend))\n",
    "\n",
    "print(result.get_eigvals())\n",
    "\n",
    "#RETRIEVE EIGVECTORS ESTIMATES\n",
    "\n",
    "plot_histogram(result.get_eigvals(False))\n",
    "\n",
    "final_eigenvalues = result.get_eigvals()\n",
    "\n",
    "eigenvectors = [result.eigvec_from_eigval(i[0]) for i in final_eigenvalues[-N:]]\n",
    "\n",
    "for i in eigenvectors:\n",
    "    print(\" \",i)\n",
    "    "
   ]
  },
  {
   "cell_type": "code",
   "execution_count": 106,
   "metadata": {},
   "outputs": [
    {
     "data": {
      "image/png": "[encoded data removed]",
      "text/plain": [
       "<Figure size 504x360 with 1 Axes>"
      ]
     },
     "execution_count": 106,
     "metadata": {},
     "output_type": "execute_result"
    }
   ],
   "source": [
    "plot_histogram(result.get_eigvals(False))"
   ]
  },
  {
   "cell_type": "code",
   "execution_count": 110,
   "metadata": {},
   "outputs": [
    {
     "name": "stdout",
     "output_type": "stream",
     "text": [
      "[0.25, 0.75]\n",
      "eigenvalues considered  [0.25, 0.75]\n",
      "[[0.365 0.211]\n",
      " [0.211 0.635]]\n",
      "[[0.369 0.168]\n",
      " [0.168 0.631]]\n",
      "reconstruction error l2 norm  0.07924920521341995\n",
      "vectors orthogonality error  0.026314415455551087\n"
     ]
    }
   ],
   "source": [
    "K = 2\n",
    "\n",
    "#RETRIEVE EIGVECTORS ESTIMATES\n",
    "estimated_eigenvalues = sorted(select_eigenvalues(result.get_eigvals(), bits-roundoff, N))\n",
    "print(estimated_eigenvalues)\n",
    "estimated_eigvals = [i for i in estimated_eigenvalues[-K:]]\n",
    "print(\"eigenvalues considered \", estimated_eigvals)\n",
    "eigenvectors = [result.eigvec_from_eigval(i) for i in estimated_eigenvalues]\n",
    "\n",
    "eigval_diag = np.diag(estimated_eigvals)\n",
    "estimated_eigvecs = np.array(eigenvectors[-K:]).T\n",
    "\n",
    "lowrank_covmat_est = np.matmul(np.matmul(estimated_eigvecs,eigval_diag),estimated_eigvecs.T)\n",
    "lowrank_covmat = np.matmul(np.matmul(eigvecs[:,-K:],np.diag(eigvals[-K:])),eigvecs[:,-K:].T)\n",
    "#print(np.round(estimated_eigvecs,3))\n",
    "#print(np.round(eigvecs[:,-K:],3))\n",
    "diff = lowrank_covmat_est - lowrank_covmat\n",
    "print(np.round(lowrank_covmat_est,3))\n",
    "print(np.round(lowrank_covmat,3))\n",
    "print(\"reconstruction error l2 norm \",np.linalg.norm(diff)/np.linalg.norm(lowrank_covmat))\n",
    "\n",
    "#VECTORS ORTHOGONALITY\n",
    "U = np.matmul(estimated_eigvecs.T, estimated_eigvecs)\n",
    "print(\"vectors orthogonality error \",np.linalg.norm(U - np.eye(K))/K)"
   ]
  },
  {
   "cell_type": "code",
   "execution_count": null,
   "metadata": {},
   "outputs": [],
   "source": []
  }
 ],
 "metadata": {
  "colab": {
   "name": "QuantumPCA test.ipynb",
   "provenance": []
  },
  "kernelspec": {
   "display_name": "Python 3",
   "language": "python",
   "name": "python3"
  },
  "language_info": {
   "codemirror_mode": {
    "name": "ipython",
    "version": 3
   },
   "file_extension": ".py",
   "mimetype": "text/x-python",
   "name": "python",
   "nbconvert_exporter": "python",
   "pygments_lexer": "ipython3",
   "version": "3.8.1"
  }
 },
 "nbformat": 4,
 "nbformat_minor": 4
}
