{
 "cells": [
  {
   "cell_type": "code",
   "execution_count": 1,
   "metadata": {},
   "outputs": [],
   "source": [
    "%run ../modules/qpca"
   ]
  },
  {
   "cell_type": "markdown",
   "metadata": {
    "colab_type": "text",
    "id": "6bepS3A5Evrt"
   },
   "source": [
    "<b>General implementation of a Quantum PCA for any size covariance matrices.</b>"
   ]
  },
  {
   "cell_type": "code",
   "execution_count": 2,
   "metadata": {
    "colab": {},
    "colab_type": "code",
    "id": "d7-fSYBcEvru"
   },
   "outputs": [],
   "source": [
    "import numpy as np\n",
    "import scipy\n",
    "from math import *\n",
    "from qiskit.visualization import plot_histogram"
   ]
  },
  {
   "cell_type": "markdown",
   "metadata": {
    "colab_type": "text",
    "id": "g0rj3ROJEvr7"
   },
   "source": [
    "Generation of the covariance matrix and normalization"
   ]
  },
  {
   "cell_type": "code",
   "execution_count": 18,
   "metadata": {
    "colab": {},
    "colab_type": "code",
    "id": "hDmQ-VFAEvr7",
    "outputId": "fbc92795-8cb4-49e7-f4b3-b2a0abf0a86d"
   },
   "outputs": [
    {
     "name": "stdout",
     "output_type": "stream",
     "text": [
      "[[ 0.33357937  0.08967467 -0.03323781  0.06170738]\n",
      " [ 0.08967467  0.17091269  0.08103015  0.02002656]\n",
      " [-0.03323781  0.08103015  0.23928192  0.11411546]\n",
      " [ 0.06170738  0.02002656  0.11411546  0.25622602]]\n",
      "Eigenvalues: \n",
      "[0.42349093 0.3361911  0.05677389 0.18354408]\n",
      "Eigenvectors: \n",
      "[[ 0.61977545  0.69639438 -0.35705775  0.05850655]\n",
      " [ 0.39215791  0.02847075  0.62586034 -0.67357288]\n",
      " [ 0.40080051 -0.6262992  -0.58025751 -0.33227923]\n",
      " [ 0.54904418 -0.34924718  0.379618    0.65762229]]\n"
     ]
    }
   ],
   "source": [
    "#number of features\n",
    "N = 4\n",
    "\n",
    "data = scipy.random.rand(10,N)*20\n",
    "means = np.mean(data,axis=0)\n",
    "u=np.ones(len(data))[None] \n",
    "u=u.reshape((len(data),1)) \n",
    "means=means.reshape((len(data[0]),1))\n",
    "centered = data-np.dot(u,means.T)\n",
    "\n",
    "covmat = np.dot(centered.transpose(),centered)\n",
    "covmat=covmat/np.trace(covmat)\n",
    "print(covmat)\n",
    "eigval, eigvec = np.linalg.eig(covmat)\n",
    "print(\"Eigenvalues: \")\n",
    "print(eigval)\n",
    "print(\"Eigenvectors: \")\n",
    "print(eigvec)"
   ]
  },
  {
   "cell_type": "code",
   "execution_count": 22,
   "metadata": {
    "colab": {},
    "colab_type": "code",
    "id": "Ze0vHW8WEvr_",
    "outputId": "5f60b732-e8ab-47c6-bea4-b86d49b46612"
   },
   "outputs": [
    {
     "name": "stdout",
     "output_type": "stream",
     "text": [
      "first_approx [ 0.53458358 -0.22015499 -0.70077363 -0.4179336 ]\n",
      "last_approx [ 0.53458358 -0.22015499 -0.70077363 -0.4179336 ]\n",
      "{0.375: 8569, 0.625: 257, 0.5: 692, 0.25: 1793, 0.0: 216, 0.75: 149, 0.125: 474, 0.875: 138}\n",
      "[(0.875, 138), (0.75, 149), (0.0, 216), (0.625, 257), (0.125, 474), (0.5, 692), (0.25, 1793), (0.375, 8569)]\n"
     ]
    }
   ],
   "source": [
    "bits = 3\n",
    "#initial =[ 0.28526355, -0.14474718, -0.02720251,  0.03417223]\n",
    "initial = [ 0.53458358, -0.22015499 ,-0.70077363, -0.4179336 ]\n",
    "res=qpca(covmat,bits,initialeig= initial ,iterations=1)\n",
    "\n",
    "print(res.get_eigvals())"
   ]
  },
  {
   "cell_type": "code",
   "execution_count": 23,
   "metadata": {},
   "outputs": [
    {
     "data": {
      "image/png": "[encoded data removed]",
      "text/plain": [
       "<Figure size 504x360 with 1 Axes>"
      ]
     },
     "execution_count": 23,
     "metadata": {},
     "output_type": "execute_result"
    }
   ],
   "source": [
    "plot_histogram(res.get_eigvals(False))"
   ]
  },
  {
   "cell_type": "code",
   "execution_count": 24,
   "metadata": {
    "colab": {},
    "colab_type": "code",
    "id": "-stfcAuxEvsC",
    "outputId": "d0abae00-421a-44c3-9fe8-82a26b7dd44b"
   },
   "outputs": [
    {
     "name": "stdout",
     "output_type": "stream",
     "text": [
      "[[ 0.74605662 -0.09875576 -0.59429542 -0.28365431]]\n"
     ]
    }
   ],
   "source": [
    "eigval_to_find = 0.375\n",
    "eigv = res.eigvec_from_eigval(eigval_to_find)\n",
    "print(eigv)"
   ]
  },
  {
   "cell_type": "code",
   "execution_count": null,
   "metadata": {},
   "outputs": [],
   "source": []
  },
  {
   "cell_type": "code",
   "execution_count": null,
   "metadata": {},
   "outputs": [],
   "source": []
  }
 ],
 "metadata": {
  "colab": {
   "name": "QuantumPCA test.ipynb",
   "provenance": []
  },
  "kernelspec": {
   "display_name": "Python 3",
   "language": "python",
   "name": "python3"
  },
  "language_info": {
   "codemirror_mode": {
    "name": "ipython",
    "version": 3
   },
   "file_extension": ".py",
   "mimetype": "text/x-python",
   "name": "python",
   "nbconvert_exporter": "python",
   "pygments_lexer": "ipython3",
   "version": "3.8.1"
  }
 },
 "nbformat": 4,
 "nbformat_minor": 4
}
