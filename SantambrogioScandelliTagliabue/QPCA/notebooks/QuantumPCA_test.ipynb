{
 "cells": [
  {
   "cell_type": "code",
   "execution_count": 7,
   "metadata": {},
   "outputs": [],
   "source": [
    "%run ../modules/qpca"
   ]
  },
  {
   "cell_type": "markdown",
   "metadata": {
    "colab_type": "text",
    "id": "6bepS3A5Evrt"
   },
   "source": [
    "<b>General implementation of a Quantum PCA for any size covariance matrices.</b>"
   ]
  },
  {
   "cell_type": "code",
   "execution_count": 8,
   "metadata": {
    "colab": {},
    "colab_type": "code",
    "id": "d7-fSYBcEvru"
   },
   "outputs": [],
   "source": [
    "import numpy as np\n",
    "import scipy\n",
    "from math import *\n",
    "from qiskit.visualization import plot_histogram"
   ]
  },
  {
   "cell_type": "markdown",
   "metadata": {
    "colab_type": "text",
    "id": "g0rj3ROJEvr7"
   },
   "source": [
    "Generation of the covariance matrix and normalization"
   ]
  },
  {
   "cell_type": "code",
   "execution_count": 9,
   "metadata": {
    "colab": {},
    "colab_type": "code",
    "id": "hDmQ-VFAEvr7",
    "outputId": "fbc92795-8cb4-49e7-f4b3-b2a0abf0a86d"
   },
   "outputs": [
    {
     "name": "stdout",
     "output_type": "stream",
     "text": [
      "[[ 0.22325321 -0.02181576 -0.0785794   0.13732288]\n",
      " [-0.02181576  0.2528709   0.03668986  0.13220711]\n",
      " [-0.0785794   0.03668986  0.25223403  0.00509261]\n",
      " [ 0.13732288  0.13220711  0.00509261  0.27164186]]\n",
      "Eigenvalues: \n",
      "[0.04505501 0.43784417 0.33754706 0.17955376]\n",
      "Eigenvectors: \n",
      "[[ 0.61652716  0.46329     0.49927814  0.39494048]\n",
      " [ 0.43654886  0.46474758 -0.52266859 -0.5659084 ]\n",
      " [ 0.17206909 -0.08369437 -0.68831291  0.69972339]\n",
      " [-0.63222748  0.74991154 -0.06135327  0.1848158 ]]\n"
     ]
    }
   ],
   "source": [
    "#number of features\n",
    "N = 4\n",
    "\n",
    "data = scipy.random.rand(10,N)*20\n",
    "means = np.mean(data,axis=0)\n",
    "u=np.ones(len(data))[None] \n",
    "u=u.reshape((len(data),1)) \n",
    "means=means.reshape((len(data[0]),1))\n",
    "centered = data-np.dot(u,means.T)\n",
    "\n",
    "covmat = np.dot(centered.transpose(),centered)\n",
    "covmat=covmat/np.trace(covmat)\n",
    "print(covmat)\n",
    "eigval, eigvec = np.linalg.eig(covmat)\n",
    "print(\"Eigenvalues: \")\n",
    "print(eigval)\n",
    "print(\"Eigenvectors: \")\n",
    "print(eigvec)"
   ]
  },
  {
   "cell_type": "code",
   "execution_count": 10,
   "metadata": {
    "colab": {},
    "colab_type": "code",
    "id": "Ze0vHW8WEvr_",
    "outputId": "5f60b732-e8ab-47c6-bea4-b86d49b46612"
   },
   "outputs": [
    {
     "name": "stdout",
     "output_type": "stream",
     "text": [
      "first_approx [0.5 0.5 0.5 0.5]\n",
      "last_approx [ 0.48057989  0.44797722 -0.4195538   0.6263657 ]\n",
      "[(0.875, 144), (0.75, 149), (0.625, 319), (0.0, 624), (0.25, 791), (0.125, 843), (0.5, 2236), (0.375, 3086)]\n"
     ]
    }
   ],
   "source": [
    "bits = 3\n",
    "#initial =[ 0.28526355, -0.14474718, -0.02720251,  0.03417223]\n",
    "initial = None\n",
    "res=qpca(covmat,bits,initialeig= initial ,iterations=1)\n",
    "\n",
    "print(res.get_eigvals())"
   ]
  },
  {
   "cell_type": "code",
   "execution_count": 11,
   "metadata": {},
   "outputs": [
    {
     "data": {
      "image/png": "[encoded data removed]",
      "text/plain": [
       "<Figure size 504x360 with 1 Axes>"
      ]
     },
     "execution_count": 11,
     "metadata": {},
     "output_type": "execute_result"
    }
   ],
   "source": [
    "plot_histogram(res.get_eigvals(False))"
   ]
  },
  {
   "cell_type": "code",
   "execution_count": 12,
   "metadata": {
    "colab": {},
    "colab_type": "code",
    "id": "-stfcAuxEvsC",
    "outputId": "d0abae00-421a-44c3-9fe8-82a26b7dd44b"
   },
   "outputs": [
    {
     "name": "stdout",
     "output_type": "stream",
     "text": [
      "[0.45676372 0.47793019 0.12722834 0.73943397]\n"
     ]
    }
   ],
   "source": [
    "eigval_to_find = 0.5\n",
    "eigv = res.eigvec_from_eigval(eigval_to_find)\n",
    "print(eigv)"
   ]
  },
  {
   "cell_type": "code",
   "execution_count": null,
   "metadata": {},
   "outputs": [],
   "source": []
  }
 ],
 "metadata": {
  "colab": {
   "name": "QuantumPCA test.ipynb",
   "provenance": []
  },
  "kernelspec": {
   "display_name": "Python 3",
   "language": "python",
   "name": "python3"
  },
  "language_info": {
   "codemirror_mode": {
    "name": "ipython",
    "version": 3
   },
   "file_extension": ".py",
   "mimetype": "text/x-python",
   "name": "python",
   "nbconvert_exporter": "python",
   "pygments_lexer": "ipython3",
   "version": "3.8.1"
  }
 },
 "nbformat": 4,
 "nbformat_minor": 4
}
