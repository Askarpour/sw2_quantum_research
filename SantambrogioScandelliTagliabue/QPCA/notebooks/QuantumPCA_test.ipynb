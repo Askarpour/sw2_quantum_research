{
 "cells": [
  {
   "cell_type": "code",
   "execution_count": 1,
   "metadata": {},
   "outputs": [],
   "source": [
    "%run ../modules/qpca"
   ]
  },
  {
   "cell_type": "markdown",
   "metadata": {
    "colab_type": "text",
    "id": "6bepS3A5Evrt"
   },
   "source": [
    "<b>General implementation of a Quantum PCA for any size covariance matrices.</b>"
   ]
  },
  {
   "cell_type": "code",
   "execution_count": 2,
   "metadata": {
    "colab": {},
    "colab_type": "code",
    "id": "d7-fSYBcEvru"
   },
   "outputs": [],
   "source": [
    "import numpy as np\n",
    "import scipy\n",
    "from math import *\n",
    "from qiskit.visualization import plot_histogram\n",
    "from scipy.stats import ortho_group"
   ]
  },
  {
   "cell_type": "markdown",
   "metadata": {
    "colab_type": "text",
    "id": "g0rj3ROJEvr7"
   },
   "source": [
    "Generation of the covariance matrix and normalization"
   ]
  },
  {
   "cell_type": "code",
   "execution_count": 3,
   "metadata": {
    "colab": {},
    "colab_type": "code",
    "id": "hDmQ-VFAEvr7",
    "outputId": "fbc92795-8cb4-49e7-f4b3-b2a0abf0a86d"
   },
   "outputs": [
    {
     "name": "stdout",
     "output_type": "stream",
     "text": [
      "[[ 0.30848749  0.1474397  -0.11145724 -0.06306453]\n",
      " [ 0.1474397   0.25339695  0.03675925 -0.12829206]\n",
      " [-0.11145724  0.03675925  0.30526153  0.01095866]\n",
      " [-0.06306453 -0.12829206  0.01095866  0.13285403]]\n",
      "Eigenvalues: \n",
      "[0.50025217 0.03631935 0.1235661  0.33986238]\n",
      "Eigenvectors: \n",
      "[[-0.70806067 -0.27798963  0.63903877 -0.11402326]\n",
      " [-0.54157895  0.63271712 -0.23545567  0.50092106]\n",
      " [ 0.32062881 -0.22961216  0.40275667  0.82599182]\n",
      " [ 0.32021789  0.68532406  0.61153671 -0.23197909]]\n"
     ]
    }
   ],
   "source": [
    "#number of features\n",
    "N = 4\n",
    "\n",
    "data = scipy.random.rand(10,N)*20\n",
    "means = np.mean(data,axis=0)\n",
    "u=np.ones(len(data))[None] \n",
    "u=u.reshape((len(data),1)) \n",
    "means=means.reshape((len(data[0]),1))\n",
    "centered = data-np.dot(u,means.T)\n",
    "\n",
    "\n",
    "\n",
    "covmat = np.dot(centered.transpose(),centered)\n",
    "covmat=covmat/np.trace(covmat)\n",
    "\n",
    "for r in covmat:\n",
    "    #print(\"&\".join([str(c.round(4)) for c in r])+\"\\\\\")\n",
    "    pass\n",
    "print(covmat)\n",
    "eigval, eigvec = np.linalg.eig(covmat)\n",
    "#print(\"&\".join([str(c.round(4)) for c in eigval])+\"\\\\\")\n",
    "print(\"Eigenvalues: \")\n",
    "print(eigval)\n",
    "print(\"Eigenvectors: \")\n",
    "print(eigvec)\n",
    "for r in eigvec:\n",
    "    #print(\"&\".join([str(c.round(4)) for c in r])+\"\\\\\")\n",
    "    pass"
   ]
  },
  {
   "cell_type": "code",
   "execution_count": 4,
   "metadata": {},
   "outputs": [
    {
     "name": "stdout",
     "output_type": "stream",
     "text": [
      "Eigvector associated to 0.50025: [-0.7081,-0.5416,0.3206,0.3202 ].\n",
      "Eigvector associated to 0.03632: [-0.278,0.6327,-0.2296,0.6853 ].\n",
      "Eigvector associated to 0.12357: [0.639,-0.2355,0.4028,0.6115 ].\n",
      "Eigvector associated to 0.33986: [-0.114,0.5009,0.826,-0.232 ].\n"
     ]
    }
   ],
   "source": [
    "for i in range(N):\n",
    "    print(f\"Eigvector associated to {np.round(eigval[i].real,5)}: [{','.join([str(j.real) for j in np.round(eigvec.T[i],4)])} ].\")\n",
    "\n"
   ]
  },
  {
   "cell_type": "code",
   "execution_count": 49,
   "metadata": {
    "colab": {},
    "colab_type": "code",
    "id": "Ze0vHW8WEvr_",
    "outputId": "5f60b732-e8ab-47c6-bea4-b86d49b46612"
   },
   "outputs": [
    {
     "name": "stdout",
     "output_type": "stream",
     "text": [
      "[(0.15625, 1), (0.046875, 2), (0.140625, 2), (0.03125, 24), (0.125, 27), (0.5, 32), (0.34375, 32)]\n",
      "[0.03125, 0.125, 0.5, 0.34375]\n",
      "Using estimate for 0.03125: [ 0.          0.63245553  0.4472136  -0.63245553], with weight: 0.03125\n",
      "Using estimate for 0.125: [ 0.35355339 -0.5         0.35355339  0.70710678], with weight: 0.125\n",
      "Using estimate for 0.5: [ 0.73854895  0.52223297 -0.30151134 -0.30151134], with weight: 0.5\n",
      "Using estimate for 0.34375: [ 0.33333333 -0.47140452 -0.74535599  0.33333333], with weight: 0.34375\n",
      "[(0.0625, 1), (0.078125, 1), (0.09375, 1), (0.53125, 1), (0.46875, 1), (0.171875, 1), (0.515625, 2), (0.484375, 2), (0.03125, 5), (0.140625, 5), (0.109375, 6), (0.125, 364), (0.34375, 1041), (0.5, 1578)]\n",
      "  [1. 0. 0. 0.]\n",
      "  [ 0.64375027 -0.21223818  0.39134787  0.62240452]\n",
      "  [ 0.09245003 -0.50071174 -0.82689823  0.23870496]\n",
      "  [ 0.72027564  0.51845636 -0.32732684 -0.32444284]\n"
     ]
    }
   ],
   "source": [
    "bits = 9\n",
    "shots_per_vec1 = 10\n",
    "shots_per_vec2 = 1000\n",
    "threshold_perc = 0.008\n",
    "roundoff = 3\n",
    "\n",
    "pool = ortho_group.rvs(dim=N)\n",
    "res = None\n",
    "for i in range(N):\n",
    "    initial = pool[i]\n",
    "    if res is None:\n",
    "        res = qpca(covmat,bits,initial= initial, req_shots = shots_per_vec1, nbitsroundoff = roundoff)\n",
    "    else:\n",
    "        res.merge(qpca(covmat,bits,initial= initial, req_shots = shots_per_vec1, nbitsroundoff = roundoff))\n",
    "        \n",
    "eigval_occurences = res.get_eigvals()\n",
    "\n",
    "print(eigval_occurences)\n",
    "\n",
    "#THRESHOLDING\n",
    "\n",
    "relevant_eigvals = [i[0] for i in eigval_occurences[-N:]]\n",
    "\n",
    "print(relevant_eigvals)\n",
    "\n",
    "eigvec_weights = [i/sum(relevant_eigvals) for i in relevant_eigvals]\n",
    "\n",
    "\n",
    "result = None\n",
    "for eigval,weight in zip(relevant_eigvals,eigvec_weights):\n",
    "    initial = res.eigvec_from_eigval(eigval)\n",
    "    print(f\"Using estimate for {eigval}: {initial}, with weight: {weight}\")\n",
    "    if len(initial)==0:\n",
    "        continue\n",
    "    if result is None:\n",
    "        result = qpca(covmat,bits,initial= initial, req_shots = int(shots_per_vec2*weight+1), nbitsroundoff = roundoff)\n",
    "    else:\n",
    "        result.merge(qpca(covmat,bits,initial= initial, req_shots = int(shots_per_vec2*weight+1), nbitsroundoff = roundoff))\n",
    "\n",
    "print(result.get_eigvals())\n",
    "\n",
    "#RETRIEVE EIGVECTORS ESTIMATES\n",
    "\n",
    "plot_histogram(result.get_eigvals(False))\n",
    "\n",
    "final_eigenvalues = result.get_eigvals()\n",
    "\n",
    "eigenvectors = [result.eigvec_from_eigval(i[0]) for i in final_eigenvalues[-N:]]\n",
    "\n",
    "for i in eigenvectors:\n",
    "    print(\" \",i)"
   ]
  },
  {
   "cell_type": "code",
   "execution_count": 29,
   "metadata": {},
   "outputs": [
    {
     "ename": "AttributeError",
     "evalue": "'numpy.ndarray' object has no attribute 'get_eigvals'",
     "output_type": "error",
     "traceback": [
      "\u001b[1;31m---------------------------------------------------------------------------\u001b[0m",
      "\u001b[1;31mAttributeError\u001b[0m                            Traceback (most recent call last)",
      "\u001b[1;32m<ipython-input-29-9831677bc2b9>\u001b[0m in \u001b[0;36m<module>\u001b[1;34m\u001b[0m\n\u001b[1;32m----> 1\u001b[1;33m \u001b[0mplot_histogram\u001b[0m\u001b[1;33m(\u001b[0m\u001b[0mr\u001b[0m\u001b[1;33m.\u001b[0m\u001b[0mget_eigvals\u001b[0m\u001b[1;33m(\u001b[0m\u001b[1;32mFalse\u001b[0m\u001b[1;33m)\u001b[0m\u001b[1;33m)\u001b[0m\u001b[1;33m\u001b[0m\u001b[1;33m\u001b[0m\u001b[0m\n\u001b[0m",
      "\u001b[1;31mAttributeError\u001b[0m: 'numpy.ndarray' object has no attribute 'get_eigvals'"
     ]
    }
   ],
   "source": [
    "plot_histogram(r.get_eigvals(False))"
   ]
  },
  {
   "cell_type": "code",
   "execution_count": 38,
   "metadata": {},
   "outputs": [
    {
     "name": "stdout",
     "output_type": "stream",
     "text": [
      "Measurements:  [{'1011': 1, '1000': 2, '0111': 2, '0110': 1, '1010': 1, '0011': 1, '0101': 1, '0010': 1}, {'0100': 4, '1000': 3, '1111': 4, '0111': 4, '1001': 3, '0010': 4, '0001': 2, '0101': 1}, {'0100': 2, '0110': 1, '0000': 1, '1110': 1, '0011': 5, '0111': 2, '1101': 2, '1000': 1}, {'0011': 3, '1001': 2, '1000': 3, '0111': 3, '0010': 1, '0000': 1, '1100': 5, '1101': 1, '0001': 1, '0100': 1}, {'1110': 2, '1011': 4, '1111': 3, '0100': 1, '0111': 2, '1101': 3, '1000': 2, '0011': 1, '1001': 1, '0010': 3, '0101': 1}]\n"
     ]
    },
    {
     "data": {
      "text/plain": [
       "array([ 0.        , -0.        ,  0.31622777,  0.31622777,  0.        ,\n",
       "        0.31622777,  0.31622777, -0.4472136 , -0.4472136 , -0.        ,\n",
       "       -0.31622777, -0.31622777,  0.        ,  0.        , -0.        ,\n",
       "        0.        ])"
      ]
     },
     "execution_count": 38,
     "metadata": {},
     "output_type": "execute_result"
    }
   ],
   "source": [
    "r.eigvec_from_eigval(0.09375)\n"
   ]
  },
  {
   "cell_type": "code",
   "execution_count": 39,
   "metadata": {},
   "outputs": [
    {
     "name": "stdout",
     "output_type": "stream",
     "text": [
      "Measurements:  [{'1011': 1, '1000': 2, '0111': 2, '0110': 1, '1010': 1, '0011': 1, '0101': 1, '0010': 1}, {'0100': 4, '1000': 3, '1111': 4, '0111': 4, '1001': 3, '0010': 4, '0001': 2, '0101': 1}, {'0100': 2, '0110': 1, '0000': 1, '1110': 1, '0011': 5, '0111': 2, '1101': 2, '1000': 1}, {'0011': 3, '1001': 2, '1000': 3, '0111': 3, '0010': 1, '0000': 1, '1100': 5, '1101': 1, '0001': 1, '0100': 1}, {'1110': 2, '1011': 4, '1111': 3, '0100': 1, '0111': 2, '1101': 3, '1000': 2, '0011': 1, '1001': 1, '0010': 3, '0101': 1}]\n"
     ]
    }
   ],
   "source": [
    "rnew = qpca(covmat,bits,initial= r.eigvec_from_eigval(0.09375), req_shots = 1000, nbitsroundoff = 4)"
   ]
  },
  {
   "cell_type": "code",
   "execution_count": 40,
   "metadata": {
    "colab": {},
    "colab_type": "code",
    "id": "-stfcAuxEvsC",
    "outputId": "d0abae00-421a-44c3-9fe8-82a26b7dd44b"
   },
   "outputs": [
    {
     "data": {
      "image/png": "[encoded data removed]",
      "text/plain": [
       "<Figure size 504x360 with 1 Axes>"
      ]
     },
     "execution_count": 40,
     "metadata": {},
     "output_type": "execute_result"
    }
   ],
   "source": [
    "plot_histogram(rnew.get_eigvals(False))"
   ]
  },
  {
   "cell_type": "code",
   "execution_count": 41,
   "metadata": {},
   "outputs": [
    {
     "name": "stdout",
     "output_type": "stream",
     "text": [
      "Measurements:  [{'0101': 9, '0011': 27, '1011': 5, '1110': 21, '1111': 6, '1000': 65, '1010': 3, '0111': 47, '0010': 22, '0100': 18, '1001': 3, '0110': 12, '1101': 5, '0001': 7, '1100': 11}, {'0101': 14, '1100': 17, '1011': 4, '1111': 17, '1000': 28, '0000': 9, '0111': 41, '1001': 23, '0001': 6, '0100': 20, '0110': 2, '0010': 61, '1110': 7, '1101': 1, '0011': 1, '1010': 2}, {'0101': 6, '1010': 34, '0011': 51, '1100': 7, '1011': 1, '1000': 30, '0111': 36, '0100': 24, '1001': 10, '0010': 11, '1101': 8, '1110': 14, '0001': 5, '0000': 11, '0110': 13}, {'0101': 13, '0011': 22, '1100': 56, '1000': 20, '0001': 12, '0111': 35, '0010': 19, '0100': 20, '1001': 3, '0110': 21, '1010': 4, '1111': 1, '1101': 5, '1110': 11, '1011': 1, '0000': 6}, {'0101': 11, '0011': 17, '1111': 18, '1100': 4, '1011': 13, '1000': 36, '0001': 2, '0010': 19, '0100': 18, '1001': 10, '0111': 15, '0000': 23, '1101': 8, '1010': 5, '1110': 12, '0110': 18}]\n"
     ]
    },
    {
     "data": {
      "text/plain": [
       "array([ 0.        ,  0.16376789,  0.29032945,  0.32163376, -0.26261287,\n",
       "       -0.18569534, -0.21442251,  0.42435437, -0.49904123, -0.10721125,\n",
       "        0.10721125, -0.13840913,  0.20529392,  0.13840913, -0.28365431,\n",
       "        0.15161961])"
      ]
     },
     "execution_count": 41,
     "metadata": {},
     "output_type": "execute_result"
    }
   ],
   "source": [
    "rnew.eigvec_from_eigval(0.09375)"
   ]
  },
  {
   "cell_type": "code",
   "execution_count": null,
   "metadata": {},
   "outputs": [],
   "source": []
  }
 ],
 "metadata": {
  "colab": {
   "name": "QuantumPCA test.ipynb",
   "provenance": []
  },
  "kernelspec": {
   "display_name": "Python 3",
   "language": "python",
   "name": "python3"
  },
  "language_info": {
   "codemirror_mode": {
    "name": "ipython",
    "version": 3
   },
   "file_extension": ".py",
   "mimetype": "text/x-python",
   "name": "python",
   "nbconvert_exporter": "python",
   "pygments_lexer": "ipython3",
   "version": "3.8.1"
  }
 },
 "nbformat": 4,
 "nbformat_minor": 4
}
