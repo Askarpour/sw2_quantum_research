{
 "metadata": {
  "language_info": {
   "codemirror_mode": {
    "name": "ipython",
    "version": 3
   },
   "file_extension": ".py",
   "mimetype": "text/x-python",
   "name": "python",
   "nbconvert_exporter": "python",
   "pygments_lexer": "ipython3",
   "version": 3
  },
  "orig_nbformat": 2
 },
 "nbformat": 4,
 "nbformat_minor": 2,
 "cells": [
  {
   "cell_type": "code",
   "execution_count": null,
   "metadata": {},
   "outputs": [],
   "source": [
    "#------------------------------\n",
    "# COMPARISON REAL AND SIM\n",
    "#------------------------------\n",
    "import seaborn as sns\n",
    "from matplotlib import pyplot as plt\n",
    "import numpy\n",
    "sns.set(font_scale=2)  \n",
    "plt.figure(figsize=(8, 8)) # width and height in inches\n",
    "\n",
    "df = pd.DataFrame({\n",
    "    'Label': list(results.label),\n",
    "    'Simulation': list(results.prob_simulation),\n",
    "    'Real': list(results.prob_real)\n",
    "})\n",
    "\n",
    "tidy = df.melt(id_vars='Label').rename(columns=str.title)\n",
    "tidy.columns = ['Label', 'Type', 'Probability']\n",
    "ax = sns.barplot(x='Label', y='Probability', hue='Type', data=tidy, palette=['black', 'white'], edgecolor='black')\n",
    "\n",
    "for index, row in tidy.iterrows():\n",
    "    if row.Type == 'Real': \n",
    "      ax.text(index - 7.77 ,row.Probability+0.005, round(row.Probability, 2), color='black', ha=\"center\", fontsize=11)\n",
    "    if row.Type == 'Simulation': \n",
    "      ax.text(index - 0.2, row.Probability+0.005, round(row.Probability, 2), color='black', ha=\"center\", fontsize=11)\n",
    "#ax.patch.set_edgecolor('black') \n",
    "\n",
    "plt.grid(axis='both')\n",
    "plt.savefig('results_CQW.png', format='png', transparent=True)"
   ]
  }
 ]
}