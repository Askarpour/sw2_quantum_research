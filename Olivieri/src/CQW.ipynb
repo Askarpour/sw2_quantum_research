{
  "nbformat": 4,
  "nbformat_minor": 0,
  "metadata": {
    "colab": {
      "name": "CQW.ipynb",
      "provenance": [],
      "collapsed_sections": []
    },
    "kernelspec": {
      "name": "python3",
      "display_name": "Python 3"
    }
  },
  "cells": [
    {
      "cell_type": "code",
      "metadata": {
        "id": "R_0VTdJ0OdkH"
      },
      "source": [
        "from google.colab import drive\n",
        "from google.colab import output"
      ],
      "execution_count": null,
      "outputs": []
    },
    {
      "cell_type": "code",
      "metadata": {
        "id": "Dl_Y-YJIOPfI"
      },
      "source": [
        "!pip install qiskit\n",
        "output.clear() #clear the cell output"
      ],
      "execution_count": null,
      "outputs": []
    },
    {
      "cell_type": "code",
      "metadata": {
        "id": "yZdGhd02OVBu"
      },
      "source": [
        "from qiskit import *"
      ],
      "execution_count": null,
      "outputs": []
    },
    {
      "cell_type": "code",
      "metadata": {
        "id": "j0-w-En2OsbK"
      },
      "source": [
        "#increment operator for a 3-bit state register\n",
        "def increment_op(circuit):\n",
        "    qr = circuit.qubits\n",
        "    \n",
        "    circuit.mct([qr[0],qr[1],qr[2]],qr[3],None,mode='noancilla')\n",
        "    circuit.ccx(qr[0],qr[1],qr[2])\n",
        "    circuit.cx(qr[0],qr[1])\n",
        "\n",
        "    return circuit"
      ],
      "execution_count": null,
      "outputs": []
    },
    {
      "cell_type": "code",
      "metadata": {
        "id": "jl2bUjzoPQ2i"
      },
      "source": [
        "#decrement operator for a 3-bit state register\n",
        "\n",
        "def decrement_op(circuit):\n",
        "    qr = circuit.qubits\n",
        "\n",
        "    circuit.x(qr)   \n",
        "    circuit.mct([qr[0],qr[1],qr[2]],qr[3],None,mode='noancilla')\n",
        "    circuit.ccx(qr[0],qr[1],qr[2])\n",
        "    circuit.cx(qr[0],qr[1])\n",
        "    circuit.x(qr)\n",
        "\n",
        "    return circuit"
      ],
      "execution_count": null,
      "outputs": []
    },
    {
      "cell_type": "code",
      "metadata": {
        "id": "Pe1mqdIEPjaH"
      },
      "source": [
        "def quantum_walk_step(circuit):\n",
        "    #increment operator circuit\n",
        "    qr_incr = QuantumRegister(4)\n",
        "    increment_circ = QuantumCircuit(qr_incr, name='increment')\n",
        "    increment_op(increment_circ)\n",
        "    increment_inst = increment_circ.to_instruction()\n",
        "\n",
        "    #decrement operator circuit\n",
        "    qr_decr = QuantumRegister(4)\n",
        "    decrement_circ = QuantumCircuit(qr_decr, name='decrement')\n",
        "    decrement_op(decrement_circ)sns.set(font_scale=5)  \n",
        "    decrement_inst = decrement_circ.to_instruction()\n",
        "\n",
        "    circuit.h(qr[0]) #coin\n",
        "    circuit.append(increment_inst, qr[0:4]) # adder\n",
        "    circuit.append(decrement_inst, qr[0:4]) # decrementer\n",
        "    \n",
        "    return circuit   "
      ],
      "execution_count": null,
      "outputs": []
    },
    {
      "cell_type": "code",
      "metadata": {
        "id": "H4up0lM3PsRm"
      },
      "source": [
        "def quantum_walk(steps, circuit):\n",
        "    for i in range(0, steps):\n",
        "        random_walk_step(circuit)\n",
        "    return circuit"
      ],
      "execution_count": null,
      "outputs": []
    },
    {
      "cell_type": "code",
      "metadata": {
        "colab": {
          "base_uri": "https://localhost:8080/",
          "height": 186
        },
        "id": "Q4fYm92ZHHwq",
        "outputId": "a3a1be5d-1e02-4b68-d161-ca9dbe76d2b0"
      },
      "source": [
        "#construct the circuit\n",
        "qr = QuantumRegister(4)\n",
        "cr = ClassicalRegister(3)\n",
        "circuit = QuantumCircuit(qr, cr)\n",
        "\n",
        "quantum_walk_step(circuit)\n",
        "\n",
        "circuit.draw()"
      ],
      "execution_count": null,
      "outputs": [
        {
          "output_type": "execute_result",
          "data": {
            "text/html": [
              "<pre style=\"word-wrap: normal;white-space: pre;background: #fff0;line-height: 1.1;font-family: &quot;Courier New&quot;,Courier,monospace\">      ┌───┐┌────────────┐┌────────────┐\n",
              "q0_0: ┤ H ├┤0           ├┤0           ├\n",
              "      └───┘│            ││            │\n",
              "q0_1: ─────┤1           ├┤1           ├\n",
              "           │  increment ││  decrement │\n",
              "q0_2: ─────┤2           ├┤2           ├\n",
              "           │            ││            │\n",
              "q0_3: ─────┤3           ├┤3           ├\n",
              "           └────────────┘└────────────┘\n",
              "c0: 3/═════════════════════════════════\n",
              "                                       </pre>"
            ],
            "text/plain": [
              "      ┌───┐┌────────────┐┌────────────┐\n",
              "q0_0: ┤ H ├┤0           ├┤0           ├\n",
              "      └───┘│            ││            │\n",
              "q0_1: ─────┤1           ├┤1           ├\n",
              "           │  increment ││  decrement │\n",
              "q0_2: ─────┤2           ├┤2           ├\n",
              "           │            ││            │\n",
              "q0_3: ─────┤3           ├┤3           ├\n",
              "           └────────────┘└────────────┘\n",
              "c0: 3/═════════════════════════════════\n",
              "                                       "
            ]
          },
          "metadata": {
            "tags": []
          },
          "execution_count": 8
        }
      ]
    },
    {
      "cell_type": "code",
      "metadata": {
        "colab": {
          "base_uri": "https://localhost:8080/",
          "height": 186
        },
        "id": "7YgYfU2RHr6s",
        "outputId": "873f8a35-087a-4152-83dd-a43a64198f6e"
      },
      "source": [
        "# the decomposed version\n",
        "decomposed = circuit.decompose()\n",
        "decomposed.draw()"
      ],
      "execution_count": null,
      "outputs": [
        {
          "output_type": "execute_result",
          "data": {
            "text/html": [
              "<pre style=\"word-wrap: normal;white-space: pre;background: #fff0;line-height: 1.1;font-family: &quot;Courier New&quot;,Courier,monospace\">      ┌─────────┐               ┌───┐               ┌───┐\n",
              "q0_0: ┤ U2(0,π) ├──■────■────■──┤ X ├──■────■────■──┤ X ├\n",
              "      └─────────┘  │    │  ┌─┴─┐├───┤  │    │  ┌─┴─┐├───┤\n",
              "q0_1: ─────────────■────■──┤ X ├┤ X ├──■────■──┤ X ├┤ X ├\n",
              "                   │  ┌─┴─┐├───┤└───┘  │  ┌─┴─┐├───┤└───┘\n",
              "q0_2: ─────────────■──┤ X ├┤ X ├───────■──┤ X ├┤ X ├─────\n",
              "                 ┌─┴─┐├───┤└───┘     ┌─┴─┐├───┤└───┘     \n",
              "q0_3: ───────────┤ X ├┤ X ├──────────┤ X ├┤ X ├──────────\n",
              "                 └───┘└───┘          └───┘└───┘          \n",
              "c0: 3/═══════════════════════════════════════════════════\n",
              "                                                         </pre>"
            ],
            "text/plain": [
              "      ┌─────────┐               ┌───┐               ┌───┐\n",
              "q0_0: ┤ U2(0,π) ├──■────■────■──┤ X ├──■────■────■──┤ X ├\n",
              "      └─────────┘  │    │  ┌─┴─┐├───┤  │    │  ┌─┴─┐├───┤\n",
              "q0_1: ─────────────■────■──┤ X ├┤ X ├──■────■──┤ X ├┤ X ├\n",
              "                   │  ┌─┴─┐├───┤└───┘  │  ┌─┴─┐├───┤└───┘\n",
              "q0_2: ─────────────■──┤ X ├┤ X ├───────■──┤ X ├┤ X ├─────\n",
              "                 ┌─┴─┐├───┤└───┘     ┌─┴─┐├───┤└───┘     \n",
              "q0_3: ───────────┤ X ├┤ X ├──────────┤ X ├┤ X ├──────────\n",
              "                 └───┘└───┘          └───┘└───┘          \n",
              "c0: 3/═══════════════════════════════════════════════════\n",
              "                                                         "
            ]
          },
          "metadata": {
            "tags": []
          },
          "execution_count": 9
        }
      ]
    },
    {
      "cell_type": "code",
      "metadata": {
        "id": "gs4Ah9bpPwK8"
      },
      "source": [
        "#construct the circuit\n",
        "qr = QuantumRegister(4)\n",
        "cr = ClassicalRegister(3)\n",
        "circuit = QuantumCircuit(qr, cr)\n",
        "\n",
        "# perform a walk of n-steps and measure at the end\n",
        "STEPS = 5\n",
        "\n",
        "for i in range(0, STEPS):\n",
        "  quantum_walk_step(circuit)\n",
        "circuit.measure(qr[1:4], cr)\n",
        "\n",
        "#simulate the circuit\n",
        "simulator = Aer.get_backend('qasm_simulator')\n",
        "result_simulation = execute(circuit, simulator).result()"
      ],
      "execution_count": null,
      "outputs": []
    },
    {
      "cell_type": "code",
      "metadata": {
        "colab": {
          "base_uri": "https://localhost:8080/",
          "height": 340
        },
        "id": "ht5vFd85SEK7",
        "outputId": "64ff6c11-2a9b-446c-a9bd-6d8fe09173d9"
      },
      "source": [
        "\n",
        "from qiskit.tools.visualization import plot_histogram, plot_circuit_layout\n",
        "plot_histogram(result_simulation.get_counts(circuit))"
      ],
      "execution_count": null,
      "outputs": [
        {
          "output_type": "execute_result",
          "data": {
            "image/png": "[encoded data removed]",
            "text/plain": [
              "<Figure size 504x360 with 1 Axes>"
            ]
          },
          "metadata": {
            "tags": []
          },
          "execution_count": 11
        }
      ]
    },
    {
      "cell_type": "code",
      "metadata": {
        "id": "PEWhWWbGP3UH"
      },
      "source": [
        "from qiskit import IBMQ\n",
        "IBMQ.save_account()"
      ],
      "execution_count": null,
      "outputs": []
    },
    {
      "cell_type": "code",
      "metadata": {
        "colab": {
          "base_uri": "https://localhost:8080/"
        },
        "id": "SDNkUxEQP49U",
        "outputId": "3a5f0267-fdf3-4f04-c409-af594ef5c45a"
      },
      "source": [
        "IBMQ.load_account()"
      ],
      "execution_count": null,
      "outputs": [
        {
          "output_type": "stream",
          "text": [
            "/usr/local/lib/python3.6/dist-packages/qiskit/providers/ibmq/ibmqfactory.py:192: UserWarning: Timestamps in IBMQ backend properties, jobs, and job results are all now in local time instead of UTC.\n",
            "  warnings.warn('Timestamps in IBMQ backend properties, jobs, and job results '\n"
          ],
          "name": "stderr"
        },
        {
          "output_type": "execute_result",
          "data": {
            "text/plain": [
              "<AccountProvider for IBMQ(hub='ibm-q', group='open', project='main')>"
            ]
          },
          "metadata": {
            "tags": []
          },
          "execution_count": 13
        }
      ]
    },
    {
      "cell_type": "code",
      "metadata": {
        "id": "ipS2xEseP8qX"
      },
      "source": [
        "provider = IBMQ.get_provider('ibm-q')"
      ],
      "execution_count": null,
      "outputs": []
    },
    {
      "cell_type": "code",
      "metadata": {
        "id": "bom_-Kb-LkyD"
      },
      "source": [
        "qcomp = provider.get_backend('ibmq_16_melbourne')"
      ],
      "execution_count": null,
      "outputs": []
    },
    {
      "cell_type": "code",
      "metadata": {
        "id": "JWb_of-SLsjw"
      },
      "source": [
        "job = execute(circuit, backend=qcomp)"
      ],
      "execution_count": null,
      "outputs": []
    },
    {
      "cell_type": "code",
      "metadata": {
        "id": "Ywpau8n0L4QG"
      },
      "source": [
        "from qiskit.tools.monitor import job_monitor"
      ],
      "execution_count": null,
      "outputs": []
    },
    {
      "cell_type": "code",
      "metadata": {
        "colab": {
          "base_uri": "https://localhost:8080/"
        },
        "id": "xQ6IdrCDL9Lb",
        "outputId": "7db5498f-e882-45a7-e617-506db851d468"
      },
      "source": [
        "job_monitor(job)"
      ],
      "execution_count": null,
      "outputs": [
        {
          "output_type": "stream",
          "text": [
            "Job Status: job has successfully run\n"
          ],
          "name": "stdout"
        }
      ]
    },
    {
      "cell_type": "code",
      "metadata": {
        "id": "ZX_HgIscMHMI"
      },
      "source": [
        "result = job.result()"
      ],
      "execution_count": null,
      "outputs": []
    },
    {
      "cell_type": "code",
      "metadata": {
        "id": "pg5fjNmiMNcP",
        "colab": {
          "base_uri": "https://localhost:8080/",
          "height": 340
        },
        "outputId": "58b1add4-b7a3-4647-df9d-0445d5bc8681"
      },
      "source": [
        "plot_histogram(result.get_counts(circuit))"
      ],
      "execution_count": null,
      "outputs": [
        {
          "output_type": "execute_result",
          "data": {
            "image/png": "[encoded data removed]",
            "text/plain": [
              "<Figure size 504x360 with 1 Axes>"
            ]
          },
          "metadata": {
            "tags": []
          },
          "execution_count": 20
        }
      ]
    },
    {
      "cell_type": "code",
      "metadata": {
        "colab": {
          "base_uri": "https://localhost:8080/",
          "height": 301
        },
        "id": "xv82o-bKtO7U",
        "outputId": "a7a271f2-e419-46fa-c378-b7995dd13ec9"
      },
      "source": [
        "#------------------------------\n",
        "# RESULTS CHART\n",
        "#------------------------------\n",
        "import pandas as pd\n",
        "\n",
        "rsim = result_simulation.get_counts()\n",
        "real = result.get_counts()\n",
        "\n",
        "SHOTS = 1024\n",
        "labels = ['000', '001', '010', '011', '100', '101', '110', '111']\n",
        "\n",
        "rsim_dict = {}\n",
        "real_dict = {}\n",
        "for l in labels:\n",
        "  rsim_dict[l] = rsim.get(l) / SHOTS if l in rsim.keys() else 0\n",
        "  real_dict[l] = real.get(l) / SHOTS if l in real.keys() else 0\n",
        "\n",
        "rsim_df = pd.DataFrame.from_dict(rsim_dict.items())\n",
        "real_df = pd.DataFrame.from_dict(real_dict.items())\n",
        "\n",
        "# assign different labels\n",
        "rsim_df.columns = ['label', 'prob_simulation']\n",
        "real_df.columns = ['label', 'prob_real']\n",
        "\n",
        "# join simul and real result on labels\n",
        "results = pd.merge(rsim_df, real_df, on='label')\n",
        "results"
      ],
      "execution_count": null,
      "outputs": [
        {
          "output_type": "execute_result",
          "data": {
            "text/html": [
              "<div>\n",
              "<style scoped>\n",
              "    .dataframe tbody tr th:only-of-type {\n",
              "        vertical-align: middle;\n",
              "    }\n",
              "\n",
              "    .dataframe tbody tr th {\n",
              "        vertical-align: top;\n",
              "    }\n",
              "\n",
              "    .dataframe thead th {\n",
              "        text-align: right;\n",
              "    }\n",
              "</style>\n",
              "<table border=\"1\" class=\"dataframe\">\n",
              "  <thead>\n",
              "    <tr style=\"text-align: right;\">\n",
              "      <th></th>\n",
              "      <th>label</th>\n",
              "      <th>prob_simulation</th>\n",
              "      <th>prob_real</th>\n",
              "    </tr>\n",
              "  </thead>\n",
              "  <tbody>\n",
              "    <tr>\n",
              "      <th>0</th>\n",
              "      <td>000</td>\n",
              "      <td>0.000000</td>\n",
              "      <td>0.135742</td>\n",
              "    </tr>\n",
              "    <tr>\n",
              "      <th>1</th>\n",
              "      <td>001</td>\n",
              "      <td>0.130859</td>\n",
              "      <td>0.133789</td>\n",
              "    </tr>\n",
              "    <tr>\n",
              "      <th>2</th>\n",
              "      <td>010</td>\n",
              "      <td>0.000000</td>\n",
              "      <td>0.119141</td>\n",
              "    </tr>\n",
              "    <tr>\n",
              "      <th>3</th>\n",
              "      <td>011</td>\n",
              "      <td>0.133789</td>\n",
              "      <td>0.142578</td>\n",
              "    </tr>\n",
              "    <tr>\n",
              "      <th>4</th>\n",
              "      <td>100</td>\n",
              "      <td>0.000000</td>\n",
              "      <td>0.114258</td>\n",
              "    </tr>\n",
              "    <tr>\n",
              "      <th>5</th>\n",
              "      <td>101</td>\n",
              "      <td>0.603516</td>\n",
              "      <td>0.106445</td>\n",
              "    </tr>\n",
              "    <tr>\n",
              "      <th>6</th>\n",
              "      <td>110</td>\n",
              "      <td>0.000000</td>\n",
              "      <td>0.120117</td>\n",
              "    </tr>\n",
              "    <tr>\n",
              "      <th>7</th>\n",
              "      <td>111</td>\n",
              "      <td>0.131836</td>\n",
              "      <td>0.127930</td>\n",
              "    </tr>\n",
              "  </tbody>\n",
              "</table>\n",
              "</div>"
            ],
            "text/plain": [
              "  label  prob_simulation  prob_real\n",
              "0   000         0.000000   0.135742\n",
              "1   001         0.130859   0.133789\n",
              "2   010         0.000000   0.119141\n",
              "3   011         0.133789   0.142578\n",
              "4   100         0.000000   0.114258\n",
              "5   101         0.603516   0.106445\n",
              "6   110         0.000000   0.120117\n",
              "7   111         0.131836   0.127930"
            ]
          },
          "metadata": {
            "tags": []
          },
          "execution_count": 21
        }
      ]
    },
    {
      "cell_type": "code",
      "metadata": {
        "colab": {
          "base_uri": "https://localhost:8080/",
          "height": 558
        },
        "id": "rxNi5Gx4vIq4",
        "outputId": "de6b7ed8-6677-4e09-ea64-4de3d9cee241"
      },
      "source": [
        "#------------------------------\n",
        "# COMPARISON REAL AND SIM\n",
        "#------------------------------\n",
        "import seaborn as sns\n",
        "from matplotlib import pyplot as plt\n",
        "sns.set(font_scale=2)  \n",
        "plt.figure(figsize=(8, 8)) # width and height in inches\n",
        "\n",
        "df = pd.DataFrame({\n",
        "    'Label': list(results.label),\n",
        "    'Simulation': list(results.prob_simulation),\n",
        "    'Real': list(results.prob_real)\n",
        "})\n",
        "\n",
        "tidy = df.melt(id_vars='Label').rename(columns=str.title)\n",
        "tidy.columns = ['Label', 'Type', 'Probability']\n",
        "ax = sns.barplot(x='Label', y='Probability', hue='Type', data=tidy, palette='mako')\n",
        "plt.savefig('results_CQW.eps', format='eps')"
      ],
      "execution_count": null,
      "outputs": [
        {
          "output_type": "stream",
          "text": [
            "The PostScript backend does not support transparency; partially transparent artists will be rendered opaque.\n",
            "The PostScript backend does not support transparency; partially transparent artists will be rendered opaque.\n"
          ],
          "name": "stderr"
        },
        {
          "output_type": "display_data",
          "data": {
            "image/png": "[encoded data removed]",
            "text/plain": [
              "<Figure size 576x576 with 1 Axes>"
            ]
          },
          "metadata": {
            "tags": []
          }
        }
      ]
    },
    {
      "cell_type": "code",
      "metadata": {
        "id": "sicpXMnR8Fxo"
      },
      "source": [
        ""
      ],
      "execution_count": null,
      "outputs": []
    }
  ]
}