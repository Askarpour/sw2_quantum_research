{
  "nbformat": 4,
  "nbformat_minor": 0,
  "metadata": {
    "colab": {
      "name": "CQW.ipynb",
      "provenance": [],
      "collapsed_sections": []
    },
    "kernelspec": {
      "display_name": "Python 3",
      "name": "python3"
    }
  },
  "cells": [
    {
      "cell_type": "code",
      "metadata": {
        "id": "R_0VTdJ0OdkH"
      },
      "source": [
        "from google.colab import drive\n",
        "from google.colab import output"
      ],
      "execution_count": null,
      "outputs": []
    },
    {
      "cell_type": "code",
      "metadata": {
        "id": "Dl_Y-YJIOPfI"
      },
      "source": [
        "!pip install qiskit\n",
        "output.clear() #clear the cell output"
      ],
      "execution_count": null,
      "outputs": []
    },
    {
      "cell_type": "code",
      "metadata": {
        "id": "yZdGhd02OVBu"
      },
      "source": [
        "from qiskit import *"
      ],
      "execution_count": null,
      "outputs": []
    },
    {
      "cell_type": "code",
      "metadata": {
        "id": "j0-w-En2OsbK"
      },
      "source": [
        "#--------------------------------------------------\n",
        "# INCREMENT CIRC FOR 3-BIT STATE REGISTER\n",
        "#--------------------------------------------------\n",
        "def increment_op(circuit):\n",
        "    qr = circuit.qubits\n",
        "    \n",
        "    circuit.mct([qr[0],qr[1],qr[2]],qr[3],None,mode='noancilla')\n",
        "    circuit.ccx(qr[0],qr[1],qr[2])\n",
        "    circuit.cx(qr[0],qr[1])\n",
        "\n",
        "    return circuit"
      ],
      "execution_count": null,
      "outputs": []
    },
    {
      "cell_type": "code",
      "metadata": {
        "id": "jl2bUjzoPQ2i"
      },
      "source": [
        "#--------------------------------------------------\n",
        "# DECREMENT CIRC FOR 3-BIT STATE REGISTER\n",
        "#--------------------------------------------------\n",
        "def decrement_op(circuit):\n",
        "    qr = circuit.qubits\n",
        "\n",
        "    circuit.barrier()\n",
        "    circuit.x([qr[0], qr[1], qr[2]])\n",
        "\n",
        "    circuit.mct([qr[0],qr[1],qr[2]],qr[3],None,mode='noancilla')\n",
        "    circuit.ccx(qr[0],qr[1],qr[2])\n",
        "    circuit.cx(qr[0],qr[1])\n",
        "\n",
        "    circuit.barrier()  \n",
        "    circuit.x([qr[0], qr[1], qr[2]])\n",
        "       \n",
        "    return circuit"
      ],
      "execution_count": null,
      "outputs": []
    },
    {
      "cell_type": "code",
      "metadata": {
        "id": "Pe1mqdIEPjaH"
      },
      "source": [
        "def quantum_walk_step(circuit):\n",
        "    #increment circuit\n",
        "    qr_incr = QuantumRegister(4)\n",
        "    increment_circ = QuantumCircuit(qr_incr, name='increment')\n",
        "    increment_op(increment_circ)\n",
        "    increment_inst = increment_circ.to_instruction()\n",
        "\n",
        "    #decrement circuit\n",
        "    qr_decr = QuantumRegister(4)\n",
        "    decrement_circ = QuantumCircuit(qr_decr, name='decrement')\n",
        "    decrement_op(decrement_circ)\n",
        "    decrement_inst = decrement_circ.to_instruction()\n",
        "\n",
        "    circuit.h(qr[0]) #coin\n",
        "    circuit.append(increment_inst, qr[0:4]) # adder\n",
        "    circuit.append(decrement_inst, qr[0:4]) # decrementer\n",
        "    \n",
        "    return circuit   "
      ],
      "execution_count": null,
      "outputs": []
    },
    {
      "cell_type": "code",
      "metadata": {
        "colab": {
          "base_uri": "https://localhost:8080/",
          "height": 186
        },
        "id": "Q4fYm92ZHHwq",
        "outputId": "b38d4d61-7c50-4d72-ad67-8034374ab0e2"
      },
      "source": [
        "# construct the circuit\n",
        "# just for showing\n",
        "\n",
        "qr = QuantumRegister(4)\n",
        "cr = ClassicalRegister(3)\n",
        "circuit = QuantumCircuit(qr, cr)\n",
        "\n",
        "quantum_walk_step(circuit)\n",
        "\n",
        "circuit.draw()"
      ],
      "execution_count": null,
      "outputs": [
        {
          "output_type": "execute_result",
          "data": {
            "text/html": [
              "<pre style=\"word-wrap: normal;white-space: pre;background: #fff0;line-height: 1.1;font-family: &quot;Courier New&quot;,Courier,monospace\">      ┌───┐┌────────────┐┌────────────┐\n",
              "q0_0: ┤ H ├┤0           ├┤0           ├\n",
              "      └───┘│            ││            │\n",
              "q0_1: ─────┤1           ├┤1           ├\n",
              "           │  increment ││  decrement │\n",
              "q0_2: ─────┤2           ├┤2           ├\n",
              "           │            ││            │\n",
              "q0_3: ─────┤3           ├┤3           ├\n",
              "           └────────────┘└────────────┘\n",
              "c0: 3/═════════════════════════════════\n",
              "                                       </pre>"
            ],
            "text/plain": [
              "      ┌───┐┌────────────┐┌────────────┐\n",
              "q0_0: ┤ H ├┤0           ├┤0           ├\n",
              "      └───┘│            ││            │\n",
              "q0_1: ─────┤1           ├┤1           ├\n",
              "           │  increment ││  decrement │\n",
              "q0_2: ─────┤2           ├┤2           ├\n",
              "           │            ││            │\n",
              "q0_3: ─────┤3           ├┤3           ├\n",
              "           └────────────┘└────────────┘\n",
              "c0: 3/═════════════════════════════════\n",
              "                                       "
            ]
          },
          "metadata": {
            "tags": []
          },
          "execution_count": 7
        }
      ]
    },
    {
      "cell_type": "code",
      "metadata": {
        "colab": {
          "base_uri": "https://localhost:8080/",
          "height": 186
        },
        "id": "7YgYfU2RHr6s",
        "outputId": "1209de4a-127d-44fe-ebef-5d0c31f6a765"
      },
      "source": [
        "# the decomposed version \n",
        "decomposed = circuit.decompose()\n",
        "decomposed.draw()"
      ],
      "execution_count": null,
      "outputs": [
        {
          "output_type": "execute_result",
          "data": {
            "text/html": [
              "<pre style=\"word-wrap: normal;white-space: pre;background: #fff0;line-height: 1.1;font-family: &quot;Courier New&quot;,Courier,monospace\">      ┌─────────┐                ░ ┌───┐                ░ ┌───┐\n",
              "q0_0: ┤ U2(0,π) ├──■────■────■───░─┤ X ├──■────■────■───░─┤ X ├\n",
              "      └─────────┘  │    │  ┌─┴─┐ ░ ├───┤  │    │  ┌─┴─┐ ░ ├───┤\n",
              "q0_1: ─────────────■────■──┤ X ├─░─┤ X ├──■────■──┤ X ├─░─┤ X ├\n",
              "                   │  ┌─┴─┐└───┘ ░ ├───┤  │  ┌─┴─┐└───┘ ░ ├───┤\n",
              "q0_2: ─────────────■──┤ X ├──────░─┤ X ├──■──┤ X ├──────░─┤ X ├\n",
              "                 ┌─┴─┐└───┘      ░ └───┘┌─┴─┐└───┘      ░ └───┘\n",
              "q0_3: ───────────┤ X ├───────────░──────┤ X ├───────────░──────\n",
              "                 └───┘           ░      └───┘           ░      \n",
              "c0: 3/═════════════════════════════════════════════════════════\n",
              "                                                               </pre>"
            ],
            "text/plain": [
              "      ┌─────────┐                ░ ┌───┐                ░ ┌───┐\n",
              "q0_0: ┤ U2(0,π) ├──■────■────■───░─┤ X ├──■────■────■───░─┤ X ├\n",
              "      └─────────┘  │    │  ┌─┴─┐ ░ ├───┤  │    │  ┌─┴─┐ ░ ├───┤\n",
              "q0_1: ─────────────■────■──┤ X ├─░─┤ X ├──■────■──┤ X ├─░─┤ X ├\n",
              "                   │  ┌─┴─┐└───┘ ░ ├───┤  │  ┌─┴─┐└───┘ ░ ├───┤\n",
              "q0_2: ─────────────■──┤ X ├──────░─┤ X ├──■──┤ X ├──────░─┤ X ├\n",
              "                 ┌─┴─┐└───┘      ░ └───┘┌─┴─┐└───┘      ░ └───┘\n",
              "q0_3: ───────────┤ X ├───────────░──────┤ X ├───────────░──────\n",
              "                 └───┘           ░      └───┘           ░      \n",
              "c0: 3/═════════════════════════════════════════════════════════\n",
              "                                                               "
            ]
          },
          "metadata": {
            "tags": []
          },
          "execution_count": 8
        }
      ]
    },
    {
      "cell_type": "code",
      "metadata": {
        "id": "gs4Ah9bpPwK8"
      },
      "source": [
        "#------------------------------\n",
        "# EXPERIMENT\n",
        "#------------------------------\n",
        "\n",
        "#construct the circuit\n",
        "qr = QuantumRegister(4)\n",
        "cr = ClassicalRegister(3)\n",
        "circuit = QuantumCircuit(qr, cr)\n",
        "\n",
        "# perform a walk of n-steps \n",
        "STEPS = 1\n",
        "\n",
        "for i in range(0, STEPS):\n",
        "  quantum_walk_step(circuit)\n",
        "\n",
        "# measure only at the end of the circuit \n",
        "circuit.measure([qr[1],qr[2], qr[3]], cr)\n",
        "\n",
        "#simulate the circuit\n",
        "simulator = Aer.get_backend('qasm_simulator')\n",
        "result_simulation = execute(circuit, simulator).result()"
      ],
      "execution_count": null,
      "outputs": []
    },
    {
      "cell_type": "code",
      "metadata": {
        "colab": {
          "base_uri": "https://localhost:8080/",
          "height": 340
        },
        "id": "ht5vFd85SEK7",
        "outputId": "99c82393-c955-43ac-b0c2-43d62a646f8c"
      },
      "source": [
        "from qiskit.tools.visualization import plot_histogram, plot_circuit_layout\n",
        "plot_histogram(result_simulation.get_counts(circuit))"
      ],
      "execution_count": null,
      "outputs": [
        {
          "output_type": "execute_result",
          "data": {
            "image/png": "[encoded data removed]",
            "text/plain": [
              "<Figure size 504x360 with 1 Axes>"
            ]
          },
          "metadata": {
            "tags": []
          },
          "execution_count": 10
        }
      ]
    },
    {
      "cell_type": "code",
      "metadata": {
        "id": "PEWhWWbGP3UH"
      },
      "source": [
        "from qiskit import IBMQ\n",
        "\n",
        "ACCOUNT_API_STRING = ''\n",
        "PROVIDER = 'ibm-q'\n",
        "BACKEND = 'ibmq_athens'\n",
        "\n",
        "\n",
        "IBMQ.save_account(ACCOUNT_API_STRING)\n",
        "IBMQ.load_account()\n",
        "provider = IBMQ.get_provider(PROVIDER)\n",
        "qcomp = provider.get_backend(BACKEND)"
      ],
      "execution_count": null,
      "outputs": []
    },
    {
      "cell_type": "code",
      "metadata": {
        "colab": {
          "base_uri": "https://localhost:8080/"
        },
        "id": "JWb_of-SLsjw",
        "outputId": "e0273060-9482-4b23-d701-4ab22c6b43a4"
      },
      "source": [
        "from qiskit.tools.monitor import job_monitor\n",
        "\n",
        "job = execute(circuit, backend=qcomp)\n",
        "job_monitor(job)"
      ],
      "execution_count": null,
      "outputs": [
        {
          "output_type": "stream",
          "text": [
            "Job Status: job has successfully run\n"
          ],
          "name": "stdout"
        }
      ]
    },
    {
      "cell_type": "code",
      "metadata": {
        "id": "7dIi3H5llxtJ"
      },
      "source": [
        "# store job results\n",
        "result = job.result()"
      ],
      "execution_count": null,
      "outputs": []
    },
    {
      "cell_type": "code",
      "metadata": {
        "id": "pg5fjNmiMNcP",
        "colab": {
          "base_uri": "https://localhost:8080/"
        },
        "outputId": "4ee56284-55c2-401c-dd7c-d2bce653558e"
      },
      "source": [
        "plot_histogram(result.get_counts(circuit), figsize=(12, 5))"
      ],
      "execution_count": null,
      "outputs": [
        {
          "output_type": "execute_result",
          "data": {
            "image/png": "[encoded data removed]",
            "text/plain": [
              "<Figure size 864x360 with 1 Axes>"
            ]
          },
          "metadata": {
            "tags": []
          },
          "execution_count": 14
        }
      ]
    },
    {
      "cell_type": "code",
      "metadata": {
        "id": "xv82o-bKtO7U",
        "colab": {
          "base_uri": "https://localhost:8080/"
        },
        "outputId": "ebe8c8d5-867b-4524-8434-80903de5a325"
      },
      "source": [
        "#------------------------------\n",
        "# RESULTS CHART\n",
        "#------------------------------\n",
        "import pandas as pd\n",
        "from time import strftime, gmtime\n",
        "\n",
        "rsim = result_simulation.get_counts()\n",
        "real = result.get_counts()\n",
        "\n",
        "SHOTS = 1024\n",
        "labels = ['000', '001', '010', '011', '100', '101', '110', '111']\n",
        "\n",
        "rsim_dict = {}\n",
        "real_dict = {}\n",
        "for l in labels:\n",
        "  rsim_dict[l] = rsim.get(l) / SHOTS if l in rsim.keys() else 0\n",
        "  real_dict[l] = real.get(l) / SHOTS if l in real.keys() else 0\n",
        "\n",
        "rsim_df = pd.DataFrame.from_dict(rsim_dict.items())\n",
        "real_df = pd.DataFrame.from_dict(real_dict.items())\n",
        "\n",
        "# assign different labels\n",
        "rsim_df.columns = ['label', 'prob_simulation']\n",
        "real_df.columns = ['label', 'prob_real']\n",
        "\n",
        "# join simul and real result on labels\n",
        "results = pd.merge(rsim_df, real_df, on='label')\n",
        "\n",
        "timestamp = strftime(\"%d-%m-%Y-%H:%M:%S\", gmtime())\n",
        "results.to_csv(\"CQW-experiment-{}.csv\".format(timestamp))\n",
        "results"
      ],
      "execution_count": null,
      "outputs": [
        {
          "output_type": "execute_result",
          "data": {
            "text/html": [
              "<div>\n",
              "<style scoped>\n",
              "    .dataframe tbody tr th:only-of-type {\n",
              "        vertical-align: middle;\n",
              "    }\n",
              "\n",
              "    .dataframe tbody tr th {\n",
              "        vertical-align: top;\n",
              "    }\n",
              "\n",
              "    .dataframe thead th {\n",
              "        text-align: right;\n",
              "    }\n",
              "</style>\n",
              "<table border=\"1\" class=\"dataframe\">\n",
              "  <thead>\n",
              "    <tr style=\"text-align: right;\">\n",
              "      <th></th>\n",
              "      <th>label</th>\n",
              "      <th>prob_simulation</th>\n",
              "      <th>prob_real</th>\n",
              "    </tr>\n",
              "  </thead>\n",
              "  <tbody>\n",
              "    <tr>\n",
              "      <th>0</th>\n",
              "      <td>000</td>\n",
              "      <td>0.000000</td>\n",
              "      <td>0.138672</td>\n",
              "    </tr>\n",
              "    <tr>\n",
              "      <th>1</th>\n",
              "      <td>001</td>\n",
              "      <td>0.514648</td>\n",
              "      <td>0.208008</td>\n",
              "    </tr>\n",
              "    <tr>\n",
              "      <th>2</th>\n",
              "      <td>010</td>\n",
              "      <td>0.000000</td>\n",
              "      <td>0.106445</td>\n",
              "    </tr>\n",
              "    <tr>\n",
              "      <th>3</th>\n",
              "      <td>011</td>\n",
              "      <td>0.000000</td>\n",
              "      <td>0.169922</td>\n",
              "    </tr>\n",
              "    <tr>\n",
              "      <th>4</th>\n",
              "      <td>100</td>\n",
              "      <td>0.000000</td>\n",
              "      <td>0.067383</td>\n",
              "    </tr>\n",
              "    <tr>\n",
              "      <th>5</th>\n",
              "      <td>101</td>\n",
              "      <td>0.000000</td>\n",
              "      <td>0.099609</td>\n",
              "    </tr>\n",
              "    <tr>\n",
              "      <th>6</th>\n",
              "      <td>110</td>\n",
              "      <td>0.000000</td>\n",
              "      <td>0.053711</td>\n",
              "    </tr>\n",
              "    <tr>\n",
              "      <th>7</th>\n",
              "      <td>111</td>\n",
              "      <td>0.485352</td>\n",
              "      <td>0.156250</td>\n",
              "    </tr>\n",
              "  </tbody>\n",
              "</table>\n",
              "</div>"
            ],
            "text/plain": [
              "  label  prob_simulation  prob_real\n",
              "0   000         0.000000   0.138672\n",
              "1   001         0.514648   0.208008\n",
              "2   010         0.000000   0.106445\n",
              "3   011         0.000000   0.169922\n",
              "4   100         0.000000   0.067383\n",
              "5   101         0.000000   0.099609\n",
              "6   110         0.000000   0.053711\n",
              "7   111         0.485352   0.156250"
            ]
          },
          "metadata": {
            "tags": []
          },
          "execution_count": 15
        }
      ]
    },
    {
      "cell_type": "code",
      "metadata": {
        "id": "rxNi5Gx4vIq4",
        "colab": {
          "base_uri": "https://localhost:8080/",
          "height": 523
        },
        "outputId": "9e933a11-1d5a-4f59-fe78-7d9e65b76046"
      },
      "source": [
        "#------------------------------\n",
        "# COMPARISON REAL AND SIM\n",
        "#------------------------------\n",
        "import seaborn as sns\n",
        "from matplotlib import pyplot as plt\n",
        "import numpy\n",
        "sns.set(font_scale=2)  \n",
        "plt.figure(figsize=(8, 8)) # width and height in inches\n",
        "\n",
        "df = pd.DataFrame({\n",
        "    'Label': list(results.label),\n",
        "    'Simulation': list(results.prob_simulation),\n",
        "    'Real': list(results.prob_real)\n",
        "})\n",
        "\n",
        "tidy = df.melt(id_vars='Label').rename(columns=str.title)\n",
        "tidy.columns = ['Label', 'Type', 'Probability']\n",
        "ax = sns.barplot(x='Label', y='Probability', hue='Type', data=tidy, palette=['black', 'white'], edgecolor='black')\n",
        "\n",
        "for index, row in tidy.iterrows():\n",
        "    if row.Type == 'Real': \n",
        "      ax.text(index - 7.77 ,row.Probability+0.005, round(row.Probability, 2), color='black', ha=\"center\", fontsize=11)\n",
        "    if row.Type == 'Simulation': \n",
        "      ax.text(index - 0.2, row.Probability+0.005, round(row.Probability, 2), color='black', ha=\"center\", fontsize=11)\n",
        "#ax.patch.set_edgecolor('black') \n",
        "\n",
        "plt.grid(axis='both')\n",
        "plt.savefig('results_CQW.png', format='png', transparent=True)"
      ],
      "execution_count": null,
      "outputs": [
        {
          "output_type": "display_data",
          "data": {
            "image/png": "[encoded data removed]",
            "text/plain": [
              "<Figure size 576x576 with 1 Axes>"
            ]
          },
          "metadata": {
            "tags": []
          }
        }
      ]
    },
    {
      "cell_type": "code",
      "metadata": {
        "id": "sicpXMnR8Fxo"
      },
      "source": [
        ""
      ],
      "execution_count": null,
      "outputs": []
    }
  ]
}