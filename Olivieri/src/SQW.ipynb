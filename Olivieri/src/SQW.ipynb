{
  "nbformat": 4,
  "nbformat_minor": 0,
  "metadata": {
    "colab": {
      "name": "SQW.ipynb",
      "provenance": []
    },
    "kernelspec": {
      "name": "python3",
      "display_name": "Python 3"
    }
  },
  "cells": [
    {
      "cell_type": "code",
      "metadata": {
        "id": "Jg1z2r8d5xOD"
      },
      "source": [
        "from google.colab import drive\n",
        "from google.colab import output\n",
        "\n",
        "!pip install qiskit\n",
        "output.clear() #clear the cell output"
      ],
      "execution_count": null,
      "outputs": []
    },
    {
      "cell_type": "code",
      "metadata": {
        "id": "YjR7zaaZ4jtr"
      },
      "source": [
        "from qiskit import *"
      ],
      "execution_count": null,
      "outputs": []
    },
    {
      "cell_type": "code",
      "metadata": {
        "id": "KCcmekP_5cbY"
      },
      "source": [
        "#-------------------------------------------------------\n",
        "# CIRCUIT FOR 1 STEP OF SQW ON A 8 NODES CICLIC GRAPH \n",
        "#-------------------------------------------------------\n",
        "def szegedy(circuit):\n",
        "    qr = circuit.qubits\n",
        "    \n",
        "    circuit.x([qr[4], qr[3]]) #for the negative controlled gates\n",
        "    circuit.barrier()\n",
        "    \n",
        "    #L^4\n",
        "    circuit.mct([qr[4],qr[3], qr[2]], qr[5],None, mode='advanced')\n",
        "    circuit.ccx(qr[2], qr[3], qr[4])\n",
        "    circuit.cx(qr[2], qr[3])\n",
        "    circuit.barrier()\n",
        "\n",
        "    circuit.x([qr[4], qr[3]]) #for the negative controlled gates\n",
        "    circuit.barrier()\n",
        "    \n",
        "    #L^2\n",
        "    circuit.x([qr[3]]) #for the negative controlled gates\n",
        "    circuit.barrier()\n",
        "\n",
        "    circuit.ccx(qr[2], qr[3], qr[4])\n",
        "    circuit.cx(qr[2], qr[3])\n",
        "    circuit.barrier()\n",
        "\n",
        "    circuit.x([qr[3]]) #for the negative controlled gates\n",
        "    circuit.barrier()\n",
        "    \n",
        "    #L\n",
        "    circuit.cx(qr[2], qr[3])\n",
        "    circuit.barrier()\n",
        "\n",
        "    # multiple target negative controlled not\n",
        "    circuit.x(qr[3])\n",
        "    circuit.cx(qr[3], qr[4])\n",
        "    circuit.x(qr[3])\n",
        "    circuit.barrier()\n",
        "\n",
        "    # multi controlled Z rotation\n",
        "    circuit.h(qr[3])\n",
        "    circuit.mcrz(180,[qr[4],qr[3]], qr[5])\n",
        "    circuit.h(qr[3])\n",
        "\n",
        "    circuit.barrier()\n",
        "\n",
        "    # multiple target negative controlled not\n",
        "    circuit.x(qr[3])\n",
        "    circuit.cx(qr[3], qr[4])\n",
        "    circuit.x(qr[3])\n",
        "    circuit.barrier()\n",
        "\n",
        "    #R^4\n",
        "    circuit.mct([qr[4],qr[3], qr[2]], qr[5],None, mode='advanced')\n",
        "    circuit.ccx(qr[2], qr[3], qr[4])\n",
        "    circuit.cx(qr[2], qr[3])\n",
        "    circuit.barrier()\n",
        "    \n",
        "    #R^2\n",
        "    circuit.ccx(qr[2], qr[3], qr[4])\n",
        "    circuit.cx(qr[2], qr[3])\n",
        "    circuit.barrier()\n",
        "    \n",
        "    #R\n",
        "    circuit.cx(qr[2], qr[3])\n",
        "    circuit.barrier()\n",
        "\n",
        "    # swap operator\n",
        "    circuit.swap(qr[5], qr[2])\n",
        "    circuit.swap(qr[4], qr[1])\n",
        "    circuit.swap(qr[3], qr[0])"
      ],
      "execution_count": null,
      "outputs": []
    },
    {
      "cell_type": "code",
      "metadata": {
        "id": "5ySL_71H5eb1"
      },
      "source": [
        "#------------------------------\n",
        "# EXPERIMENT\n",
        "#------------------------------\n",
        "qr = QuantumRegister(6)\n",
        "cr = ClassicalRegister(3)\n",
        "\n",
        "circuit = QuantumCircuit(qr, cr)\n",
        "\n",
        "# state preparation for the Cyclic graph\n",
        "circuit.h(qr[3])\n",
        "circuit.cx(qr[3], qr[4])\n",
        "circuit.x(qr[5])\n",
        "circuit.barrier()\n",
        "\n",
        "szegedy(circuit)"
      ],
      "execution_count": null,
      "outputs": []
    },
    {
      "cell_type": "code",
      "metadata": {
        "id": "z7ELFs99DXQe"
      },
      "source": [
        "!pip install pylatexenc\n",
        "output.clear()"
      ],
      "execution_count": null,
      "outputs": []
    },
    {
      "cell_type": "code",
      "metadata": {
        "id": "h957oldX5gQ8",
        "colab": {
          "base_uri": "https://localhost:8080/",
          "height": 941
        },
        "outputId": "510f4616-178f-4369-ef5c-c4230f1666d4"
      },
      "source": [
        "circuit.draw()"
      ],
      "execution_count": null,
      "outputs": [
        {
          "output_type": "execute_result",
          "data": {
            "text/html": [
              "<pre style=\"word-wrap: normal;white-space: pre;background: #fff0;line-height: 1.1;font-family: &quot;Courier New&quot;,Courier,monospace\">                  ░       ░                 ░       ░       ░            ░ »\n",
              "q21_0: ───────────░───────░─────────────────░───────░───────░────────────░─»\n",
              "                  ░       ░                 ░       ░       ░            ░ »\n",
              "q21_1: ───────────░───────░─────────────────░───────░───────░────────────░─»\n",
              "                  ░       ░                 ░       ░       ░            ░ »\n",
              "q21_2: ───────────░───────░───■────■────■───░───────░───────░───■────■───░─»\n",
              "       ┌───┐      ░ ┌───┐ ░   │    │  ┌─┴─┐ ░ ┌───┐ ░ ┌───┐ ░   │  ┌─┴─┐ ░ »\n",
              "q21_3: ┤ H ├──■───░─┤ X ├─░───■────■──┤ X ├─░─┤ X ├─░─┤ X ├─░───■──┤ X ├─░─»\n",
              "       └───┘┌─┴─┐ ░ ├───┤ ░   │  ┌─┴─┐└───┘ ░ ├───┤ ░ └───┘ ░ ┌─┴─┐└───┘ ░ »\n",
              "q21_4: ─────┤ X ├─░─┤ X ├─░───■──┤ X ├──────░─┤ X ├─░───────░─┤ X ├──────░─»\n",
              "       ┌───┐└───┘ ░ └───┘ ░ ┌─┴─┐└───┘      ░ └───┘ ░       ░ └───┘      ░ »\n",
              "q21_5: ┤ X ├──────░───────░─┤ X ├───────────░───────░───────░────────────░─»\n",
              "       └───┘      ░       ░ └───┘           ░       ░       ░            ░ »\n",
              " c1: 3/════════════════════════════════════════════════════════════════════»\n",
              "                                                                           »\n",
              "«             ░       ░                 ░                          »\n",
              "«q21_0: ──────░───────░─────────────────░──────────────────────────»\n",
              "«             ░       ░                 ░                          »\n",
              "«q21_1: ──────░───────░─────────────────░──────────────────────────»\n",
              "«             ░       ░                 ░                          »\n",
              "«q21_2: ──────░───■───░─────────────────░──────────────────────────»\n",
              "«       ┌───┐ ░ ┌─┴─┐ ░ ┌───┐     ┌───┐ ░ ┌───┐                    »\n",
              "«q21_3: ┤ X ├─░─┤ X ├─░─┤ X ├──■──┤ X ├─░─┤ H ├───────■─────────■──»\n",
              "«       └───┘ ░ └───┘ ░ └───┘┌─┴─┐└───┘ ░ └───┘       │       ┌─┴─┐»\n",
              "«q21_4: ──────░───────░──────┤ X ├──────░─────────────┼───────┤ X ├»\n",
              "«             ░       ░      └───┘      ░      ┌──────┴──────┐└───┘»\n",
              "«q21_5: ──────░───────░─────────────────░──────┤ U(0,0,90,0) ├─────»\n",
              "«             ░       ░                 ░      └─────────────┘     »\n",
              "« c1: 3/═══════════════════════════════════════════════════════════»\n",
              "«                                                                  »\n",
              "«                                            ░                 ░           »\n",
              "«q21_0: ─────────────────────────────────────░─────────────────░───────────»\n",
              "«                                            ░                 ░           »\n",
              "«q21_1: ─────────────────────────────────────░─────────────────░───────────»\n",
              "«                                            ░                 ░           »\n",
              "«q21_2: ─────────────────────────────────────░─────────────────░───■────■──»\n",
              "«                                 ┌───┐      ░ ┌───┐     ┌───┐ ░   │    │  »\n",
              "«q21_3: ──────────────────■───────┤ H ├──────░─┤ X ├──■──┤ X ├─░───■────■──»\n",
              "«                       ┌─┴─┐     └───┘      ░ └───┘┌─┴─┐└───┘ ░   │  ┌─┴─┐»\n",
              "«q21_4: ───────■────────┤ X ├───────■────────░──────┤ X ├──────░───■──┤ X ├»\n",
              "«       ┌──────┴───────┐└───┘┌──────┴──────┐ ░      └───┘      ░ ┌─┴─┐└───┘»\n",
              "«q21_5: ┤ U(0,-90,0,0) ├─────┤ U(0,0,90,0) ├─░─────────────────░─┤ X ├─────»\n",
              "«       └──────────────┘     └─────────────┘ ░                 ░ └───┘     »\n",
              "« c1: 3/═══════════════════════════════════════════════════════════════════»\n",
              "«                                                                          »\n",
              "«             ░            ░       ░          \n",
              "«q21_0: ──────░────────────░───────░────────X─\n",
              "«             ░            ░       ░        │ \n",
              "«q21_1: ──────░────────────░───────░─────X──┼─\n",
              "«             ░            ░       ░     │  │ \n",
              "«q21_2: ──■───░───■────■───░───■───░──X──┼──┼─\n",
              "«       ┌─┴─┐ ░   │  ┌─┴─┐ ░ ┌─┴─┐ ░  │  │  │ \n",
              "«q21_3: ┤ X ├─░───■──┤ X ├─░─┤ X ├─░──┼──┼──X─\n",
              "«       └───┘ ░ ┌─┴─┐└───┘ ░ └───┘ ░  │  │    \n",
              "«q21_4: ──────░─┤ X ├──────░───────░──┼──X────\n",
              "«             ░ └───┘      ░       ░  │       \n",
              "«q21_5: ──────░────────────░───────░──X───────\n",
              "«             ░            ░       ░          \n",
              "« c1: 3/══════════════════════════════════════\n",
              "«                                             </pre>"
            ],
            "text/plain": [
              "                  ░       ░                 ░       ░       ░            ░ »\n",
              "q21_0: ───────────░───────░─────────────────░───────░───────░────────────░─»\n",
              "                  ░       ░                 ░       ░       ░            ░ »\n",
              "q21_1: ───────────░───────░─────────────────░───────░───────░────────────░─»\n",
              "                  ░       ░                 ░       ░       ░            ░ »\n",
              "q21_2: ───────────░───────░───■────■────■───░───────░───────░───■────■───░─»\n",
              "       ┌───┐      ░ ┌───┐ ░   │    │  ┌─┴─┐ ░ ┌───┐ ░ ┌───┐ ░   │  ┌─┴─┐ ░ »\n",
              "q21_3: ┤ H ├──■───░─┤ X ├─░───■────■──┤ X ├─░─┤ X ├─░─┤ X ├─░───■──┤ X ├─░─»\n",
              "       └───┘┌─┴─┐ ░ ├───┤ ░   │  ┌─┴─┐└───┘ ░ ├───┤ ░ └───┘ ░ ┌─┴─┐└───┘ ░ »\n",
              "q21_4: ─────┤ X ├─░─┤ X ├─░───■──┤ X ├──────░─┤ X ├─░───────░─┤ X ├──────░─»\n",
              "       ┌───┐└───┘ ░ └───┘ ░ ┌─┴─┐└───┘      ░ └───┘ ░       ░ └───┘      ░ »\n",
              "q21_5: ┤ X ├──────░───────░─┤ X ├───────────░───────░───────░────────────░─»\n",
              "       └───┘      ░       ░ └───┘           ░       ░       ░            ░ »\n",
              " c1: 3/════════════════════════════════════════════════════════════════════»\n",
              "                                                                           »\n",
              "«             ░       ░                 ░                          »\n",
              "«q21_0: ──────░───────░─────────────────░──────────────────────────»\n",
              "«             ░       ░                 ░                          »\n",
              "«q21_1: ──────░───────░─────────────────░──────────────────────────»\n",
              "«             ░       ░                 ░                          »\n",
              "«q21_2: ──────░───■───░─────────────────░──────────────────────────»\n",
              "«       ┌───┐ ░ ┌─┴─┐ ░ ┌───┐     ┌───┐ ░ ┌───┐                    »\n",
              "«q21_3: ┤ X ├─░─┤ X ├─░─┤ X ├──■──┤ X ├─░─┤ H ├───────■─────────■──»\n",
              "«       └───┘ ░ └───┘ ░ └───┘┌─┴─┐└───┘ ░ └───┘       │       ┌─┴─┐»\n",
              "«q21_4: ──────░───────░──────┤ X ├──────░─────────────┼───────┤ X ├»\n",
              "«             ░       ░      └───┘      ░      ┌──────┴──────┐└───┘»\n",
              "«q21_5: ──────░───────░─────────────────░──────┤ U(0,0,90,0) ├─────»\n",
              "«             ░       ░                 ░      └─────────────┘     »\n",
              "« c1: 3/═══════════════════════════════════════════════════════════»\n",
              "«                                                                  »\n",
              "«                                            ░                 ░           »\n",
              "«q21_0: ─────────────────────────────────────░─────────────────░───────────»\n",
              "«                                            ░                 ░           »\n",
              "«q21_1: ─────────────────────────────────────░─────────────────░───────────»\n",
              "«                                            ░                 ░           »\n",
              "«q21_2: ─────────────────────────────────────░─────────────────░───■────■──»\n",
              "«                                 ┌───┐      ░ ┌───┐     ┌───┐ ░   │    │  »\n",
              "«q21_3: ──────────────────■───────┤ H ├──────░─┤ X ├──■──┤ X ├─░───■────■──»\n",
              "«                       ┌─┴─┐     └───┘      ░ └───┘┌─┴─┐└───┘ ░   │  ┌─┴─┐»\n",
              "«q21_4: ───────■────────┤ X ├───────■────────░──────┤ X ├──────░───■──┤ X ├»\n",
              "«       ┌──────┴───────┐└───┘┌──────┴──────┐ ░      └───┘      ░ ┌─┴─┐└───┘»\n",
              "«q21_5: ┤ U(0,-90,0,0) ├─────┤ U(0,0,90,0) ├─░─────────────────░─┤ X ├─────»\n",
              "«       └──────────────┘     └─────────────┘ ░                 ░ └───┘     »\n",
              "« c1: 3/═══════════════════════════════════════════════════════════════════»\n",
              "«                                                                          »\n",
              "«             ░            ░       ░          \n",
              "«q21_0: ──────░────────────░───────░────────X─\n",
              "«             ░            ░       ░        │ \n",
              "«q21_1: ──────░────────────░───────░─────X──┼─\n",
              "«             ░            ░       ░     │  │ \n",
              "«q21_2: ──■───░───■────■───░───■───░──X──┼──┼─\n",
              "«       ┌─┴─┐ ░   │  ┌─┴─┐ ░ ┌─┴─┐ ░  │  │  │ \n",
              "«q21_3: ┤ X ├─░───■──┤ X ├─░─┤ X ├─░──┼──┼──X─\n",
              "«       └───┘ ░ ┌─┴─┐└───┘ ░ └───┘ ░  │  │    \n",
              "«q21_4: ──────░─┤ X ├──────░───────░──┼──X────\n",
              "«             ░ └───┘      ░       ░  │       \n",
              "«q21_5: ──────░────────────░───────░──X───────\n",
              "«             ░            ░       ░          \n",
              "« c1: 3/══════════════════════════════════════\n",
              "«                                             "
            ]
          },
          "metadata": {
            "tags": []
          },
          "execution_count": 20
        }
      ]
    },
    {
      "cell_type": "code",
      "metadata": {
        "id": "IrMRaPMo5iej"
      },
      "source": [
        "circuit.measure([qr[2], qr[1], qr[0]], cr)\n",
        "\n",
        "#simulate the circuit\n",
        "simulator = Aer.get_backend('qasm_simulator')\n",
        "result_simulation = execute(circuit, simulator).result()"
      ],
      "execution_count": null,
      "outputs": []
    },
    {
      "cell_type": "code",
      "metadata": {
        "id": "OMkN6p7o5kcp",
        "colab": {
          "base_uri": "https://localhost:8080/",
          "height": 343
        },
        "outputId": "1ff26d7b-6785-4d2b-e450-430f6c16af10"
      },
      "source": [
        "# show results\n",
        "from qiskit.tools.visualization import plot_histogram, plot_circuit_layout\n",
        "plot_histogram(result_simulation.get_counts(circuit))"
      ],
      "execution_count": null,
      "outputs": [
        {
          "output_type": "execute_result",
          "data": {
            "image/png": "[encoded data removed]",
            "text/plain": [
              "<Figure size 504x360 with 1 Axes>"
            ]
          },
          "metadata": {
            "tags": []
          },
          "execution_count": 22
        }
      ]
    },
    {
      "cell_type": "code",
      "metadata": {
        "id": "rKNKI1dv566T",
        "colab": {
          "base_uri": "https://localhost:8080/"
        },
        "outputId": "b646ac82-19c7-4f50-e51b-0c911c2d6a93"
      },
      "source": [
        "from qiskit import IBMQ\n",
        "\n",
        "ACCOUNT_API_STRING = ''\n",
        "PROVIDER = 'ibm-q'\n",
        "BACKEND = 'ibmq_16_melbourne'\n",
        "\n",
        "\n",
        "IBMQ.save_account(ACCOUNT_API_STRING)\n",
        "IBMQ.load_account()\n",
        "provider = IBMQ.get_provider(PROVIDER)\n",
        "qcomp = provider.get_backend(BACKEND)"
      ],
      "execution_count": null,
      "outputs": [
        {
          "output_type": "stream",
          "text": [
            "configrc.store_credentials:WARNING:2021-03-09 09:49:44,448: Credentials already present. Set overwrite=True to overwrite.\n",
            "ibmqfactory.load_account:WARNING:2021-03-09 09:49:44,723: Credentials are already in use. The existing account in the session will be replaced.\n"
          ],
          "name": "stderr"
        }
      ]
    },
    {
      "cell_type": "code",
      "metadata": {
        "id": "JWb_of-SLsjw",
        "colab": {
          "base_uri": "https://localhost:8080/"
        },
        "outputId": "69a76c00-d329-4eb5-db83-2e9c6c9fb948"
      },
      "source": [
        "from qiskit.tools.monitor import job_monitor\n",
        "\n",
        "job = execute(circuit, backend=qcomp)\n",
        "job_monitor(job)"
      ],
      "execution_count": null,
      "outputs": [
        {
          "output_type": "stream",
          "text": [
            "Job Status: job has successfully run\n"
          ],
          "name": "stdout"
        }
      ]
    },
    {
      "cell_type": "code",
      "metadata": {
        "id": "ZX_HgIscMHMI"
      },
      "source": [
        "result = job.result()"
      ],
      "execution_count": null,
      "outputs": []
    },
    {
      "cell_type": "code",
      "metadata": {
        "id": "pg5fjNmiMNcP",
        "colab": {
          "base_uri": "https://localhost:8080/",
          "height": 342
        },
        "outputId": "8a9a26e3-dfae-44e3-80fa-89c086076f38"
      },
      "source": [
        "plot_histogram(result.get_counts(circuit), figsize=(12, 5))"
      ],
      "execution_count": null,
      "outputs": [
        {
          "output_type": "execute_result",
          "data": {
            "image/png": "[encoded data removed]",
            "text/plain": [
              "<Figure size 864x360 with 1 Axes>"
            ]
          },
          "metadata": {
            "tags": []
          },
          "execution_count": 26
        }
      ]
    },
    {
      "cell_type": "code",
      "metadata": {
        "id": "mH_Imf4W6HdC",
        "colab": {
          "base_uri": "https://localhost:8080/",
          "height": 300
        },
        "outputId": "46d07adb-678b-4213-c2d1-2197d3629190"
      },
      "source": [
        "#------------------------------\n",
        "# RESULTS CHART\n",
        "#------------------------------\n",
        "import pandas as pd\n",
        "from time import strftime, gmtime\n",
        "\n",
        "rsim = result_simulation.get_counts()\n",
        "real = result.get_counts()\n",
        "\n",
        "SHOTS = 1024\n",
        "labels = ['000', '001', '010', '011', '100', '101', '110', '111']\n",
        "\n",
        "rsim_dict = {}\n",
        "real_dict = {}\n",
        "for l in labels:\n",
        "  rsim_dict[l] = rsim.get(l) / SHOTS if l in rsim.keys() else 0\n",
        "  real_dict[l] = real.get(l) / SHOTS if l in real.keys() else 0\n",
        "\n",
        "rsim_df = pd.DataFrame.from_dict(rsim_dict.items())\n",
        "real_df = pd.DataFrame.from_dict(real_dict.items())\n",
        "\n",
        "# assign different labels\n",
        "rsim_df.columns = ['label', 'prob_simulation']\n",
        "real_df.columns = ['label', 'prob_real']\n",
        "\n",
        "# join simul and real result on labels\n",
        "results = pd.merge(rsim_df, real_df, on='label')\n",
        "\n",
        "timestamp = strftime(\"%d-%m-%Y-%H:%M:%S\", gmtime())\n",
        "results.to_csv(\"SQW-experiment-{}.csv\".format(timestamp))\n",
        "results"
      ],
      "execution_count": null,
      "outputs": [
        {
          "output_type": "execute_result",
          "data": {
            "text/html": [
              "<div>\n",
              "<style scoped>\n",
              "    .dataframe tbody tr th:only-of-type {\n",
              "        vertical-align: middle;\n",
              "    }\n",
              "\n",
              "    .dataframe tbody tr th {\n",
              "        vertical-align: top;\n",
              "    }\n",
              "\n",
              "    .dataframe thead th {\n",
              "        text-align: right;\n",
              "    }\n",
              "</style>\n",
              "<table border=\"1\" class=\"dataframe\">\n",
              "  <thead>\n",
              "    <tr style=\"text-align: right;\">\n",
              "      <th></th>\n",
              "      <th>label</th>\n",
              "      <th>prob_simulation</th>\n",
              "      <th>prob_real</th>\n",
              "    </tr>\n",
              "  </thead>\n",
              "  <tbody>\n",
              "    <tr>\n",
              "      <th>0</th>\n",
              "      <td>000</td>\n",
              "      <td>0.000000</td>\n",
              "      <td>0.210938</td>\n",
              "    </tr>\n",
              "    <tr>\n",
              "      <th>1</th>\n",
              "      <td>001</td>\n",
              "      <td>0.491211</td>\n",
              "      <td>0.120117</td>\n",
              "    </tr>\n",
              "    <tr>\n",
              "      <th>2</th>\n",
              "      <td>010</td>\n",
              "      <td>0.000000</td>\n",
              "      <td>0.149414</td>\n",
              "    </tr>\n",
              "    <tr>\n",
              "      <th>3</th>\n",
              "      <td>011</td>\n",
              "      <td>0.000000</td>\n",
              "      <td>0.096680</td>\n",
              "    </tr>\n",
              "    <tr>\n",
              "      <th>4</th>\n",
              "      <td>100</td>\n",
              "      <td>0.000000</td>\n",
              "      <td>0.140625</td>\n",
              "    </tr>\n",
              "    <tr>\n",
              "      <th>5</th>\n",
              "      <td>101</td>\n",
              "      <td>0.000000</td>\n",
              "      <td>0.100586</td>\n",
              "    </tr>\n",
              "    <tr>\n",
              "      <th>6</th>\n",
              "      <td>110</td>\n",
              "      <td>0.000000</td>\n",
              "      <td>0.105469</td>\n",
              "    </tr>\n",
              "    <tr>\n",
              "      <th>7</th>\n",
              "      <td>111</td>\n",
              "      <td>0.508789</td>\n",
              "      <td>0.076172</td>\n",
              "    </tr>\n",
              "  </tbody>\n",
              "</table>\n",
              "</div>"
            ],
            "text/plain": [
              "  label  prob_simulation  prob_real\n",
              "0   000         0.000000   0.210938\n",
              "1   001         0.491211   0.120117\n",
              "2   010         0.000000   0.149414\n",
              "3   011         0.000000   0.096680\n",
              "4   100         0.000000   0.140625\n",
              "5   101         0.000000   0.100586\n",
              "6   110         0.000000   0.105469\n",
              "7   111         0.508789   0.076172"
            ]
          },
          "metadata": {
            "tags": []
          },
          "execution_count": 27
        }
      ]
    },
    {
      "cell_type": "code",
      "metadata": {
        "id": "I1SWMHmm6J8D",
        "colab": {
          "base_uri": "https://localhost:8080/",
          "height": 523
        },
        "outputId": "12632063-6375-4cfa-94d5-2a46040facdb"
      },
      "source": [
        "#------------------------------\n",
        "# COMPARISON REAL AND SIM\n",
        "#------------------------------\n",
        "import seaborn as sns\n",
        "from matplotlib import pyplot as plt\n",
        "sns.set(font_scale=2)  \n",
        "sns.color_palette(\"cubehelix\", as_cmap=True)\n",
        "plt.figure(figsize=(8, 8)) # width and height in inches\n",
        "\n",
        "df = pd.DataFrame({\n",
        "    'Label': list(results.label),\n",
        "    'Simulation': list(results.prob_simulation),\n",
        "    'Real': list(results.prob_real)\n",
        "})\n",
        "\n",
        "tidy = df.melt(id_vars='Label').rename(columns=str.title)\n",
        "tidy.columns = ['Label', 'Type', 'Probability']\n",
        "ax = sns.barplot(x='Label', y='Probability', hue='Type', data=tidy, palette=['black', 'white'], edgecolor='black')\n",
        "\n",
        "for index, row in tidy.iterrows():\n",
        "    if row.Type == 'Real': \n",
        "      ax.text(index - 7.77 ,row.Probability+0.005, round(row.Probability, 2), color='black', ha=\"center\", fontsize=11)\n",
        "    if row.Type == 'Simulation': \n",
        "      ax.text(index - 0.2, row.Probability+0.005, round(row.Probability, 2), color='black', ha=\"center\", fontsize=11)\n",
        "\n",
        "plt.savefig('results_SQW.png', format='png', transparent=True)"
      ],
      "execution_count": null,
      "outputs": [
        {
          "output_type": "display_data",
          "data": {
            "image/png": "[encoded data removed]",
            "text/plain": [
              "<Figure size 576x576 with 1 Axes>"
            ]
          },
          "metadata": {
            "tags": []
          }
        }
      ]
    },
    {
      "cell_type": "code",
      "metadata": {
        "id": "NGgvEPNTnpOF"
      },
      "source": [
        ""
      ],
      "execution_count": null,
      "outputs": []
    }
  ]
}