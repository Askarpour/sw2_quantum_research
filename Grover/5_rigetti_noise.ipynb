{
 "cells": [
  {
   "cell_type": "markdown",
   "metadata": {},
   "source": [
    "# Rigetti's noise modeling exploration"
   ]
  },
  {
   "cell_type": "markdown",
   "metadata": {},
   "source": [
    "In this section we will explore the Rigetti's Forest SDK feature to model on the Quantum Virtual Machine, the noise that would occur on the real quantum computer.<br>\n",
    "There are multiple types of noise, but for now we will consider only the noise arising from decoherence, which has many souces: gravity causes decoherence if one states weights more than the other; there may be stray long range fields, typically associated with charge; there can be leakage into larger Hilbert spaces; a two state atom may have higher energy levels that the state can move to.<br>\n",
    "The are two measures of decoherence, $T_{1}$ and $T_{2}$.<br>"
   ]
  },
  {
   "cell_type": "markdown",
   "metadata": {},
   "source": [
    "$T_{1}$ is called \"longitudinal coherence time\" or \"amplitude damping\" and it measures the loss of energy from the system. One can do an experiment to determine it. First initialize the qubit to the ground state $|0\\rangle$. Then apply $X$, wait for the time <i>t</i> and measure the probability of being in the $|1\\rangle$ state. We expect an exponential decay from 1 to 0 following $e^{\\frac{-t}{T_{1}}}$"
   ]
  },
  {
   "cell_type": "markdown",
   "metadata": {},
   "source": [
    "$T_{2}$ is called \"transverse coherence time\" or \"phase damping\" and it can be measured, too. First initialize the qubit to the ground state $|0\\rangle$, apply the <i>H</i> gate, wait for time <i>t</i>, apply <i>H</i> again and finally measure the probability of being in the state $|0\\rangle$. It should goes to $\\frac{1}{2}$ because after some time, an interference with the system will probably have brought the state to either $|0\\rangle$ or $|1\\rangle$. Hence, by applying the second <i>H</i> we are bringing the qubit in superposition again, leading to a measurement probability of $\\frac{1}{2}$."
   ]
  },
  {
   "cell_type": "code",
   "execution_count": 37,
   "metadata": {},
   "outputs": [],
   "source": [
    "from pyquil import Program, get_qc, list_quantum_computers\n",
    "from pyquil.gates import *\n",
    "from pyquil.noise import add_decoherence_noise\n",
    "from pyquil.quilbase import Pragma\n",
    "import matplotlib.pyplot as plt\n",
    "from collections import Counter\n",
    "import numpy as np\n",
    "from numpy import pi"
   ]
  },
  {
   "cell_type": "markdown",
   "metadata": {},
   "source": [
    "Let's define the functions to obtain the frequencies of the result over the multiple executions of an algorithm and the function to plot them."
   ]
  },
  {
   "cell_type": "code",
   "execution_count": 3,
   "metadata": {},
   "outputs": [],
   "source": [
    "def get_frequencies(result, n_qubits):\n",
    "    result_int = result.dot(2**np.arange(n_qubits)[::-1])\n",
    "    int2binary = np.vectorize(np.binary_repr)\n",
    "    result_string = int2binary(result_int, n_qubits)\n",
    "\n",
    "    counts = Counter(result_string)\n",
    "    bit_strings = int2binary(np.arange(0, 2**n_qubits), n_qubits)\n",
    "    counts = [counts[bit_string] for bit_string in bit_strings]\n",
    "    frequencies = [value/len(result_int) for value in counts]\n",
    "    return frequencies, bit_strings\n",
    "\n",
    "def plot_result(result, n_qubits):\n",
    "    frequencies, bit_strings = get_frequencies(result, n_qubits)\n",
    "\n",
    "    plt.bar(bit_strings, frequencies)\n",
    "    axes = plt.gca()\n",
    "    axes.set_ylim([0.0,1.0])\n",
    "    plt.show()"
   ]
  },
  {
   "cell_type": "markdown",
   "metadata": {},
   "source": [
    "We can then instantiate a new Quantum Virtual Machine. Note that differently from the previous times, we specify the parameter noisy to be False. Actually this is not necessary because the default value is already False.\n",
    "    Let's try to see if by running a circuit composed only by the <i>X</i> gate starting from the ground state $|0\\rangle$ we always measure the state $|1\\rangle$."
   ]
  },
  {
   "cell_type": "code",
   "execution_count": 4,
   "metadata": {},
   "outputs": [
    {
     "data": {
      "image/png": "[encoded data removed]",
      "text/plain": [
       "<Figure size 432x288 with 1 Axes>"
      ]
     },
     "metadata": {
      "needs_background": "light"
     },
     "output_type": "display_data"
    }
   ],
   "source": [
    "qvm = get_qc('9q-square-qvm', noisy=False)\n",
    "n_qubits = 1\n",
    "qubits = list(range(n_qubits))\n",
    "p = Program()\n",
    "p += X(0)\n",
    "p = p.measure_all()\n",
    "p.wrap_in_numshots_loop(100)\n",
    "\n",
    "#Compile and run\n",
    "prog = qvm.compile(p)\n",
    "result = qvm.run(prog)\n",
    "plot_result(result, n_qubits)"
   ]
  },
  {
   "cell_type": "markdown",
   "metadata": {},
   "source": [
    "Since we are modeling an \"ideal\" quantum computer through the QVM, our results are not affected by noise, so we obtain $|1\\rangle$ in the 100% of the cases."
   ]
  },
  {
   "cell_type": "markdown",
   "metadata": {},
   "source": [
    "We can now execute the same program, but using a QVM that emulates the a generic noise by setting the noisy parameter to True. Aspen-1-16Q-A"
   ]
  },
  {
   "cell_type": "code",
   "execution_count": 5,
   "metadata": {},
   "outputs": [
    {
     "data": {
      "image/png": "[encoded data removed]",
      "text/plain": [
       "<Figure size 432x288 with 1 Axes>"
      ]
     },
     "metadata": {
      "needs_background": "light"
     },
     "output_type": "display_data"
    }
   ],
   "source": [
    "qvm = get_qc('9q-square-qvm', noisy=True)\n",
    "n_qubits = 1\n",
    "qubits = list(range(n_qubits))\n",
    "p = Program()\n",
    "p += X(0)\n",
    "p = p.measure_all()\n",
    "p.wrap_in_numshots_loop(100)\n",
    "\n",
    "#Compile and run\n",
    "prog = qvm.compile(p)\n",
    "result = qvm.run(prog)\n",
    "plot_result(result, n_qubits)"
   ]
  },
  {
   "cell_type": "markdown",
   "metadata": {},
   "source": [
    "The noise modeled for a generic QVM is standard. It is also possible to emulate a specific Rigetti Quantum Computer, that can be viewed by executing <i>list_quantum_computers()</i>. "
   ]
  },
  {
   "cell_type": "code",
   "execution_count": 23,
   "metadata": {},
   "outputs": [
    {
     "data": {
      "text/plain": [
       "['Aspen-3-14Q-A',\n",
       " 'Aspen-3-4Q-B',\n",
       " 'Aspen-3-2Q-C',\n",
       " 'Aspen-3-3Q-B',\n",
       " 'Aspen-3-4Q-F',\n",
       " 'Aspen-3-5Q-B',\n",
       " 'Aspen-3-6Q-B',\n",
       " 'Aspen-3-7Q-B',\n",
       " 'Aspen-3-8Q-B',\n",
       " 'Aspen-3-9Q-B',\n",
       " 'Aspen-3-10Q-B',\n",
       " '9q-square-qvm',\n",
       " '9q-square-noisy-qvm']"
      ]
     },
     "execution_count": 23,
     "metadata": {},
     "output_type": "execute_result"
    }
   ],
   "source": [
    "list_quantum_computers()"
   ]
  },
  {
   "cell_type": "markdown",
   "metadata": {},
   "source": [
    "In this case, by setting noisy=True, the noise model ($T_{1}$, $T_{2}$ and other parameters) will be the most similar to the selected quantum computer.<br>\n",
    "Unfortunately, differently from the from what is said in the documentation, none of the listed quantum computers have a model for the noise. So, when the program is executed, the following error is returned."
   ]
  },
  {
   "cell_type": "code",
   "execution_count": 22,
   "metadata": {},
   "outputs": [
    {
     "ename": "QVMError",
     "evalue": "Encountered the invalid instruction\n\n    NOISY-RX-PLUS-180 0\n\nwhich could not be executed because the operator NOISY-RX-PLUS-180 is not known\n\nThe QVM returned the above error. This could be due to a bug in the server or a\nbug in your code. If you suspect this to be a bug in pyQuil or Rigetti Forest,\nthen please describe the problem in a GitHub issue at:\n    https://github.com/rigetti/pyquil/issues",
     "output_type": "error",
     "traceback": [
      "\u001b[0;31m---------------------------------------------------------------------------\u001b[0m",
      "\u001b[0;31mQVMError\u001b[0m                                  Traceback (most recent call last)",
      "\u001b[0;32m<ipython-input-22-a85f342a9e05>\u001b[0m in \u001b[0;36m<module>\u001b[0;34m\u001b[0m\n\u001b[1;32m      9\u001b[0m \u001b[0;31m#Compile and run\u001b[0m\u001b[0;34m\u001b[0m\u001b[0;34m\u001b[0m\u001b[0;34m\u001b[0m\u001b[0m\n\u001b[1;32m     10\u001b[0m \u001b[0mprog\u001b[0m \u001b[0;34m=\u001b[0m \u001b[0mqvm\u001b[0m\u001b[0;34m.\u001b[0m\u001b[0mcompile\u001b[0m\u001b[0;34m(\u001b[0m\u001b[0mp\u001b[0m\u001b[0;34m)\u001b[0m\u001b[0;34m\u001b[0m\u001b[0;34m\u001b[0m\u001b[0m\n\u001b[0;32m---> 11\u001b[0;31m \u001b[0mresult\u001b[0m \u001b[0;34m=\u001b[0m \u001b[0mqvm\u001b[0m\u001b[0;34m.\u001b[0m\u001b[0mrun\u001b[0m\u001b[0;34m(\u001b[0m\u001b[0mprog\u001b[0m\u001b[0;34m)\u001b[0m\u001b[0;34m\u001b[0m\u001b[0;34m\u001b[0m\u001b[0m\n\u001b[0m\u001b[1;32m     12\u001b[0m \u001b[0mplot_result\u001b[0m\u001b[0;34m(\u001b[0m\u001b[0mresult\u001b[0m\u001b[0;34m,\u001b[0m \u001b[0mn_qubits\u001b[0m\u001b[0;34m)\u001b[0m\u001b[0;34m\u001b[0m\u001b[0;34m\u001b[0m\u001b[0m\n",
      "\u001b[0;32m~/miniconda3/envs/quantum_research/lib/python3.7/site-packages/pyquil/api/_error_reporting.py\u001b[0m in \u001b[0;36mwrapper\u001b[0;34m(*args, **kwargs)\u001b[0m\n\u001b[1;32m    236\u001b[0m             \u001b[0mglobal_error_context\u001b[0m\u001b[0;34m.\u001b[0m\u001b[0mlog\u001b[0m\u001b[0;34m[\u001b[0m\u001b[0mkey\u001b[0m\u001b[0;34m]\u001b[0m \u001b[0;34m=\u001b[0m \u001b[0mpre_entry\u001b[0m\u001b[0;34m\u001b[0m\u001b[0;34m\u001b[0m\u001b[0m\n\u001b[1;32m    237\u001b[0m \u001b[0;34m\u001b[0m\u001b[0m\n\u001b[0;32m--> 238\u001b[0;31m         \u001b[0mval\u001b[0m \u001b[0;34m=\u001b[0m \u001b[0mfunc\u001b[0m\u001b[0;34m(\u001b[0m\u001b[0;34m*\u001b[0m\u001b[0margs\u001b[0m\u001b[0;34m,\u001b[0m \u001b[0;34m**\u001b[0m\u001b[0mkwargs\u001b[0m\u001b[0;34m)\u001b[0m\u001b[0;34m\u001b[0m\u001b[0;34m\u001b[0m\u001b[0m\n\u001b[0m\u001b[1;32m    239\u001b[0m \u001b[0;34m\u001b[0m\u001b[0m\n\u001b[1;32m    240\u001b[0m         \u001b[0;31m# poke the return value of that call in\u001b[0m\u001b[0;34m\u001b[0m\u001b[0;34m\u001b[0m\u001b[0;34m\u001b[0m\u001b[0m\n",
      "\u001b[0;32m~/miniconda3/envs/quantum_research/lib/python3.7/site-packages/pyquil/api/_quantum_computer.py\u001b[0m in \u001b[0;36mrun\u001b[0;34m(self, executable, memory_map)\u001b[0m\n\u001b[1;32m    150\u001b[0m                     \u001b[0;31m# TODO gh-658: have write_memory take a list rather than value + offset\u001b[0m\u001b[0;34m\u001b[0m\u001b[0;34m\u001b[0m\u001b[0;34m\u001b[0m\u001b[0m\n\u001b[1;32m    151\u001b[0m                     \u001b[0mself\u001b[0m\u001b[0;34m.\u001b[0m\u001b[0mqam\u001b[0m\u001b[0;34m.\u001b[0m\u001b[0mwrite_memory\u001b[0m\u001b[0;34m(\u001b[0m\u001b[0mregion_name\u001b[0m\u001b[0;34m=\u001b[0m\u001b[0mregion_name\u001b[0m\u001b[0;34m,\u001b[0m \u001b[0moffset\u001b[0m\u001b[0;34m=\u001b[0m\u001b[0moffset\u001b[0m\u001b[0;34m,\u001b[0m \u001b[0mvalue\u001b[0m\u001b[0;34m=\u001b[0m\u001b[0mvalue\u001b[0m\u001b[0;34m)\u001b[0m\u001b[0;34m\u001b[0m\u001b[0;34m\u001b[0m\u001b[0m\n\u001b[0;32m--> 152\u001b[0;31m         \u001b[0;32mreturn\u001b[0m \u001b[0mself\u001b[0m\u001b[0;34m.\u001b[0m\u001b[0mqam\u001b[0m\u001b[0;34m.\u001b[0m\u001b[0mrun\u001b[0m\u001b[0;34m(\u001b[0m\u001b[0;34m)\u001b[0m\u001b[0;31m \u001b[0m\u001b[0;31m\\\u001b[0m\u001b[0;34m\u001b[0m\u001b[0;34m\u001b[0m\u001b[0m\n\u001b[0m\u001b[1;32m    153\u001b[0m             \u001b[0;34m.\u001b[0m\u001b[0mwait\u001b[0m\u001b[0;34m(\u001b[0m\u001b[0;34m)\u001b[0m\u001b[0;31m \u001b[0m\u001b[0;31m\\\u001b[0m\u001b[0;34m\u001b[0m\u001b[0;34m\u001b[0m\u001b[0m\n\u001b[1;32m    154\u001b[0m             \u001b[0;34m.\u001b[0m\u001b[0mread_memory\u001b[0m\u001b[0;34m(\u001b[0m\u001b[0mregion_name\u001b[0m\u001b[0;34m=\u001b[0m\u001b[0;34m'ro'\u001b[0m\u001b[0;34m)\u001b[0m\u001b[0;34m\u001b[0m\u001b[0;34m\u001b[0m\u001b[0m\n",
      "\u001b[0;32m~/miniconda3/envs/quantum_research/lib/python3.7/site-packages/pyquil/api/_error_reporting.py\u001b[0m in \u001b[0;36mwrapper\u001b[0;34m(*args, **kwargs)\u001b[0m\n\u001b[1;32m    236\u001b[0m             \u001b[0mglobal_error_context\u001b[0m\u001b[0;34m.\u001b[0m\u001b[0mlog\u001b[0m\u001b[0;34m[\u001b[0m\u001b[0mkey\u001b[0m\u001b[0;34m]\u001b[0m \u001b[0;34m=\u001b[0m \u001b[0mpre_entry\u001b[0m\u001b[0;34m\u001b[0m\u001b[0;34m\u001b[0m\u001b[0m\n\u001b[1;32m    237\u001b[0m \u001b[0;34m\u001b[0m\u001b[0m\n\u001b[0;32m--> 238\u001b[0;31m         \u001b[0mval\u001b[0m \u001b[0;34m=\u001b[0m \u001b[0mfunc\u001b[0m\u001b[0;34m(\u001b[0m\u001b[0;34m*\u001b[0m\u001b[0margs\u001b[0m\u001b[0;34m,\u001b[0m \u001b[0;34m**\u001b[0m\u001b[0mkwargs\u001b[0m\u001b[0;34m)\u001b[0m\u001b[0;34m\u001b[0m\u001b[0;34m\u001b[0m\u001b[0m\n\u001b[0m\u001b[1;32m    239\u001b[0m \u001b[0;34m\u001b[0m\u001b[0m\n\u001b[1;32m    240\u001b[0m         \u001b[0;31m# poke the return value of that call in\u001b[0m\u001b[0;34m\u001b[0m\u001b[0;34m\u001b[0m\u001b[0;34m\u001b[0m\u001b[0m\n",
      "\u001b[0;32m~/miniconda3/envs/quantum_research/lib/python3.7/site-packages/pyquil/api/_qvm.py\u001b[0m in \u001b[0;36mrun\u001b[0;34m(self)\u001b[0m\n\u001b[1;32m    479\u001b[0m                                                         \u001b[0mmeasurement_noise\u001b[0m\u001b[0;34m=\u001b[0m\u001b[0mself\u001b[0m\u001b[0;34m.\u001b[0m\u001b[0mmeasurement_noise\u001b[0m\u001b[0;34m,\u001b[0m\u001b[0;34m\u001b[0m\u001b[0;34m\u001b[0m\u001b[0m\n\u001b[1;32m    480\u001b[0m                                                         \u001b[0mgate_noise\u001b[0m\u001b[0;34m=\u001b[0m\u001b[0mself\u001b[0m\u001b[0;34m.\u001b[0m\u001b[0mgate_noise\u001b[0m\u001b[0;34m,\u001b[0m\u001b[0;34m\u001b[0m\u001b[0;34m\u001b[0m\u001b[0m\n\u001b[0;32m--> 481\u001b[0;31m                                                         random_seed=self.random_seed)['ro']\n\u001b[0m\u001b[1;32m    482\u001b[0m         \u001b[0;32mexcept\u001b[0m \u001b[0mKeyError\u001b[0m\u001b[0;34m:\u001b[0m\u001b[0;34m\u001b[0m\u001b[0;34m\u001b[0m\u001b[0m\n\u001b[1;32m    483\u001b[0m             warnings.warn(\"You are running a QVM program with no MEASURE instructions. \"\n",
      "\u001b[0;32m~/miniconda3/envs/quantum_research/lib/python3.7/site-packages/pyquil/api/_error_reporting.py\u001b[0m in \u001b[0;36mwrapper\u001b[0;34m(*args, **kwargs)\u001b[0m\n\u001b[1;32m    236\u001b[0m             \u001b[0mglobal_error_context\u001b[0m\u001b[0;34m.\u001b[0m\u001b[0mlog\u001b[0m\u001b[0;34m[\u001b[0m\u001b[0mkey\u001b[0m\u001b[0;34m]\u001b[0m \u001b[0;34m=\u001b[0m \u001b[0mpre_entry\u001b[0m\u001b[0;34m\u001b[0m\u001b[0;34m\u001b[0m\u001b[0m\n\u001b[1;32m    237\u001b[0m \u001b[0;34m\u001b[0m\u001b[0m\n\u001b[0;32m--> 238\u001b[0;31m         \u001b[0mval\u001b[0m \u001b[0;34m=\u001b[0m \u001b[0mfunc\u001b[0m\u001b[0;34m(\u001b[0m\u001b[0;34m*\u001b[0m\u001b[0margs\u001b[0m\u001b[0;34m,\u001b[0m \u001b[0;34m**\u001b[0m\u001b[0mkwargs\u001b[0m\u001b[0;34m)\u001b[0m\u001b[0;34m\u001b[0m\u001b[0;34m\u001b[0m\u001b[0m\n\u001b[0m\u001b[1;32m    239\u001b[0m \u001b[0;34m\u001b[0m\u001b[0m\n\u001b[1;32m    240\u001b[0m         \u001b[0;31m# poke the return value of that call in\u001b[0m\u001b[0;34m\u001b[0m\u001b[0;34m\u001b[0m\u001b[0;34m\u001b[0m\u001b[0m\n",
      "\u001b[0;32m~/miniconda3/envs/quantum_research/lib/python3.7/site-packages/pyquil/api/_base_connection.py\u001b[0m in \u001b[0;36m_qvm_run\u001b[0;34m(self, quil_program, classical_addresses, trials, measurement_noise, gate_noise, random_seed)\u001b[0m\n\u001b[1;32m    360\u001b[0m         payload = qvm_run_payload(quil_program, classical_addresses, trials,\n\u001b[1;32m    361\u001b[0m                                   measurement_noise, gate_noise, random_seed)\n\u001b[0;32m--> 362\u001b[0;31m         \u001b[0mresponse\u001b[0m \u001b[0;34m=\u001b[0m \u001b[0mpost_json\u001b[0m\u001b[0;34m(\u001b[0m\u001b[0mself\u001b[0m\u001b[0;34m.\u001b[0m\u001b[0msession\u001b[0m\u001b[0;34m,\u001b[0m \u001b[0mself\u001b[0m\u001b[0;34m.\u001b[0m\u001b[0msync_endpoint\u001b[0m \u001b[0;34m+\u001b[0m \u001b[0;34m\"/qvm\"\u001b[0m\u001b[0;34m,\u001b[0m \u001b[0mpayload\u001b[0m\u001b[0;34m)\u001b[0m\u001b[0;34m\u001b[0m\u001b[0;34m\u001b[0m\u001b[0m\n\u001b[0m\u001b[1;32m    363\u001b[0m \u001b[0;34m\u001b[0m\u001b[0m\n\u001b[1;32m    364\u001b[0m         \u001b[0mram\u001b[0m \u001b[0;34m=\u001b[0m \u001b[0mresponse\u001b[0m\u001b[0;34m.\u001b[0m\u001b[0mjson\u001b[0m\u001b[0;34m(\u001b[0m\u001b[0;34m)\u001b[0m\u001b[0;34m\u001b[0m\u001b[0;34m\u001b[0m\u001b[0m\n",
      "\u001b[0;32m~/miniconda3/envs/quantum_research/lib/python3.7/site-packages/pyquil/api/_base_connection.py\u001b[0m in \u001b[0;36mpost_json\u001b[0;34m(session, url, json)\u001b[0m\n\u001b[1;32m     56\u001b[0m     \u001b[0mres\u001b[0m \u001b[0;34m=\u001b[0m \u001b[0msession\u001b[0m\u001b[0;34m.\u001b[0m\u001b[0mpost\u001b[0m\u001b[0;34m(\u001b[0m\u001b[0murl\u001b[0m\u001b[0;34m,\u001b[0m \u001b[0mjson\u001b[0m\u001b[0;34m=\u001b[0m\u001b[0mjson\u001b[0m\u001b[0;34m)\u001b[0m\u001b[0;34m\u001b[0m\u001b[0;34m\u001b[0m\u001b[0m\n\u001b[1;32m     57\u001b[0m     \u001b[0;32mif\u001b[0m \u001b[0mres\u001b[0m\u001b[0;34m.\u001b[0m\u001b[0mstatus_code\u001b[0m \u001b[0;34m>=\u001b[0m \u001b[0;36m400\u001b[0m\u001b[0;34m:\u001b[0m\u001b[0;34m\u001b[0m\u001b[0;34m\u001b[0m\u001b[0m\n\u001b[0;32m---> 58\u001b[0;31m         \u001b[0;32mraise\u001b[0m \u001b[0mparse_error\u001b[0m\u001b[0;34m(\u001b[0m\u001b[0mres\u001b[0m\u001b[0;34m)\u001b[0m\u001b[0;34m\u001b[0m\u001b[0;34m\u001b[0m\u001b[0m\n\u001b[0m\u001b[1;32m     59\u001b[0m     \u001b[0;32mreturn\u001b[0m \u001b[0mres\u001b[0m\u001b[0;34m\u001b[0m\u001b[0;34m\u001b[0m\u001b[0m\n\u001b[1;32m     60\u001b[0m \u001b[0;34m\u001b[0m\u001b[0m\n",
      "\u001b[0;31mQVMError\u001b[0m: Encountered the invalid instruction\n\n    NOISY-RX-PLUS-180 0\n\nwhich could not be executed because the operator NOISY-RX-PLUS-180 is not known\n\nThe QVM returned the above error. This could be due to a bug in the server or a\nbug in your code. If you suspect this to be a bug in pyQuil or Rigetti Forest,\nthen please describe the problem in a GitHub issue at:\n    https://github.com/rigetti/pyquil/issues"
     ]
    }
   ],
   "source": [
    "qvm = get_qc('Aspen-3-5Q-B', as_qvm=True, noisy=True)\n",
    "n_qubits = 1\n",
    "qubits = list(range(n_qubits))\n",
    "p = Program()\n",
    "p += X(1)\n",
    "p = p.measure_all()\n",
    "p.wrap_in_numshots_loop(100)\n",
    "\n",
    "#Compile and run\n",
    "prog = qvm.compile(p)\n",
    "result = qvm.run(prog)\n",
    "plot_result(result, n_qubits)"
   ]
  },
  {
   "cell_type": "markdown",
   "metadata": {},
   "source": [
    "Now we can try to see if by applying the noise to the QVM, we can obtain the same behavior described in the definitions of $T_{1}$ and $T_{2}$.<br>\n",
    "For $T_{1}$ we add a <i>X</i> gate and then we add an increasing number of <i>I</i> gates to create a time delay without changing anything in the program. We should se that the probability of finding the $|1\\rangle$ state decreases to 0 exponentially.<br>\n",
    "With this example we can also notice an interesting feature of the SDK: the possibility to add PRAGMA statements. In this case it is necessary to add PRESERVE_BLOCK and END_PRESERVE_BLOCK because the compiler would automatically simplify the circuit to optimize it. By adding those two pragma statements we are declaring that the gates between them must be left unchanged."
   ]
  },
  {
   "cell_type": "code",
   "execution_count": 9,
   "metadata": {},
   "outputs": [
    {
     "data": {
      "image/png": "[encoded data removed]",
      "text/plain": [
       "<Figure size 432x288 with 1 Axes>"
      ]
     },
     "metadata": {
      "needs_background": "light"
     },
     "output_type": "display_data"
    }
   ],
   "source": [
    "qvm = get_qc('9q-square-qvm', noisy=True)\n",
    "n_qubits = 1\n",
    "qubits = list(range(n_qubits))\n",
    "\n",
    "time_delays = np.arange(0, 2000, 200)\n",
    "one_probabilities = []\n",
    "\n",
    "for delay in time_delays:\n",
    "    p = Program()\n",
    "    p += X(0)\n",
    "    p += Pragma(\"PRESERVE_BLOCK\")\n",
    "    for _ in range(delay):\n",
    "        p += I(0)\n",
    "\n",
    "    p += Pragma(\"END_PRESERVE_BLOCK\")\n",
    "    p = p.measure_all()\n",
    "    p.wrap_in_numshots_loop(100)\n",
    "\n",
    "    #Compile and run\n",
    "    prog = qvm.compile(p)\n",
    "    result = qvm.run(prog)\n",
    "    frequencies, _ = get_frequencies(result, n_qubits)\n",
    "    one_probabilities.append(frequencies[1])\n",
    "plt.plot(time_delays, one_probabilities)\n",
    "axes = plt.gca()\n",
    "axes.set_ylim([0.0,1.0])\n",
    "plt.show()"
   ]
  },
  {
   "cell_type": "markdown",
   "metadata": {},
   "source": [
    "As expected, the probability decreases to 0 exponentially.<br>\n",
    "Let's repeat the same analysis for $T_{2}$. In this case by applying the <i>H</i> gate, than the delay blocks and the <i>H</i> gate again, we should see the probability of measuring $|0\\rangle$ decreasing from 1 to $\\frac{1}{2}$."
   ]
  },
  {
   "cell_type": "code",
   "execution_count": 13,
   "metadata": {},
   "outputs": [
    {
     "data": {
      "image/png": "[encoded data removed]",
      "text/plain": [
       "<Figure size 432x288 with 1 Axes>"
      ]
     },
     "metadata": {
      "needs_background": "light"
     },
     "output_type": "display_data"
    }
   ],
   "source": [
    "qvm = get_qc('9q-square-qvm', noisy=True)\n",
    "n_qubits = 1\n",
    "qubits = list(range(n_qubits))\n",
    "\n",
    "time_delays = np.arange(0, 2000, 200)\n",
    "zero_probabilities = []\n",
    "\n",
    "for delay in time_delays:\n",
    "    p = Program()\n",
    "    p += H(0)\n",
    "    p += Pragma(\"PRESERVE_BLOCK\")\n",
    "    for _ in range(delay):\n",
    "        p += I(0)\n",
    "\n",
    "    p += Pragma(\"END_PRESERVE_BLOCK\")\n",
    "    p += H(0)\n",
    "    p = p.measure_all()\n",
    "    p.wrap_in_numshots_loop(100)\n",
    "\n",
    "    #Compile and run\n",
    "    prog = qvm.compile(p)\n",
    "    result = qvm.run(prog)\n",
    "    frequencies, _ = get_frequencies(result, n_qubits)\n",
    "    zero_probabilities.append(1-frequencies[1])\n",
    "plt.plot(time_delays, zero_probabilities) \n",
    "axes = plt.gca()\n",
    "axes.set_ylim([0.0,1.0])\n",
    "plt.show()"
   ]
  },
  {
   "cell_type": "markdown",
   "metadata": {},
   "source": [
    "Again, the experimental result confirms the theoretical behavior."
   ]
  },
  {
   "cell_type": "markdown",
   "metadata": {},
   "source": [
    "Rigetti shows the characteristics of its Quantum Computers at https://rigetti.com/qpu.<br>\n",
    "By looking at the table below each Quantum Computer, even if we cannot replicate the same way in which the qubits are connected to each other (e.g. the double ring for the Rigetti 16Q Aspen-1), we can use the parameter values to model as much as possible the noise for that Quantum Computer using the function <i>add_decoherence_noise(prog, T1, T2, gate_time_1q, gate_time_2q, ro_fidelity)</i>.<br>"
   ]
  },
  {
   "cell_type": "markdown",
   "metadata": {},
   "source": [
    "For example the Rigetti 8Q Agave, for qubit 0, has \n",
    "- $T_{1} = 10.7 \\mu s$\n",
    "- $T_{2} = 10.6 \\mu s$\n",
    "- $\\text{gate_time_1q} = 50 ns$\n",
    "- $\\text{gate_time_2q} = 119 ns$ (for the couple 0-1)\n",
    "- $\\text{ro_fidelity} = 0.78$"
   ]
  },
  {
   "cell_type": "markdown",
   "metadata": {},
   "source": [
    "Let's execute the Grover's algorithm with 2 qubits with the considered architecture."
   ]
  },
  {
   "cell_type": "code",
   "execution_count": 57,
   "metadata": {},
   "outputs": [
    {
     "ename": "NoisyGateUndefined",
     "evalue": "Undefined gate and params: CNOT()\nPlease restrict yourself to I, RX(+/-pi), RX(+/-pi/2), CZ",
     "output_type": "error",
     "traceback": [
      "\u001b[0;31m---------------------------------------------------------------------------\u001b[0m",
      "\u001b[0;31mNoisyGateUndefined\u001b[0m                        Traceback (most recent call last)",
      "\u001b[0;32m<ipython-input-57-8ae0e122ced6>\u001b[0m in \u001b[0;36m<module>\u001b[0;34m\u001b[0m\n\u001b[1;32m     32\u001b[0m noisy = add_decoherence_noise(p, T1=10.7*10e6, T2=10.6*10e6, \n\u001b[1;32m     33\u001b[0m                               \u001b[0mgate_time_1q\u001b[0m\u001b[0;34m=\u001b[0m\u001b[0;36m50\u001b[0m\u001b[0;34m*\u001b[0m\u001b[0;36m10e9\u001b[0m\u001b[0;34m,\u001b[0m \u001b[0mgate_time_2q\u001b[0m\u001b[0;34m=\u001b[0m\u001b[0;36m119\u001b[0m\u001b[0;34m*\u001b[0m\u001b[0;36m10e9\u001b[0m\u001b[0;34m,\u001b[0m\u001b[0;34m\u001b[0m\u001b[0;34m\u001b[0m\u001b[0m\n\u001b[0;32m---> 34\u001b[0;31m                               ro_fidelity=0.78)\n\u001b[0m\u001b[1;32m     35\u001b[0m \u001b[0;34m\u001b[0m\u001b[0m\n\u001b[1;32m     36\u001b[0m \u001b[0mnoisy\u001b[0m\u001b[0;34m.\u001b[0m\u001b[0mwrap_in_numshots_loop\u001b[0m\u001b[0;34m(\u001b[0m\u001b[0;36m100\u001b[0m\u001b[0;34m)\u001b[0m\u001b[0;34m\u001b[0m\u001b[0;34m\u001b[0m\u001b[0m\n",
      "\u001b[0;32m~/miniconda3/envs/quantum_research/lib/python3.7/site-packages/pyquil/noise.py\u001b[0m in \u001b[0;36madd_decoherence_noise\u001b[0;34m(prog, T1, T2, gate_time_1q, gate_time_2q, ro_fidelity)\u001b[0m\n\u001b[1;32m    615\u001b[0m         \u001b[0mgate_time_1q\u001b[0m\u001b[0;34m=\u001b[0m\u001b[0mgate_time_1q\u001b[0m\u001b[0;34m,\u001b[0m\u001b[0;34m\u001b[0m\u001b[0;34m\u001b[0m\u001b[0m\n\u001b[1;32m    616\u001b[0m         \u001b[0mgate_time_2q\u001b[0m\u001b[0;34m=\u001b[0m\u001b[0mgate_time_2q\u001b[0m\u001b[0;34m,\u001b[0m\u001b[0;34m\u001b[0m\u001b[0;34m\u001b[0m\u001b[0m\n\u001b[0;32m--> 617\u001b[0;31m         \u001b[0mro_fidelity\u001b[0m\u001b[0;34m=\u001b[0m\u001b[0mro_fidelity\u001b[0m\u001b[0;34m\u001b[0m\u001b[0;34m\u001b[0m\u001b[0m\n\u001b[0m\u001b[1;32m    618\u001b[0m     )\n\u001b[1;32m    619\u001b[0m     \u001b[0;32mreturn\u001b[0m \u001b[0mapply_noise_model\u001b[0m\u001b[0;34m(\u001b[0m\u001b[0mprog\u001b[0m\u001b[0;34m,\u001b[0m \u001b[0mnoise_model\u001b[0m\u001b[0;34m)\u001b[0m\u001b[0;34m\u001b[0m\u001b[0;34m\u001b[0m\u001b[0m\n",
      "\u001b[0;32m~/miniconda3/envs/quantum_research/lib/python3.7/site-packages/pyquil/noise.py\u001b[0m in \u001b[0;36m_decoherence_noise_model\u001b[0;34m(gates, T1, T2, gate_time_1q, gate_time_2q, ro_fidelity)\u001b[0m\n\u001b[1;32m    466\u001b[0m         \u001b[0;32mif\u001b[0m \u001b[0mg\u001b[0m\u001b[0;34m.\u001b[0m\u001b[0mname\u001b[0m \u001b[0;32min\u001b[0m \u001b[0mNO_NOISE\u001b[0m\u001b[0;34m:\u001b[0m\u001b[0;34m\u001b[0m\u001b[0;34m\u001b[0m\u001b[0m\n\u001b[1;32m    467\u001b[0m             \u001b[0;32mcontinue\u001b[0m\u001b[0;34m\u001b[0m\u001b[0;34m\u001b[0m\u001b[0m\n\u001b[0;32m--> 468\u001b[0;31m         \u001b[0mmatrix\u001b[0m\u001b[0;34m,\u001b[0m \u001b[0m_\u001b[0m \u001b[0;34m=\u001b[0m \u001b[0mget_noisy_gate\u001b[0m\u001b[0;34m(\u001b[0m\u001b[0mg\u001b[0m\u001b[0;34m.\u001b[0m\u001b[0mname\u001b[0m\u001b[0;34m,\u001b[0m \u001b[0mg\u001b[0m\u001b[0;34m.\u001b[0m\u001b[0mparams\u001b[0m\u001b[0;34m)\u001b[0m\u001b[0;34m\u001b[0m\u001b[0;34m\u001b[0m\u001b[0m\n\u001b[0m\u001b[1;32m    469\u001b[0m \u001b[0;34m\u001b[0m\u001b[0m\n\u001b[1;32m    470\u001b[0m         \u001b[0;32mif\u001b[0m \u001b[0mlen\u001b[0m\u001b[0;34m(\u001b[0m\u001b[0mtargets\u001b[0m\u001b[0;34m)\u001b[0m \u001b[0;34m==\u001b[0m \u001b[0;36m1\u001b[0m\u001b[0;34m:\u001b[0m\u001b[0;34m\u001b[0m\u001b[0;34m\u001b[0m\u001b[0m\n",
      "\u001b[0;32m~/miniconda3/envs/quantum_research/lib/python3.7/site-packages/pyquil/noise.py\u001b[0m in \u001b[0;36mget_noisy_gate\u001b[0;34m(gate_name, params)\u001b[0m\n\u001b[1;32m    393\u001b[0m     raise NoisyGateUndefined(\"Undefined gate and params: {}{}\\n\"\n\u001b[1;32m    394\u001b[0m                              \u001b[0;34m\"Please restrict yourself to I, RX(+/-pi), RX(+/-pi/2), CZ\"\u001b[0m\u001b[0;34m\u001b[0m\u001b[0;34m\u001b[0m\u001b[0m\n\u001b[0;32m--> 395\u001b[0;31m                              .format(gate_name, params))\n\u001b[0m\u001b[1;32m    396\u001b[0m \u001b[0;34m\u001b[0m\u001b[0m\n\u001b[1;32m    397\u001b[0m \u001b[0;34m\u001b[0m\u001b[0m\n",
      "\u001b[0;31mNoisyGateUndefined\u001b[0m: Undefined gate and params: CNOT()\nPlease restrict yourself to I, RX(+/-pi), RX(+/-pi/2), CZ"
     ]
    }
   ],
   "source": [
    "qvm = get_qc('9q-square-qvm')\n",
    "n_qubits = 2\n",
    "qubits = list(range(n_qubits))\n",
    "p = Program()\n",
    "\n",
    "def superposition(p, qubits):\n",
    "    for qubit in qubits:\n",
    "        p += H(qubit)\n",
    "        \n",
    "def oracle(p, qubits):\n",
    "    p += H(1)\n",
    "    p += CNOT(0,1)\n",
    "    p += H(1)\n",
    "    \n",
    "def phase_shift(p, qubits):\n",
    "    for qubit in qubits:\n",
    "        p += X(qubit)\n",
    "    p += H(1)\n",
    "    p += CNOT(0, 1)\n",
    "    p += H(1)\n",
    "    for qubit in qubits:\n",
    "        p += X(qubit)\n",
    "\n",
    "superposition(p, qubits)\n",
    "oracle(p, qubits)\n",
    "superposition(p, qubits)\n",
    "phase_shift(p, qubits)\n",
    "superposition(p, qubits)\n",
    "p = p.measure_all()\n",
    "\n",
    "#Add noise \n",
    "noisy = add_decoherence_noise(p, T1=10.7*10e6, T2=10.6*10e6, \n",
    "                              gate_time_1q=50*10e9, gate_time_2q=119*10e9, \n",
    "                              ro_fidelity=0.78)\n",
    "\n",
    "noisy.wrap_in_numshots_loop(100)\n",
    "grover = qvm.compile(p)\n",
    "result = qvm.run(grover)"
   ]
  },
  {
   "cell_type": "markdown",
   "metadata": {},
   "source": [
    "As we can see from the error, we can use add_decoherence_noise() only to programs having I, RX(+/-pi), RX(+/-pi/2) and CZ gates. This would be achieved by performing qvm.compile(p) before calling the add_decoherence_noise(). But this results in another error because the latter function is not able to get the gates from the compiled program.<br>\n",
    "We can write the program directly with the mentioned gates. <br>"
   ]
  },
  {
   "cell_type": "markdown",
   "metadata": {},
   "source": [
    "The optimized version can be easily obtained by compiling the program and printing it."
   ]
  },
  {
   "cell_type": "code",
   "execution_count": 60,
   "metadata": {},
   "outputs": [
    {
     "name": "stdout",
     "output_type": "stream",
     "text": [
      "DECLARE ro BIT[2]\n",
      "PRAGMA EXPECTED_REWIRING \"#(0 1 2 3 4 5 6 7 8)\"\n",
      "RZ(pi/2) 0\n",
      "RX(pi/2) 0\n",
      "RZ(-pi/2) 1\n",
      "RX(pi/2) 1\n",
      "CZ 1 0\n",
      "RX(-pi/2) 0\n",
      "RZ(pi) 1\n",
      "RX(pi/2) 1\n",
      "CZ 1 0\n",
      "RZ(pi) 0\n",
      "RX(pi/2) 0\n",
      "RZ(-pi/2) 0\n",
      "MEASURE 0 ro[0]\n",
      "RX(pi/2) 1\n",
      "RZ(pi/2) 1\n",
      "MEASURE 1 ro[1]\n",
      "PRAGMA CURRENT_REWIRING \"#(0 1 2 3 4 5 6 7 8)\"\n",
      "HALT\n",
      "\n"
     ]
    }
   ],
   "source": [
    "p_compiled = qvm.compile(p)\n",
    "print(p_compiled['program'])"
   ]
  },
  {
   "cell_type": "code",
   "execution_count": 56,
   "metadata": {},
   "outputs": [
    {
     "data": {
      "image/png": "[encoded data removed]",
      "text/plain": [
       "<Figure size 432x288 with 1 Axes>"
      ]
     },
     "metadata": {
      "needs_background": "light"
     },
     "output_type": "display_data"
    }
   ],
   "source": [
    "p = Program()\n",
    "ro = p.declare('ro', memory_type='BIT', memory_size=2)\n",
    "p += RZ(pi/2, 0)\n",
    "p += RX(pi/2, 0)\n",
    "p += RZ(-pi/2, 1)\n",
    "p += RX(pi/2, 1)\n",
    "p += CZ(1, 0)\n",
    "p += RX(-pi/2, 0)\n",
    "p += RZ(pi, 1)\n",
    "p += RX(pi/2, 1)\n",
    "p += CZ(1, 0)\n",
    "p += RZ(pi, 0)\n",
    "p += RX(pi/2, 0)\n",
    "p += RZ(-pi/2, 0)\n",
    "p += MEASURE(0, ro[0])\n",
    "p += RX(pi/2, 1)\n",
    "p += RZ(pi/2, 1)\n",
    "p += MEASURE(1, ro[1])\n",
    "\n",
    "noisy = add_decoherence_noise(p, T1=10.7*10e6, T2=10.6*10e6, \n",
    "                              gate_time_1q=50*10e9, gate_time_2q=119*10e9, \n",
    "                              ro_fidelity=0.78)\n",
    "noisy.wrap_in_numshots_loop(100)\n",
    "\n",
    "grover = qvm.compile(noisy)\n",
    "\n",
    "result = qvm.run(grover)\n",
    "plot_result(result, n_qubits)"
   ]
  },
  {
   "cell_type": "markdown",
   "metadata": {},
   "source": [
    "The result is strongly skewed towards $|11\\rangle$, which is the correct value. But we can see that the noise has introduced some further uncertainty and we expect to obtain a similar result on the same real quantum computer."
   ]
  }
 ],
 "metadata": {
  "kernelspec": {
   "display_name": "Python [conda env:quantum_research]",
   "language": "python",
   "name": "conda-env-quantum_research-py"
  },
  "language_info": {
   "codemirror_mode": {
    "name": "ipython",
    "version": 3
   },
   "file_extension": ".py",
   "mimetype": "text/x-python",
   "name": "python",
   "nbconvert_exporter": "python",
   "pygments_lexer": "ipython3",
   "version": "3.7.2"
  }
 },
 "nbformat": 4,
 "nbformat_minor": 2
}
