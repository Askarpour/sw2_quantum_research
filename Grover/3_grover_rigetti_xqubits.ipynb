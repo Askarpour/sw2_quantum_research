{
 "cells": [
  {
   "cell_type": "markdown",
   "metadata": {},
   "source": [
    "# Grover's algorithm implementation in Rigetti Forest with arbitrary qubits"
   ]
  },
  {
   "cell_type": "markdown",
   "metadata": {},
   "source": [
    "In the previous notebook we have seen how to implement the Grover's algorithm in the case of 2 qubits, corresponding to a database of $2^{2}=4$ elements.<br>\n",
    "Now we want to extend to cases of 3 and <i>n</i> qubits.<br>"
   ]
  },
  {
   "cell_type": "markdown",
   "metadata": {},
   "source": [
    "## 3 Qubits\n",
    "If we want to obtain the element |111> we need to use a Controlled Controlled Z gate, which has the following matrix representation:<br><br>\n",
    "$$ CCZ=\n",
    "\\begin{bmatrix}\n",
    "1&0&0&0&0&0&0&0\\\\\n",
    "0&1&0&0&0&0&0&0\\\\\n",
    "0&0&1&0&0&0&0&0\\\\\n",
    "0&0&0&1&0&0&0&0\\\\\n",
    "0&0&0&0&1&0&0&0\\\\\n",
    "0&0&0&0&0&1&0&0\\\\\n",
    "0&0&0&0&0&0&1&0\\\\\n",
    "0&0&0&0&0&0&0&-1\n",
    "\\end{bmatrix}\n",
    "$$\n",
    "It turns out that the CCZ gate is not available in Forest SDK, so it will have to be built combining other basic gates.<br>\n",
    "According to <a href=\"https://quantumcomputing.stackexchange.com/a/2205\">https://quantumcomputing.stackexchange.com/a/2205</a> it is required to combine multiple CNOT, T and DAGGER T gates as follows:\n",
    "<img src=\"img/ccz.png\" width=\"600\">"
   ]
  },
  {
   "cell_type": "code",
   "execution_count": 77,
   "metadata": {},
   "outputs": [],
   "source": [
    "from pyquil import Program, get_qc\n",
    "from pyquil.gates import *\n",
    "from pyquil.quilbase import DefGate\n",
    "import numpy as np\n",
    "from math import pi\n",
    "import matplotlib.pyplot as plt\n",
    "from collections import Counter\n",
    "\n",
    "qvm = get_qc('9q-square-qvm')\n",
    "n_qubits = 3\n",
    "qubits = list(range(n_qubits))"
   ]
  },
  {
   "cell_type": "code",
   "execution_count": 78,
   "metadata": {},
   "outputs": [],
   "source": [
    "def ccz(p, qubits):\n",
    "    p += CNOT(1, 2)\n",
    "    p += RZ(-pi/4, 2) #DAGGER T\n",
    "    p += CNOT(0, 2)\n",
    "    p += T(2) # Equivalent to RZ(pi/4, 2)\n",
    "    p += CNOT(1, 2)\n",
    "    p += RZ(-pi/4, 2)\n",
    "    p += CNOT(0, 2)\n",
    "    p += T(1)\n",
    "    p += T(2)\n",
    "    p += CNOT(0, 1)\n",
    "    p += RZ(-pi/4, 1)\n",
    "    p += CNOT(0, 1)\n",
    "    p += T(0)"
   ]
  },
  {
   "cell_type": "code",
   "execution_count": 79,
   "metadata": {},
   "outputs": [],
   "source": [
    "def superposition(p, qubits):\n",
    "    for qubit in qubits:\n",
    "        p += H(qubit)\n",
    "        \n",
    "def oracle(p, qubits):\n",
    "    ccz(p, qubits)\n",
    "\n",
    "def phase_shift(p, qubits):\n",
    "    for qubit in qubits:\n",
    "        p += X(qubit)\n",
    "    ccz(p, qubits)\n",
    "    for qubit in qubits:\n",
    "        p += X(qubit)"
   ]
  },
  {
   "cell_type": "markdown",
   "metadata": {},
   "source": [
    "We will run the algorithm 100 times to better see the probability of finding the solutions."
   ]
  },
  {
   "cell_type": "code",
   "execution_count": 80,
   "metadata": {},
   "outputs": [
    {
     "data": {
      "image/png": "[encoded data removed]",
      "text/plain": [
       "<Figure size 432x288 with 1 Axes>"
      ]
     },
     "metadata": {
      "needs_background": "light"
     },
     "output_type": "display_data"
    }
   ],
   "source": [
    "p = Program()\n",
    "superposition(p, qubits)\n",
    "\n",
    "oracle(p, qubits)\n",
    "\n",
    "superposition(p, qubits)\n",
    "phase_shift(p, qubits)\n",
    "superposition(p, qubits)\n",
    "\n",
    "p = p.measure_all()\n",
    "\n",
    "p.wrap_in_numshots_loop(100)\n",
    "grover = qvm.compile(p)\n",
    "result = qvm.run(grover)"
   ]
  },
  {
   "cell_type": "code",
   "execution_count": 81,
   "metadata": {},
   "outputs": [
    {
     "data": {
      "image/png": "[encoded data removed]",
      "text/plain": [
       "<Figure size 432x288 with 1 Axes>"
      ]
     },
     "metadata": {
      "needs_background": "light"
     },
     "output_type": "display_data"
    }
   ],
   "source": [
    "def plot_result(result, n_qubits):\n",
    "    result_int = result.dot(2**np.arange(n_qubits)[::-1])\n",
    "    int2binary = np.vectorize(np.binary_repr)\n",
    "    result_string = int2binary(result_int, n_qubits)\n",
    "\n",
    "    counts = Counter(result_string)\n",
    "    bit_strings = int2binary(np.arange(0, 2**n_qubits), n_qubits)\n",
    "    counts = [counts[bit_string] for bit_string in bit_strings]\n",
    "    frequencies = [value/len(result_int) for value in counts]\n",
    "    \n",
    "\n",
    "    plt.bar(bit_strings, frequencies)\n",
    "    plt.show()\n",
    "\n",
    "plot_result(result, n_qubits)"
   ]
  },
  {
   "cell_type": "markdown",
   "metadata": {},
   "source": [
    "We can observe that not all the results are equal to our solution |111>. That's because Grover's algorithm has to perform $round(\\frac{\\pi}{4}\\sqrt{N})$ iterations to get a near-optimal probability of finding the solution.<br>\n",
    "Hence, in this case, $round(2.2)= 2$ iterations are required."
   ]
  },
  {
   "cell_type": "code",
   "execution_count": 82,
   "metadata": {},
   "outputs": [
    {
     "data": {
      "image/png": "[encoded data removed]",
      "text/plain": [
       "<Figure size 432x288 with 1 Axes>"
      ]
     },
     "metadata": {
      "needs_background": "light"
     },
     "output_type": "display_data"
    }
   ],
   "source": [
    "p = Program()\n",
    "superposition(p, qubits)\n",
    "\n",
    "for _ in range(2):\n",
    "    oracle(p, qubits)\n",
    "\n",
    "    superposition(p, qubits)\n",
    "    phase_shift(p, qubits)\n",
    "    superposition(p, qubits)\n",
    "\n",
    "p = p.measure_all()\n",
    "\n",
    "p.wrap_in_numshots_loop(100)\n",
    "grover = qvm.compile(p)\n",
    "result = qvm.run(grover)\n",
    "plot_result(result, n_qubits)"
   ]
  },
  {
   "cell_type": "markdown",
   "metadata": {},
   "source": [
    "The probability of finding the solution in two iterations is not exactly 1, in fact, we see that the number of correct results is greater than the one from a single iteration, but we still see some wrong results."
   ]
  },
  {
   "cell_type": "markdown",
   "metadata": {},
   "source": [
    "Notice that if we perform more than 2 iterations, the performance starts to worsen. So the algorithm doesn't follow the principle that the more iterations are performed, the better is the result."
   ]
  },
  {
   "cell_type": "code",
   "execution_count": 83,
   "metadata": {},
   "outputs": [
    {
     "data": {
      "image/png": "[encoded data removed]",
      "text/plain": [
       "<Figure size 432x288 with 1 Axes>"
      ]
     },
     "metadata": {
      "needs_background": "light"
     },
     "output_type": "display_data"
    }
   ],
   "source": [
    "p = Program()\n",
    "superposition(p, qubits)\n",
    "\n",
    "for _ in range(3):\n",
    "    oracle(p, qubits)\n",
    "\n",
    "    superposition(p, qubits)\n",
    "    phase_shift(p, qubits)\n",
    "    superposition(p, qubits)\n",
    "\n",
    "p = p.measure_all()\n",
    "\n",
    "p.wrap_in_numshots_loop(100)\n",
    "grover = qvm.compile(p)\n",
    "result = qvm.run(grover)\n",
    "plot_result(result, n_qubits)"
   ]
  },
  {
   "cell_type": "markdown",
   "metadata": {},
   "source": [
    "## Finding arbitrary solutions\n",
    "Up to now, to simplify the problem, we have always considered cases in which the solution was |11> or |111>, because the corresponding oracle was respectively the CZ and CCZ gate.<br>\n",
    "But what if we want to search for other elements of the database?"
   ]
  },
  {
   "cell_type": "markdown",
   "metadata": {},
   "source": [
    "There are two techniques to design the oracle operator, as described in <a href=\"https://arxiv.org/pdf/1703.10535.pdf\">Complete 3-Qubit Grover Search on a Programmable Quantum Computer</a>: the <b>boolean oracle</b> and the <b>phase oracle</b>.<br>\n",
    "The former is the most straightforward, because it is based on the same principles of the boolean algebra, but it needs one qubit more (called ancilla qubit) than the latter.<br>\n",
    "In the previous examples we have always used the phase oracle, so, if we would like to search for different solutions (e.g. |10>) we would have to use oracles whose combination of gates is not very intuitive (e.g. S(0), CZ(0,1) and S(0) in the case of |10>)."
   ]
  },
  {
   "cell_type": "markdown",
   "metadata": {},
   "source": [
    "For this reason the boolean oracles will be used for the next example: the oracle is composed by a NOT whose target is the ancilla qubit and the control are all the other qubits. The qubits whose corresponding value of the solution is 0 (e.g. the first qubit for the solution |011>) are surronded by an X gate (which is equivalent to a NOT). In this way the ancilla qubit will flip, set initially to |1>, will flip only when the control qubits, or their negation if surronded by X gates, are equal to 1."
   ]
  },
  {
   "cell_type": "markdown",
   "metadata": {},
   "source": [
    "Let's consider the oracle for the solution |011>:\n",
    "<img src=\"img/boolean.png\">"
   ]
  },
  {
   "cell_type": "markdown",
   "metadata": {},
   "source": [
    "The gate between the two X gates is the CCCNOT (Triple controlled NOT).<br>\n",
    "Similarly to what happened for the CCZ gate, the CCCNOT gate is not available in the Forest SDK, but in this case, instead of using an equivalent combination of fundamental gates, we will use a useful SDK's feature: <b>defining new gates</b>.<br>\n",
    "By using <b>DefGate()</b> we can create new gates based on their matrix representation. This feature is available only for the Quantum Virtual Machine, because in a real computer we are restricted to use fundamental gates or their combination.<br>\n",
    "The CCCNOT gate is represented by the matrix:<br><br>\n",
    "$$ CCCNOT =\n",
    "\\begin{bmatrix}\n",
    "1&0&0&0&0&0&0&0&0&0&0&0&0&0&0&0\\\\\n",
    "0&1&0&0&0&0&0&0&0&0&0&0&0&0&0&0\\\\\n",
    "0&0&1&0&0&0&0&0&0&0&0&0&0&0&0&0\\\\\n",
    "0&0&0&1&0&0&0&0&0&0&0&0&0&0&0&0\\\\\n",
    "0&0&0&0&1&0&0&0&0&0&0&0&0&0&0&0\\\\\n",
    "0&0&0&0&0&1&0&0&0&0&0&0&0&0&0&0\\\\\n",
    "0&0&0&0&0&0&1&0&0&0&0&0&0&0&0&0\\\\\n",
    "0&0&0&0&0&0&0&1&0&0&0&0&0&0&0&0\\\\\n",
    "0&0&0&0&0&0&0&0&1&0&0&0&0&0&0&0\\\\\n",
    "0&0&0&0&0&0&0&0&0&1&0&0&0&0&0&0\\\\\n",
    "0&0&0&0&0&0&0&0&0&0&1&0&0&0&0&0\\\\\n",
    "0&0&0&0&0&0&0&0&0&0&0&1&0&0&0&0\\\\\n",
    "0&0&0&0&0&0&0&0&0&0&0&0&1&0&0&0\\\\\n",
    "0&0&0&0&0&0&0&0&0&0&0&0&0&1&0&0\\\\\n",
    "0&0&0&0&0&0&0&0&0&0&0&0&0&0&0&1\\\\\n",
    "0&0&0&0&0&0&0&0&0&0&0&0&0&0&1&0\n",
    "\\end{bmatrix}\n",
    "$$"
   ]
  },
  {
   "cell_type": "code",
   "execution_count": 84,
   "metadata": {},
   "outputs": [
    {
     "name": "stdout",
     "output_type": "stream",
     "text": [
      "[[1. 0. 0. 0. 0. 0. 0. 0. 0. 0. 0. 0. 0. 0. 0. 0.]\n",
      " [0. 1. 0. 0. 0. 0. 0. 0. 0. 0. 0. 0. 0. 0. 0. 0.]\n",
      " [0. 0. 1. 0. 0. 0. 0. 0. 0. 0. 0. 0. 0. 0. 0. 0.]\n",
      " [0. 0. 0. 1. 0. 0. 0. 0. 0. 0. 0. 0. 0. 0. 0. 0.]\n",
      " [0. 0. 0. 0. 1. 0. 0. 0. 0. 0. 0. 0. 0. 0. 0. 0.]\n",
      " [0. 0. 0. 0. 0. 1. 0. 0. 0. 0. 0. 0. 0. 0. 0. 0.]\n",
      " [0. 0. 0. 0. 0. 0. 1. 0. 0. 0. 0. 0. 0. 0. 0. 0.]\n",
      " [0. 0. 0. 0. 0. 0. 0. 1. 0. 0. 0. 0. 0. 0. 0. 0.]\n",
      " [0. 0. 0. 0. 0. 0. 0. 0. 1. 0. 0. 0. 0. 0. 0. 0.]\n",
      " [0. 0. 0. 0. 0. 0. 0. 0. 0. 1. 0. 0. 0. 0. 0. 0.]\n",
      " [0. 0. 0. 0. 0. 0. 0. 0. 0. 0. 1. 0. 0. 0. 0. 0.]\n",
      " [0. 0. 0. 0. 0. 0. 0. 0. 0. 0. 0. 1. 0. 0. 0. 0.]\n",
      " [0. 0. 0. 0. 0. 0. 0. 0. 0. 0. 0. 0. 1. 0. 0. 0.]\n",
      " [0. 0. 0. 0. 0. 0. 0. 0. 0. 0. 0. 0. 0. 1. 0. 0.]\n",
      " [0. 0. 0. 0. 0. 0. 0. 0. 0. 0. 0. 0. 0. 0. 0. 1.]\n",
      " [0. 0. 0. 0. 0. 0. 0. 0. 0. 0. 0. 0. 0. 0. 1. 0.]]\n"
     ]
    }
   ],
   "source": [
    "p = Program()\n",
    "# Add the ancilla qubit\n",
    "n_qubits = 4\n",
    "qubits = list(range(n_qubits))\n",
    "\n",
    "# Number of elements\n",
    "N = 2 ** n_qubits\n",
    "\n",
    "# Initialize a matrix of zeros with size NxN\n",
    "cccnot = np.zeros(shape=(N, N))\n",
    "\n",
    "# Set the main diagonal equal to 1, except for the last 2 elements\n",
    "for q in range(N-2):\n",
    "    cccnot[q, q] = 1\n",
    "\n",
    "# Set the elements of the NOT operator\n",
    "cccnot[N-2, N-1] = 1\n",
    "cccnot[N-1, N-2] = 1\n",
    "print(cccnot)"
   ]
  },
  {
   "cell_type": "code",
   "execution_count": 85,
   "metadata": {},
   "outputs": [],
   "source": [
    "cccnot_definition = DefGate(\"CCCNOT\", cccnot)\n",
    "\n",
    "#Remember to add the gate definition to the program\n",
    "p += cccnot_definition\n",
    "CCCNOT = cccnot_definition.get_constructor()"
   ]
  },
  {
   "cell_type": "markdown",
   "metadata": {},
   "source": [
    "Now we can use CCCNOT in the same way as the other predefined gates.<br>\n",
    "Let's implement the circuit."
   ]
  },
  {
   "cell_type": "code",
   "execution_count": 86,
   "metadata": {},
   "outputs": [],
   "source": [
    "# Set the ancilla qubit to 1\n",
    "p += X(3)\n",
    "superposition(p, qubits)\n",
    "\n",
    "for _ in range(2):\n",
    "    #Oracle\n",
    "    p += X(0)\n",
    "    p += CCCNOT(*qubits)\n",
    "    p += X(0)\n",
    "\n",
    "    #Diffusion\n",
    "    superposition(p, qubits)\n",
    "    phase_shift(p, qubits[:-1]) # Exclude the ancilla from the phase shift\n",
    "    superposition(p, qubits[:-1])"
   ]
  },
  {
   "cell_type": "markdown",
   "metadata": {},
   "source": [
    "In this case we don't want to measure the ancilla qubit, so, instead of using the function measure_all() we will have to manually declare a memory space of 3 qubits and add the three desired measure gates."
   ]
  },
  {
   "cell_type": "code",
   "execution_count": 87,
   "metadata": {},
   "outputs": [
    {
     "data": {
      "image/png": "[encoded data removed]",
      "text/plain": [
       "<Figure size 432x288 with 1 Axes>"
      ]
     },
     "metadata": {
      "needs_background": "light"
     },
     "output_type": "display_data"
    }
   ],
   "source": [
    "ro = p.declare('ro', 'BIT', 3)\n",
    "p += MEASURE(0, ro[0])\n",
    "p += MEASURE(1, ro[1])\n",
    "p += MEASURE(2, ro[2])\n",
    "p.wrap_in_numshots_loop(100)\n",
    "grover = qvm.compile(p)\n",
    "result = qvm.run(grover)\n",
    "plot_result(result, n_qubits-1) #Don't consider the ancilla qubit"
   ]
  },
  {
   "cell_type": "markdown",
   "metadata": {},
   "source": [
    "We iterated 2 times the oracle and diffusion operators, but even if we see a prevalence of |011> states, they are not in the same proportion as in the previous execution. Why?<br>\n",
    "That's because of the ancilla qubit: we need a new \"clean\" one for each iteration.<br>\n",
    "Let's try to use 3 normal qubits and 2 ancilla qubits and using different ancilla qubits at each iteration."
   ]
  },
  {
   "cell_type": "code",
   "execution_count": 88,
   "metadata": {
    "scrolled": true
   },
   "outputs": [],
   "source": [
    "n_qubits = 5\n",
    "qubits = list(range(n_qubits))\n",
    "\n",
    "p = Program()\n",
    "p += cccnot_definition\n",
    "\n",
    "# Set the ancilla qubits to 1\n",
    "p += X(3)\n",
    "p += X(4)\n",
    "superposition(p, qubits)\n",
    "\n",
    "## Iteration 1\n",
    "#Oracle\n",
    "p += X(0)\n",
    "p += CCCNOT(0,1,2,3)\n",
    "p += X(0)\n",
    "\n",
    "#Diffusion\n",
    "superposition(p, [0,1,2,3])\n",
    "phase_shift(p, [0,1,2])\n",
    "superposition(p, [0,1,2])\n",
    "\n",
    "## Iteration 2\n",
    "#Oracle\n",
    "p += X(0)\n",
    "p += CCCNOT(0,1,2,4)\n",
    "p += X(0)\n",
    "\n",
    "#Diffusion\n",
    "superposition(p, [0,1,2,4])\n",
    "phase_shift(p, [0,1,2])\n",
    "superposition(p, [0,1,2])"
   ]
  },
  {
   "cell_type": "code",
   "execution_count": 89,
   "metadata": {},
   "outputs": [
    {
     "data": {
      "image/png": "[encoded data removed]",
      "text/plain": [
       "<Figure size 432x288 with 1 Axes>"
      ]
     },
     "metadata": {
      "needs_background": "light"
     },
     "output_type": "display_data"
    }
   ],
   "source": [
    "ro = p.declare('ro', 'BIT', 3)\n",
    "p += MEASURE(0, ro[0])\n",
    "p += MEASURE(1, ro[1])\n",
    "p += MEASURE(2, ro[2])\n",
    "p.wrap_in_numshots_loop(100)\n",
    "grover = qvm.compile(p)\n",
    "result = qvm.run(grover)\n",
    "plot_result(result, n_qubits-2)"
   ]
  },
  {
   "cell_type": "markdown",
   "metadata": {},
   "source": [
    "## n Qubits\n",
    "Notice that the definition of the Controlled NOT gate using the matrix representation is general and allows the use of the gate with an arbitrary number of control qubits.<br>\n",
    "The same principle can be applied to the Controlled Z required to perform the phase shift in the diffusion operator.<br>\n",
    "In this way it is possible to execute (only in the simulated environment of the Quantum Virtual Machine) the Grover's algorithm with an arbitrary number of qubits. "
   ]
  }
 ],
 "metadata": {
  "kernelspec": {
   "display_name": "Python 3",
   "language": "python",
   "name": "python3"
  },
  "language_info": {
   "codemirror_mode": {
    "name": "ipython",
    "version": 3
   },
   "file_extension": ".py",
   "mimetype": "text/x-python",
   "name": "python",
   "nbconvert_exporter": "python",
   "pygments_lexer": "ipython3",
   "version": "3.7.2"
  }
 },
 "nbformat": 4,
 "nbformat_minor": 2
}
