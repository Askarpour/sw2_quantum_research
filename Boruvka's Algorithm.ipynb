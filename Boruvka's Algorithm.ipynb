{
 "cells": [
  {
   "cell_type": "markdown",
   "metadata": {},
   "source": [
    "## Libreries Imports"
   ]
  },
  {
   "cell_type": "code",
   "execution_count": 11,
   "metadata": {},
   "outputs": [],
   "source": [
    "import numpy as np\n",
    "from pprint import pprint\n",
    "np.random.seed(1337)"
   ]
  },
  {
   "cell_type": "markdown",
   "metadata": {},
   "source": [
    "# Settings"
   ]
  },
  {
   "cell_type": "code",
   "execution_count": 12,
   "metadata": {},
   "outputs": [],
   "source": [
    "n_of_vertecies = 5"
   ]
  },
  {
   "cell_type": "markdown",
   "metadata": {},
   "source": [
    "## Creating the test Graph\n",
    "For convinence we create a weighted graph as an adjacency matrix that then we will convert to an adjacency Lists as the Algorithm needs."
   ]
  },
  {
   "cell_type": "markdown",
   "metadata": {},
   "source": [
    "We create a random matrix using an uniform distributions between -1 and 1. then all the values less than zero are set to zero so we get a random weighted graph."
   ]
  },
  {
   "cell_type": "code",
   "execution_count": 13,
   "metadata": {},
   "outputs": [
    {
     "name": "stdout",
     "output_type": "stream",
     "text": [
      "array([[0.        , 0.        , 0.        , 0.        , 0.        ],\n",
      "       [0.03678564, 0.        , 0.95217057, 0.46562911, 0.        ],\n",
      "       [0.        , 0.25700236, 0.        , 0.96709721, 0.        ],\n",
      "       [0.57911668, 0.58823715, 0.        , 0.        , 0.16851626],\n",
      "       [0.52034355, 0.        , 0.        , 0.34043772, 0.        ]])\n"
     ]
    }
   ],
   "source": [
    "graph_matrix = 2*np.random.random((n_of_vertecies,n_of_vertecies)) - 1\n",
    "graph_matrix[graph_matrix < 0] = 0\n",
    "pprint(graph_matrix)"
   ]
  },
  {
   "cell_type": "markdown",
   "metadata": {},
   "source": [
    "now to convert the adjacency matrix to an adjacency list we just iterate over the rows of the matrix e save the cols indecies where the value are bigger than 0"
   ]
  },
  {
   "cell_type": "code",
   "execution_count": 25,
   "metadata": {},
   "outputs": [
    {
     "name": "stdout",
     "output_type": "stream",
     "text": [
      "[[], [0, 2, 3], [1, 3], [0, 1, 4], [0, 3]]\n"
     ]
    }
   ],
   "source": [
    "graph_list = [list(np.where(graph_matrix[row] > 0)[0]) for row in range(n_of_vertecies)]\n",
    "pprint(graph_list)"
   ]
  },
  {
   "cell_type": "code",
   "execution_count": null,
   "metadata": {},
   "outputs": [],
   "source": []
  }
 ],
 "metadata": {
  "kernelspec": {
   "display_name": "Python 3",
   "language": "python",
   "name": "python3"
  },
  "language_info": {
   "codemirror_mode": {
    "name": "ipython",
    "version": 3
   },
   "file_extension": ".py",
   "mimetype": "text/x-python",
   "name": "python",
   "nbconvert_exporter": "python",
   "pygments_lexer": "ipython3",
   "version": "3.7.0"
  }
 },
 "nbformat": 4,
 "nbformat_minor": 2
}
