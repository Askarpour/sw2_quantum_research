{
 "cells": [
  {
   "cell_type": "markdown",
   "metadata": {},
   "source": [
    "## Comparison between Quantum Software Platforms\n",
    "\n",
    "#### Reference: https://arxiv.org/pdf/1807.02500.pdf\n",
    "\n",
    "#### Platforms:\n",
    "- [pyQuil](http://docs.rigetti.com/en/stable/)\n",
    "- [QISKit](https://qiskit.org/)\n",
    "- [ProjectQ](https://projectq.ch/)\n",
    "- [Quantum Development Kit](https://www.microsoft.com/en-us/quantum/development-kit)\n",
    "\n",
    "#### 1) pyQuil\n",
    "\n",
    "Open-source Python library developed by Rigetti. It requires Python 2 or 3 (Python 3 strongly recommended).\n",
    "\n",
    "```\n",
    "pip install pyquil\n",
    "```\n",
    "\n",
    "#### 2) QISKit\n",
    "\n",
    "Open-source SDK for working with the OpenQUASM quantum language and quantum processors in the IBM Q experience. Available for Python, Javascript and Swift (Python >= 3.5 required).\n",
    "\n",
    "```\n",
    "pip install qiskit\n",
    "```\n",
    "\n",
    "#### 3) ProjectQ\n",
    "\n",
    "Open-source framework for quantum computing developed at ETH Zurich, featuring connectivity to IBM's quantum backend and providing a high performance simulator (Python 2.7 or 3.4+).\n",
    "\n",
    "```\n",
    "python -m pip install --user projectq\n",
    "\n",
    "python -m pip install --user --global-option=--without-cppsimulator\n",
    "```\n",
    "\n",
    "#### 4) Quantum Development Kit\n",
    "\n",
    "Microsoft SDK for quantum computing. This is the youngest of the four platforms here listed, but it has some interesting characteristics, like the use of a specific language, Q# and also of a completely different technology, based on Majorana fermions (which is the reason why right now there are no hardware devices on which run the algorithms).\n",
    "\n",
    "Installation: https://docs.microsoft.com/en-us/quantum/?view=qsharp-preview\n",
    "\n",
    "## Summary\n",
    "\n",
    "<table style=\"border-collapse:collapse;border-spacing:0;border-color:#ccc\" class=\"tg\"><tr><th style=\"font-family:Arial, sans-serif;font-size:14px;font-weight:normal;padding:10px 5px;border-style:solid;border-width:1px;overflow:hidden;word-break:normal;border-color:inherit;color:#333;background-color:#f0f0f0;text-align:center;vertical-align:top\">Platform</th><th style=\"font-family:Arial, sans-serif;font-size:14px;font-weight:normal;padding:10px 5px;border-style:solid;border-width:1px;overflow:hidden;word-break:normal;border-color:inherit;color:#333;background-color:#f0f0f0;text-align:center;vertical-align:top\">Documentation</th><th style=\"font-family:Arial, sans-serif;font-size:14px;font-weight:normal;padding:10px 5px;border-style:solid;border-width:1px;overflow:hidden;word-break:normal;border-color:inherit;color:#333;background-color:#f0f0f0;text-align:center;vertical-align:top\">Usability</th><th style=\"font-family:Arial, sans-serif;font-size:14px;font-weight:normal;padding:10px 5px;border-style:solid;border-width:1px;overflow:hidden;word-break:normal;border-color:inherit;color:#333;background-color:#f0f0f0;text-align:center;vertical-align:top\">Hardware</th><th style=\"font-family:Arial, sans-serif;font-size:14px;font-weight:normal;padding:10px 5px;border-style:solid;border-width:1px;overflow:hidden;word-break:normal;border-color:inherit;color:#333;background-color:#f0f0f0;text-align:center;vertical-align:top\">Simulator</th></tr><tr><td style=\"font-family:Arial, sans-serif;font-size:14px;padding:10px 5px;border-style:solid;border-width:1px;overflow:hidden;word-break:normal;border-color:inherit;color:#333;background-color:#fff;font-style:italic;text-align:center;vertical-align:top\">pyQuil</td><td style=\"font-family:Arial, sans-serif;font-size:14px;padding:10px 5px;border-style:solid;border-width:1px;overflow:hidden;word-break:normal;border-color:inherit;color:#333;background-color:#9aff99;text-align:center;vertical-align:top\">GOOD<br>many resources, notebooks, examples</td><td style=\"font-family:Arial, sans-serif;font-size:14px;padding:10px 5px;border-style:solid;border-width:1px;overflow:hidden;word-break:normal;border-color:inherit;color:#333;background-color:#9aff99;text-align:center;vertical-align:top\">GOOD<br>very clean syntax<br><br>qubit registers and classical registers can<br>be allocated dynamically</td><td style=\"font-family:Arial, sans-serif;font-size:14px;padding:10px 5px;border-style:solid;border-width:1px;overflow:hidden;word-break:normal;border-color:inherit;color:#333;background-color:#efefef;text-align:center;vertical-align:top\">ON REQUEST<br><br>QPU access, 8 qubits</td><td style=\"font-family:Arial, sans-serif;font-size:14px;padding:10px 5px;border-style:solid;border-width:1px;overflow:hidden;word-break:normal;border-color:inherit;color:#333;background-color:#efefef;text-align:center;vertical-align:top\">QVM with 30 qubits or <br>more <br>+ <br>Reference QVM</td></tr><tr><td style=\"font-family:Arial, sans-serif;font-size:14px;padding:10px 5px;border-style:solid;border-width:1px;overflow:hidden;word-break:normal;border-color:inherit;color:#333;background-color:#fff;font-style:italic;text-align:center;vertical-align:top\">QISKit</td><td style=\"font-family:Arial, sans-serif;font-size:14px;padding:10px 5px;border-style:solid;border-width:1px;overflow:hidden;word-break:normal;border-color:inherit;color:#333;background-color:#9aff99;text-align:center;vertical-align:top\">GOOD<br>probably the most complete, <br>with many tutorials and jupyter notebooks<br>implementing the most common algos</td><td style=\"font-family:Arial, sans-serif;font-size:14px;padding:10px 5px;border-style:solid;border-width:1px;overflow:hidden;word-break:normal;border-color:inherit;color:#333;background-color:#9aff99;text-align:center;vertical-align:top\">GOOD<br>simple syntax for drawing circuits, <br>possibility to print diagrams and plot data<br>and integration with VSCODE</td><td style=\"font-family:Arial, sans-serif;font-size:14px;padding:10px 5px;border-style:solid;border-width:1px;overflow:hidden;word-break:normal;border-color:inherit;color:#333;background-color:#efefef;text-align:center;vertical-align:top\">IBMQX2 (5 qubits)<br>IBMQX4 (5 qubits)<br>IBMQX5 (16 qubits)<br>QS1_1 (20 qubits, only for members)</td><td style=\"font-family:Arial, sans-serif;font-size:14px;padding:10px 5px;border-style:solid;border-width:1px;overflow:hidden;word-break:normal;border-color:inherit;color:#333;background-color:#efefef;text-align:center;vertical-align:top\">many simulators, with different<br>number of qubits according to <br>the goal</td></tr><tr><td style=\"font-family:Arial, sans-serif;font-size:14px;padding:10px 5px;border-style:solid;border-width:1px;overflow:hidden;word-break:normal;border-color:inherit;color:#333;background-color:#fff;font-style:italic;text-align:center;vertical-align:top\">ProjectQ</td><td style=\"font-family:Arial, sans-serif;font-size:14px;padding:10px 5px;border-style:solid;border-width:1px;overflow:hidden;word-break:normal;border-color:inherit;color:#333;background-color:#ffcb2f;text-align:center;vertical-align:top\">DECENT<br>a bit sparse and not complete as<br>the other ones</td><td style=\"font-family:Arial, sans-serif;font-size:14px;padding:10px 5px;border-style:solid;border-width:1px;overflow:hidden;word-break:normal;border-color:inherit;color:#333;background-color:#9aff99;text-align:center;vertical-align:top\">GOOD<br>not as many features as QISKit, but <br>the syntax is more clean and immediate</td><td style=\"font-family:Arial, sans-serif;font-size:14px;padding:10px 5px;border-style:solid;border-width:1px;overflow:hidden;word-break:normal;border-color:inherit;color:#333;background-color:#efefef;text-align:center;vertical-align:top\">NONE<br><br>it exploits the IBM Q backends</td><td style=\"font-family:Arial, sans-serif;font-size:14px;padding:10px 5px;border-style:solid;border-width:1px;overflow:hidden;word-break:normal;border-color:inherit;color:#333;background-color:#efefef;text-align:center;vertical-align:top\">fast simulator written in C++, the number of qubits <br>is limited by the  user's local memory</td></tr><tr><td style=\"font-family:Arial, sans-serif;font-size:14px;padding:10px 5px;border-style:solid;border-width:1px;overflow:hidden;word-break:normal;border-color:inherit;color:#333;background-color:#fff;font-style:italic;text-align:center;vertical-align:top\">Quantum Development Kit</td><td style=\"font-family:Arial, sans-serif;font-size:14px;padding:10px 5px;border-style:solid;border-width:1px;overflow:hidden;word-break:normal;border-color:inherit;color:#333;background-color:#9aff99;text-align:center;vertical-align:top\">GOOD<br>Well done documentation, with excellent<br>theory explanations and examples<br></td><td style=\"font-family:Arial, sans-serif;font-size:14px;padding:10px 5px;border-style:solid;border-width:1px;overflow:hidden;word-break:normal;border-color:inherit;color:#333;background-color:#96fffb;text-align:center;vertical-align:top\">GOOD, but...<br>unlike the other platforms, QDK uses<br>a specific language (Q#) and a more<br>\"physics\" notation, so the learning curve could be slower<br><br>TraceSimulator for debugging classical<br>code that is part of a quantum program<br><br>Visual Studio extension</td><td style=\"font-family:Arial, sans-serif;font-size:14px;padding:10px 5px;border-style:solid;border-width:1px;overflow:hidden;word-break:normal;border-color:inherit;color:#333;background-color:#efefef;text-align:center;vertical-align:top\">NONE<br><br>the technology Microsoft is trying to<br>use has not been implemented <br>on hardware yet</td><td style=\"font-family:Arial, sans-serif;font-size:14px;padding:10px 5px;border-style:solid;border-width:1px;overflow:hidden;word-break:normal;border-color:inherit;color:#333;background-color:#efefef;text-align:center;vertical-align:top\">quantum simulator up to 30 qubits<br>(the kernels were written by developers<br>of ProjectQ, so similar performance).<br><br>possibility with Azure to do simulation<br>with more than 40 qubits</td></tr></table>"
   ]
  }
 ],
 "metadata": {
  "kernelspec": {
   "display_name": "Python [default]",
   "language": "python",
   "name": "python3"
  },
  "language_info": {
   "codemirror_mode": {
    "name": "ipython",
    "version": 3
   },
   "file_extension": ".py",
   "mimetype": "text/x-python",
   "name": "python",
   "nbconvert_exporter": "python",
   "pygments_lexer": "ipython3",
   "version": "3.5.3"
  },
  "toc": {
   "base_numbering": 1,
   "nav_menu": {},
   "number_sections": false,
   "sideBar": true,
   "skip_h1_title": false,
   "title_cell": "Table of Contents",
   "title_sidebar": "Contents",
   "toc_cell": false,
   "toc_position": {},
   "toc_section_display": true,
   "toc_window_display": false
  }
 },
 "nbformat": 4,
 "nbformat_minor": 2
}
