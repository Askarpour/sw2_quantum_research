{
 "cells": [
  {
   "cell_type": "markdown",
   "metadata": {},
   "source": [
    "# Kruskal's algorithm"
   ]
  },
  {
   "cell_type": "markdown",
   "metadata": {},
   "source": [
    "## Libraries import"
   ]
  },
  {
   "cell_type": "code",
   "execution_count": 1,
   "metadata": {},
   "outputs": [],
   "source": [
    "import json                       # Read and write files in json\n",
    "import numpy as np                # Matrix operations\n",
    "import networkx as nx             # Graph operation and display\n",
    "from pprint import pprint         # Pretty printing of matrices\n",
    "import matplotlib.pyplot as plt   # Plot figures"
   ]
  },
  {
   "cell_type": "markdown",
   "metadata": {},
   "source": [
    "## Settings"
   ]
  },
  {
   "cell_type": "code",
   "execution_count": 2,
   "metadata": {},
   "outputs": [],
   "source": [
    "file_path = \"test_graph.json\""
   ]
  },
  {
   "cell_type": "code",
   "execution_count": 3,
   "metadata": {},
   "outputs": [],
   "source": [
    "# Display settings\n",
    "figure_size = (5,5)            # (x,y) expressed in inches\n",
    "node_color = \"#89b2f4\"         # Color of the nodes of the graph in the #RRBBGG format\n",
    "mst_edges_color = \"#FF0000\"    # Color of the edges that form the MST\n",
    "default_edge_colour = \"#000000\"# Clour of the edges that don't belong to the MST"
   ]
  },
  {
   "cell_type": "markdown",
   "metadata": {},
   "source": [
    "## Load the graph"
   ]
  },
  {
   "cell_type": "code",
   "execution_count": 4,
   "metadata": {},
   "outputs": [
    {
     "name": "stdout",
     "output_type": "stream",
     "text": [
      "[[[1, 0.901], [2, 0.464], [3, 0.197]],\n",
      " [[0, 0.901], [2, 0.416], [4, 0.94], [5, 0.665]],\n",
      " [[0, 0.464], [1, 0.416], [3, 0.05], [6, 0.224]],\n",
      " [[0, 0.197], [2, 0.05], [4, 0.57], [6, 0.028]],\n",
      " [[1, 0.94], [3, 0.57], [5, 0.898], [6, 0.931]],\n",
      " [[1, 0.665], [4, 0.898]],\n",
      " [[2, 0.224], [3, 0.028], [4, 0.931]]]\n"
     ]
    }
   ],
   "source": [
    "with open(file_path,\"r\") as f:\n",
    "    graph = json.load(f)\n",
    "pprint(graph)"
   ]
  },
  {
   "cell_type": "code",
   "execution_count": 5,
   "metadata": {},
   "outputs": [],
   "source": [
    "n_of_vertices = len(graph)"
   ]
  },
  {
   "cell_type": "code",
   "execution_count": 6,
   "metadata": {},
   "outputs": [
    {
     "name": "stdout",
     "output_type": "stream",
     "text": [
      "[(0, 1, 0.901),\n",
      " (0, 2, 0.464),\n",
      " (0, 3, 0.197),\n",
      " (1, 0, 0.901),\n",
      " (1, 2, 0.416),\n",
      " (1, 4, 0.94),\n",
      " (1, 5, 0.665),\n",
      " (2, 0, 0.464),\n",
      " (2, 1, 0.416),\n",
      " (2, 3, 0.05),\n",
      " (2, 6, 0.224),\n",
      " (3, 0, 0.197),\n",
      " (3, 2, 0.05),\n",
      " (3, 4, 0.57),\n",
      " (3, 6, 0.028),\n",
      " (4, 1, 0.94),\n",
      " (4, 3, 0.57),\n",
      " (4, 5, 0.898),\n",
      " (4, 6, 0.931),\n",
      " (5, 1, 0.665),\n",
      " (5, 4, 0.898),\n",
      " (6, 2, 0.224),\n",
      " (6, 3, 0.028),\n",
      " (6, 4, 0.931)]\n"
     ]
    }
   ],
   "source": [
    "# Convert the graph in a list of triples in the form (start, end, weight)\n",
    "graph = [(start ,*v)  for start, value in enumerate(graph) for v in value]\n",
    "pprint(graph)"
   ]
  },
  {
   "cell_type": "markdown",
   "metadata": {},
   "source": [
    "# Kruskal without graph transformation"
   ]
  },
  {
   "cell_type": "code",
   "execution_count": 7,
   "metadata": {},
   "outputs": [],
   "source": [
    "def find_minimum_outgoing_edge():\n",
    "    \"\"\"Function to be rewritten in quantum form for speed up\"\"\"\n",
    "    outgoing_edges = [edge for edge in graph if edge[0] not in Nodes_visited or edge[1] not in Nodes_visited]\n",
    "    return min(outgoing_edges, key=lambda x: x[2])"
   ]
  },
  {
   "cell_type": "code",
   "execution_count": 8,
   "metadata": {},
   "outputs": [
    {
     "name": "stdout",
     "output_type": "stream",
     "text": [
      "[(3, 6, 0.028),\n",
      " (2, 3, 0.05),\n",
      " (0, 3, 0.197),\n",
      " (1, 2, 0.416),\n",
      " (3, 4, 0.57),\n",
      " (1, 5, 0.665)]\n"
     ]
    }
   ],
   "source": [
    "# Set of nodes already inside the MST\n",
    "Nodes_visited = set([])\n",
    "# Set of edges of the MST\n",
    "MST_edges = []\n",
    "\n",
    "# For each edge in the graph\n",
    "for i in range(n_of_vertices-1):\n",
    "    edge = find_minimum_outgoing_edge()\n",
    "    start, end, weight = edge \n",
    "    MST_edges.append(edge)\n",
    "    Nodes_visited.add(start)\n",
    "    Nodes_visited.add(end)\n",
    "        \n",
    "# Print the results\n",
    "pprint(MST_edges)"
   ]
  },
  {
   "cell_type": "markdown",
   "metadata": {},
   "source": [
    "# Kruskal with graph transformation"
   ]
  },
  {
   "cell_type": "markdown",
   "metadata": {},
   "source": [
    "### Transform the graph into a convininet rappresentation\n",
    "Rappresent the graph as an list of triples sorted on the weight. This can be done more efficently with an heap but since sorting is a $O(n \\log{(n)})$ and an heap has $O(\\log{(n)})$ insertion the complexity of creating the heap is also $O(n \\log{(n)})$ so this should be enough."
   ]
  },
  {
   "cell_type": "code",
   "execution_count": 9,
   "metadata": {},
   "outputs": [
    {
     "name": "stdout",
     "output_type": "stream",
     "text": [
      "[(3, 6, 0.028),\n",
      " (6, 3, 0.028),\n",
      " (2, 3, 0.05),\n",
      " (3, 2, 0.05),\n",
      " (0, 3, 0.197),\n",
      " (3, 0, 0.197),\n",
      " (2, 6, 0.224),\n",
      " (6, 2, 0.224),\n",
      " (1, 2, 0.416),\n",
      " (2, 1, 0.416),\n",
      " (0, 2, 0.464),\n",
      " (2, 0, 0.464),\n",
      " (3, 4, 0.57),\n",
      " (4, 3, 0.57),\n",
      " (1, 5, 0.665),\n",
      " (5, 1, 0.665),\n",
      " (4, 5, 0.898),\n",
      " (5, 4, 0.898),\n",
      " (0, 1, 0.901),\n",
      " (1, 0, 0.901),\n",
      " (4, 6, 0.931),\n",
      " (6, 4, 0.931),\n",
      " (1, 4, 0.94),\n",
      " (4, 1, 0.94)]\n"
     ]
    }
   ],
   "source": [
    "# Sort it ascending on the weight\n",
    "graph.sort(key=lambda x: x[2])\n",
    "pprint(graph)"
   ]
  },
  {
   "cell_type": "markdown",
   "metadata": {},
   "source": [
    "### the algorithm"
   ]
  },
  {
   "cell_type": "code",
   "execution_count": 10,
   "metadata": {},
   "outputs": [],
   "source": [
    "def is_outgoing(edge):\n",
    "    \"\"\"Function to be rewritten in quantum form for speed up\"\"\"\n",
    "    start, end, weight = edge \n",
    "    return start not in Nodes_visited or end not in Nodes_visited"
   ]
  },
  {
   "cell_type": "code",
   "execution_count": 11,
   "metadata": {},
   "outputs": [
    {
     "name": "stdout",
     "output_type": "stream",
     "text": [
      "[(3, 6, 0.028),\n",
      " (2, 3, 0.05),\n",
      " (0, 3, 0.197),\n",
      " (1, 2, 0.416),\n",
      " (3, 4, 0.57),\n",
      " (1, 5, 0.665)]\n"
     ]
    }
   ],
   "source": [
    "# Set of nodes already inside the MST\n",
    "Nodes_visited = set([])\n",
    "# Set of edges of the MST\n",
    "MST_edges = []\n",
    "\n",
    "# For each edge in the graph\n",
    "for edge in graph:\n",
    "    # If the algorithm visited all the nodes then it's done \n",
    "    if len(Nodes_visited) == n_of_vertices:\n",
    "        break\n",
    "    start, end, weight = edge \n",
    "    # if the edge will add at least one node add it\n",
    "    if is_outgoing(edge):\n",
    "        MST_edges.append(edge)\n",
    "        Nodes_visited.add(start)\n",
    "        Nodes_visited.add(end)\n",
    "        \n",
    "# Print the results\n",
    "pprint(MST_edges)"
   ]
  },
  {
   "cell_type": "markdown",
   "metadata": {},
   "source": [
    "# Display the result"
   ]
  },
  {
   "cell_type": "code",
   "execution_count": 12,
   "metadata": {},
   "outputs": [
    {
     "name": "stderr",
     "output_type": "stream",
     "text": [
      "/home/zommiommy/anaconda3/lib/python3.7/site-packages/networkx/drawing/nx_pylab.py:611: MatplotlibDeprecationWarning: isinstance(..., numbers.Number)\n",
      "  if cb.is_numlike(alpha):\n"
     ]
    },
    {
     "data": {
      "image/png": "[encoded data removed]",
      "text/plain": [
       "<Figure size 360x360 with 1 Axes>"
      ]
     },
     "metadata": {},
     "output_type": "display_data"
    }
   ],
   "source": [
    "# Create an empty graph\n",
    "g = nx.Graph()\n",
    "\n",
    "# add all the vertecies to the graph\n",
    "for i in range(n_of_vertices):\n",
    "    g.add_node(i)\n",
    "\n",
    "# Add all the edges to the graph\n",
    "for start,end,weight in graph:\n",
    "    g.add_edge(start,end,weight=weight)\n",
    "        \n",
    "for start,end,weight in MST_edges:\n",
    "    g.add_edge(start,end,weight=weight,color=mst_edges_color)\n",
    "    \n",
    "# Display the Graph\n",
    "# Create and set the dimension of the final image\n",
    "plt.figure(figsize=figure_size)\n",
    "# Calculate the spatial disposition of the nodes using the spring algorithm\n",
    "pos = nx.spring_layout(g)\n",
    "# Get the colours of the modified edges\n",
    "colour_dict = nx.get_edge_attributes(g,\"color\")\n",
    "# Calculate the colour of the edges\n",
    "e_color = [ colour_dict.get(edge,default_edge_colour) for edge in g.edges()]\n",
    "# Draw the graph\n",
    "nx.draw(g,pos, with_labels=True,node_color=node_color,edge_color=e_color)\n",
    "# Draw the weight labels over the edges\n",
    "nx.draw_networkx_edge_labels(g,pos,edge_labels=nx.get_edge_attributes(g,\"weight\"))\n",
    "# Show the result\n",
    "plt.show()"
   ]
  }
 ],
 "metadata": {
  "kernelspec": {
   "display_name": "Python 3",
   "language": "python",
   "name": "python3"
  },
  "language_info": {
   "codemirror_mode": {
    "name": "ipython",
    "version": 3
   },
   "file_extension": ".py",
   "mimetype": "text/x-python",
   "name": "python",
   "nbconvert_exporter": "python",
   "pygments_lexer": "ipython3",
   "version": "3.7.1"
  }
 },
 "nbformat": 4,
 "nbformat_minor": 2
}
