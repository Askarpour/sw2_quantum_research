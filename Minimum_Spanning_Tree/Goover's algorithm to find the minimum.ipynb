{
 "cells": [
  {
   "cell_type": "markdown",
   "metadata": {},
   "source": [
    "# Goover's algorithm to find the minimum"
   ]
  },
  {
   "cell_type": "markdown",
   "metadata": {},
   "source": [
    "The basic idea is to use the groover's algorithm multiple times changing the orcale function as follows:\n",
    "![](https://raw.githubusercontent.com/zommiommy/quantum_research/master/Minimum_Spanning_Tree/imgs/schmatics.png?token=AX9E8xNxudIRVGJxQNEhg0k_7tYyVJGqks5cO2X1wA%3D%3D)"
   ]
  },
  {
   "cell_type": "markdown",
   "metadata": {},
   "source": [
    "# Libraries Imports"
   ]
  },
  {
   "cell_type": "code",
   "execution_count": 1,
   "metadata": {},
   "outputs": [],
   "source": [
    "import random\n",
    "import numpy as np\n",
    "from quantumsystem import QuantumSystem"
   ]
  },
  {
   "cell_type": "code",
   "execution_count": 2,
   "metadata": {},
   "outputs": [],
   "source": [
    "random.seed(42)\n",
    "np.random.seed(42)"
   ]
  },
  {
   "cell_type": "markdown",
   "metadata": {},
   "source": [
    "# Initialization of the system"
   ]
  },
  {
   "cell_type": "code",
   "execution_count": 3,
   "metadata": {},
   "outputs": [
    {
     "name": "stderr",
     "output_type": "stream",
     "text": [
      "/home/zommiommy/GitHub/quantum_research/Minimum_Spanning_Tree/quantumsystem.py:149: ComplexWarning: Casting complex values to real discards the imaginary part\n",
      "  result[_x*x2:(_x+1)*x2,_y*y2:(_y+1)*y2] = matrix1[_x,_y] * matrix2\n"
     ]
    }
   ],
   "source": [
    "q = QuantumSystem()\n",
    "q.set_n_of_qbits(3)"
   ]
  },
  {
   "cell_type": "code",
   "execution_count": 4,
   "metadata": {},
   "outputs": [
    {
     "data": {
      "text/latex": [
       "$\\displaystyle |\\psi\\rangle = \\begin{pmatrix}1.0 \\\\0.0 \\\\0.0 \\\\0.0 \\\\0.0 \\\\0.0 \\\\0.0 \\\\0.0 \\end{pmatrix}$"
      ],
      "text/plain": [
       "<IPython.core.display.Math object>"
      ]
     },
     "metadata": {},
     "output_type": "display_data"
    },
    {
     "data": {
      "image/png": "[encoded data removed]",
      "text/plain": [
       "<Figure size 1080x360 with 1 Axes>"
      ]
     },
     "metadata": {
      "needs_background": "light"
     },
     "output_type": "display_data"
    }
   ],
   "source": [
    "q.initialize_wave_function()"
   ]
  },
  {
   "cell_type": "markdown",
   "metadata": {},
   "source": [
    "# Application of an Hadamard Gate to get into a superposition"
   ]
  },
  {
   "cell_type": "code",
   "execution_count": 5,
   "metadata": {},
   "outputs": [
    {
     "data": {
      "text/latex": [
       "$\\displaystyle |\\psi\\rangle_{t+1} = H |\\psi\\rangle_t$"
      ],
      "text/plain": [
       "<IPython.core.display.Math object>"
      ]
     },
     "metadata": {},
     "output_type": "display_data"
    },
    {
     "data": {
      "text/latex": [
       "$\\displaystyle \\begin{pmatrix}0.354 & 0.354 & 0.354 & 0.354 & 0.354 & 0.354 & 0.354 & 0.354 \\\\0.354 & -0.354 & 0.354 & -0.354 & 0.354 & -0.354 & 0.354 & -0.354 \\\\0.354 & 0.354 & -0.354 & -0.354 & 0.354 & 0.354 & -0.354 & -0.354 \\\\0.354 & -0.354 & -0.354 & 0.354 & 0.354 & -0.354 & -0.354 & 0.354 \\\\0.354 & 0.354 & 0.354 & 0.354 & -0.354 & -0.354 & -0.354 & -0.354 \\\\0.354 & -0.354 & 0.354 & -0.354 & -0.354 & 0.354 & -0.354 & 0.354 \\\\0.354 & 0.354 & -0.354 & -0.354 & -0.354 & -0.354 & 0.354 & 0.354 \\\\0.354 & -0.354 & -0.354 & 0.354 & -0.354 & 0.354 & 0.354 & -0.354 \\end{pmatrix}\\begin{pmatrix}1.0 \\\\0.0 \\\\0.0 \\\\0.0 \\\\0.0 \\\\0.0 \\\\0.0 \\\\0.0 \\end{pmatrix} = \\begin{pmatrix}0.354 \\\\0.354 \\\\0.354 \\\\0.354 \\\\0.354 \\\\0.354 \\\\0.354 \\\\0.354 \\end{pmatrix}$"
      ],
      "text/plain": [
       "<IPython.core.display.Math object>"
      ]
     },
     "metadata": {},
     "output_type": "display_data"
    },
    {
     "data": {
      "image/png": "[encoded data removed]",
      "text/plain": [
       "<Figure size 1080x360 with 1 Axes>"
      ]
     },
     "metadata": {
      "needs_background": "light"
     },
     "output_type": "display_data"
    }
   ],
   "source": [
    "q.H()"
   ]
  },
  {
   "cell_type": "markdown",
   "metadata": {},
   "source": [
    "# Creation of a toy example of a set of number"
   ]
  },
  {
   "cell_type": "markdown",
   "metadata": {},
   "source": [
    "Since we have $Q$ qbits we can rappresent $2^Q$ numbers, N = $[0, 2^Q-1]$ to create a toy dataset we can choose $n$ numbers from this set:"
   ]
  },
  {
   "cell_type": "code",
   "execution_count": 6,
   "metadata": {},
   "outputs": [],
   "source": [
    "n_of_samples = 3"
   ]
  },
  {
   "cell_type": "code",
   "execution_count": 7,
   "metadata": {},
   "outputs": [
    {
     "name": "stdout",
     "output_type": "stream",
     "text": [
      "[1 5 0]\n"
     ]
    }
   ],
   "source": [
    "dataset = np.random.choice(q.n_of_states, n_of_samples, replace=False)\n",
    "print(dataset)"
   ]
  },
  {
   "cell_type": "markdown",
   "metadata": {},
   "source": [
    "# Creation of the Oracle $O_f$ to filter the data\n",
    "The oracle can be rappresented as an identity matrix of dimension $(2^Q, 2^Q)$ where the the sign is filpped on the state that we want to keep."
   ]
  },
  {
   "cell_type": "code",
   "execution_count": 8,
   "metadata": {},
   "outputs": [],
   "source": [
    "oracle = np.matrix(np.eye(q.n_of_states))\n",
    "for v in dataset:\n",
    "    oracle[v,v] = -1"
   ]
  },
  {
   "cell_type": "markdown",
   "metadata": {},
   "source": [
    "# Definition of the single gover's step"
   ]
  },
  {
   "cell_type": "code",
   "execution_count": 9,
   "metadata": {},
   "outputs": [],
   "source": [
    "q.disable_printing()"
   ]
  },
  {
   "cell_type": "code",
   "execution_count": 10,
   "metadata": {},
   "outputs": [],
   "source": [
    "def grovers_step(oracle):\n",
    "    q.apply_function(oracle,\"O_f\")\n",
    "    q.H()\n",
    "    q.X()\n",
    "    q.CZ()\n",
    "    q.X()\n",
    "    q.H()\n",
    "    q.print_wave_function()"
   ]
  },
  {
   "cell_type": "markdown",
   "metadata": {},
   "source": [
    "# Definition of the grover's algorithm"
   ]
  },
  {
   "cell_type": "code",
   "execution_count": 11,
   "metadata": {},
   "outputs": [],
   "source": [
    "def grovers_algorithm(oracle):\n",
    "    number_of_iterations = (np.pi/4)*(q.n_of_states)**0.5\n",
    "    for _ in range(int(number_of_iterations)):\n",
    "        grovers_step(oracle)"
   ]
  },
  {
   "cell_type": "markdown",
   "metadata": {},
   "source": [
    "# Test"
   ]
  },
  {
   "cell_type": "code",
   "execution_count": 12,
   "metadata": {
    "scrolled": false
   },
   "outputs": [
    {
     "data": {
      "text/latex": [
       "$\\displaystyle |\\psi\\rangle_{t+1} = H |\\psi\\rangle_t$"
      ],
      "text/plain": [
       "<IPython.core.display.Math object>"
      ]
     },
     "metadata": {},
     "output_type": "display_data"
    },
    {
     "data": {
      "text/latex": [
       "$\\displaystyle |\\psi\\rangle_{t+1} = X |\\psi\\rangle_t$"
      ],
      "text/plain": [
       "<IPython.core.display.Math object>"
      ]
     },
     "metadata": {},
     "output_type": "display_data"
    },
    {
     "data": {
      "text/latex": [
       "$\\displaystyle |\\psi\\rangle_{t+1} = CZ^3 |\\psi\\rangle_t$"
      ],
      "text/plain": [
       "<IPython.core.display.Math object>"
      ]
     },
     "metadata": {},
     "output_type": "display_data"
    },
    {
     "data": {
      "text/latex": [
       "$\\displaystyle |\\psi\\rangle_{t+1} = X |\\psi\\rangle_t$"
      ],
      "text/plain": [
       "<IPython.core.display.Math object>"
      ]
     },
     "metadata": {},
     "output_type": "display_data"
    },
    {
     "data": {
      "text/latex": [
       "$\\displaystyle |\\psi\\rangle_{t+1} = H |\\psi\\rangle_t$"
      ],
      "text/plain": [
       "<IPython.core.display.Math object>"
      ]
     },
     "metadata": {},
     "output_type": "display_data"
    },
    {
     "data": {
      "image/png": "[encoded data removed]",
      "text/plain": [
       "<Figure size 1080x360 with 1 Axes>"
      ]
     },
     "metadata": {
      "needs_background": "light"
     },
     "output_type": "display_data"
    },
    {
     "data": {
      "text/latex": [
       "$\\displaystyle |\\psi\\rangle_{t+1} = H |\\psi\\rangle_t$"
      ],
      "text/plain": [
       "<IPython.core.display.Math object>"
      ]
     },
     "metadata": {},
     "output_type": "display_data"
    },
    {
     "data": {
      "text/latex": [
       "$\\displaystyle |\\psi\\rangle_{t+1} = X |\\psi\\rangle_t$"
      ],
      "text/plain": [
       "<IPython.core.display.Math object>"
      ]
     },
     "metadata": {},
     "output_type": "display_data"
    },
    {
     "data": {
      "text/latex": [
       "$\\displaystyle |\\psi\\rangle_{t+1} = CZ^3 |\\psi\\rangle_t$"
      ],
      "text/plain": [
       "<IPython.core.display.Math object>"
      ]
     },
     "metadata": {},
     "output_type": "display_data"
    },
    {
     "data": {
      "text/latex": [
       "$\\displaystyle |\\psi\\rangle_{t+1} = X |\\psi\\rangle_t$"
      ],
      "text/plain": [
       "<IPython.core.display.Math object>"
      ]
     },
     "metadata": {},
     "output_type": "display_data"
    },
    {
     "data": {
      "text/latex": [
       "$\\displaystyle |\\psi\\rangle_{t+1} = H |\\psi\\rangle_t$"
      ],
      "text/plain": [
       "<IPython.core.display.Math object>"
      ]
     },
     "metadata": {},
     "output_type": "display_data"
    },
    {
     "data": {
      "image/png": "[encoded data removed]",
      "text/plain": [
       "<Figure size 1080x360 with 1 Axes>"
      ]
     },
     "metadata": {
      "needs_background": "light"
     },
     "output_type": "display_data"
    }
   ],
   "source": [
    "grovers_algorithm(oracle)"
   ]
  }
 ],
 "metadata": {
  "kernelspec": {
   "display_name": "Python 3",
   "language": "python",
   "name": "python3"
  },
  "language_info": {
   "codemirror_mode": {
    "name": "ipython",
    "version": 3
   },
   "file_extension": ".py",
   "mimetype": "text/x-python",
   "name": "python",
   "nbconvert_exporter": "python",
   "pygments_lexer": "ipython3",
   "version": "3.7.1"
  }
 },
 "nbformat": 4,
 "nbformat_minor": 2
}
