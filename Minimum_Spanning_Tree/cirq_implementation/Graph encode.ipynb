{
 "cells": [
  {
   "cell_type": "code",
   "execution_count": null,
   "metadata": {},
   "outputs": [],
   "source": [
    "import cirq"
   ]
  },
  {
   "cell_type": "code",
   "execution_count": null,
   "metadata": {},
   "outputs": [],
   "source": [
    "from typing import List, Tuple\n",
    "from cirq import cirq.circuits.circuit.Circuit as Circuit\n",
    "import cirq\n",
    "\n",
    "def rotate_bits(value : int) -> str:\n",
    "    return str(value)[::-1]\n",
    "\n",
    "def encode_value(circuit : Circuit, value : int, ancilla : list, reverse : bool = True) -> Circuit:\n",
    "    \"\"\"Encode an integer value in the register.\"\"\"\n",
    "\n",
    "    encoder = \"{:0\" + str(len(register)) + \"b}\"\n",
    "\n",
    "    encoding = encoder.format(value)\n",
    "\n",
    "    if reverse:\n",
    "        encoding = rotate_bits(encoding)\n",
    "\n",
    "    for qbit, binary_value in zip(register, encoding):\n",
    "        if binary_value == '0':\n",
    "            circuit.x(qbit)\n",
    "\n",
    "    return circuit\n",
    "\n",
    "\n",
    "encode_value_inverse = encode_value\n",
    "\n",
    "def select_value(circuit : QuantumCircuit, register : QuantumRegister, value : int, target : QuantumRegister, ancillas : QuantumRegister):\n",
    "    circuit.barrier()\n",
    "    circuit = encode_value(circuit, register, value, ancillas)\n",
    "    circuit.cnx(register,target,ancillas)\n",
    "    circuit = encode_value_inverse(circuit, register, value, ancillas)\n",
    "    return circuit\n",
    "    \n",
    "def encode_edge(circuit : QuantumCircuit, start : QuantumRegister, start_value : int, end : QuantumRegister, end_value : int, target : QuantumRegister, ancillas : QuantumRegister) -> QuantumCircuit:\n",
    "    \"\"\"Encode all the edges of the graph. |i>|j>|0> -> |i>|j>|A_{ij}>\"\"\"\n",
    "\n",
    "    circuit.barrier()\n",
    "\n",
    "    circuit = encode_value(circuit, start, start_value, ancillas)\n",
    "    circuit = encode_value(circuit, end, end_value, ancillas)\n",
    "\n",
    "    # Simulate the Big C^nNOT\n",
    "\n",
    "    controlled = [q for register in [start,end] for q in register]\n",
    "    circuit.cnx(controlled,target,ancillas)\n",
    "    # Reverse the computation\n",
    "    \n",
    "    circuit = encode_value_inverse(circuit, end, end_value, ancillas)\n",
    "    circuit = encode_value_inverse(circuit, start, start_value, ancillas)\n",
    "\n",
    "    return circuit\n",
    "\n",
    "def encode_graph(circuit : QuantumCircuit, graph : List[Tuple[int, int, float]], start : QuantumRegister, end : QuantumRegister, target : QuantumRegister, ancillas : QuantumRegister) -> QuantumCircuit:\n",
    "    \"\"\"Encode all the edges of the graph.\"\"\"\n",
    "    \n",
    "    for start_val, end_val, _ in graph:\n",
    "        circuit = encode_edge(circuit, start, start_val, end, end_val, target, ancillas)\n",
    "\n",
    "    return circuit"
   ]
  }
 ],
 "metadata": {
  "kernelspec": {
   "display_name": "Python 3",
   "language": "python",
   "name": "python3"
  },
  "language_info": {
   "codemirror_mode": {
    "name": "ipython",
    "version": 3
   },
   "file_extension": ".py",
   "mimetype": "text/x-python",
   "name": "python",
   "nbconvert_exporter": "python",
   "pygments_lexer": "ipython3",
   "version": "3.7.1"
  }
 },
 "nbformat": 4,
 "nbformat_minor": 2
}
