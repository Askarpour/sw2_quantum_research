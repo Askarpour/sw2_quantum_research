{
 "cells": [
  {
   "cell_type": "code",
   "execution_count": null,
   "metadata": {},
   "outputs": [],
   "source": [
    "import cirq\n",
    "from math import floor, pi, sqrt\n",
    "from cirq import cirq.circuits.circuit.Circuit as Circuit"
   ]
  },
  {
   "cell_type": "code",
   "execution_count": null,
   "metadata": {},
   "outputs": [],
   "source": [
    "length = 10\n",
    "number_of_expected_results = 5\n",
    "qubits = [cirq.GridQubit(i, 0) for i in range(length)]"
   ]
  },
  {
   "cell_type": "code",
   "execution_count": null,
   "metadata": {},
   "outputs": [],
   "source": [
    "class Grover():\n",
    "def __init__(self, qubits : List) -> None:\n",
    "    self.qubits = qubits\n",
    "    self.diffusion = _construct_diffusion()\n",
    "    \n",
    "\n",
    "def make_diffusion(self) -> Circuit:\n",
    "    \n",
    "    circuit = cirq.Circuit()\n",
    "    circuit.append(cirq.H(q) for q in self.qubits)\n",
    "    circuit.append(cirq.X(q) for q in self.qubits)\n",
    "    controllee= []\n",
    "    for i in range(length - 1):\n",
    "        controllee.append(self.qubits[i])\n",
    "    \n",
    "    controlled = cirq.control(cirq.Z, controllee)(qubits[-1])    \n",
    "\n",
    "    circuit.append(controlled)\n",
    "\n",
    "    circuit.append(cirq.X(q) for q in self.qubits)\n",
    "    circuit.append(cirq.H(q) for q in self.qubits)\n",
    "               \n",
    "    print(circuit)\n",
    "    \n",
    "    \n",
    "def make_oracle(circuit : Circuit, self) -> Circuit\n",
    "    return circuit.append(Cirq.Z(q) q in self.qubits)\n",
    "                           \n",
    "\n",
    "def run(self, circuit : Circuit, oracle : Circuit, number_of_expected_results : int = 1) -> Circuit:\n",
    "        number_of_iterations = floor((pi / 4)*sqrt((2**len(self.qubits)) / number_of_expected_results))\n",
    "\n",
    "        for _ in range(number_of_iterations):\n",
    "            circuit += oracle\n",
    "            circuit += self.diffusion\n",
    "\n",
    "        return circuit"
   ]
  }
 ],
 "metadata": {
  "kernelspec": {
   "display_name": "Python 3",
   "language": "python",
   "name": "python3"
  },
  "language_info": {
   "codemirror_mode": {
    "name": "ipython",
    "version": 3
   },
   "file_extension": ".py",
   "mimetype": "text/x-python",
   "name": "python",
   "nbconvert_exporter": "python",
   "pygments_lexer": "ipython3",
   "version": "3.7.3"
  }
 },
 "nbformat": 4,
 "nbformat_minor": 2
}
