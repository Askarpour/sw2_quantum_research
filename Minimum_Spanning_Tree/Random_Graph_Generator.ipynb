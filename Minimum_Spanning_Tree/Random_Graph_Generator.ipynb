{
 "cells": [
  {
   "cell_type": "markdown",
   "metadata": {},
   "source": [
    "## Libreries Imports"
   ]
  },
  {
   "cell_type": "code",
   "execution_count": 1,
   "metadata": {},
   "outputs": [],
   "source": [
    "import json                       # Read and write files in json\n",
    "import random\n",
    "import numpy as np                # Matrix operations\n",
    "import networkx as nx             # Graph operation and display\n",
    "from pprint import pprint         # Pretty printing of matrices\n",
    "import matplotlib.pyplot as plt   # Plot figures"
   ]
  },
  {
   "cell_type": "code",
   "execution_count": 2,
   "metadata": {},
   "outputs": [],
   "source": [
    "# Set seed for reproducibility\n",
    "random.seed(42)\n",
    "np.random.seed(42)"
   ]
  },
  {
   "cell_type": "markdown",
   "metadata": {},
   "source": [
    "# Settings"
   ]
  },
  {
   "cell_type": "code",
   "execution_count": 3,
   "metadata": {},
   "outputs": [],
   "source": [
    "n_of_vertecies = 7             # n of vertices of the graph\n",
    "round_decimals = 3             # n of decimal places to round the weights\n",
    "figure_size = (5, 5)            # (x,y) expressed in inches\n",
    "node_color = \"#89b2f4\"         # Color of the nodes of the graph in the #RRBBGG format\n",
    "file_path = \"test_graph.json\"  # path to the output file"
   ]
  },
  {
   "cell_type": "markdown",
   "metadata": {},
   "source": [
    "## Creating the test Graph\n",
    "For convinence we create a weighted graph  as an adjacency matrix that then we will convert to an adjacency Lists as the Algorithm needs."
   ]
  },
  {
   "cell_type": "markdown",
   "metadata": {},
   "source": [
    "We create a random matrix using an uniform distributions between -1 and 1. then all the values less than zero are set to zero so we get a random weighted graph."
   ]
  },
  {
   "cell_type": "code",
   "execution_count": 4,
   "metadata": {},
   "outputs": [
    {
     "name": "stdout",
     "output_type": "stream",
     "text": [
      "array([[0, 6, 3, 1, 0, 0, 0],\n",
      "       [6, 0, 2, 0, 6, 4, 0],\n",
      "       [3, 2, 0, 0, 0, 0, 1],\n",
      "       [1, 0, 0, 0, 3, 0, 0],\n",
      "       [0, 6, 0, 3, 0, 6, 6],\n",
      "       [0, 4, 0, 0, 6, 0, 0],\n",
      "       [0, 0, 1, 0, 6, 0, 0]])\n"
     ]
    }
   ],
   "source": [
    "# Create the random matrix with values between -1,1\n",
    "graph_matrix = 2 * \\\n",
    "    np.random.random((n_of_vertecies, n_of_vertecies)).astype(float) - 1\n",
    "# Keep only the positive values so that the matrix is half full\n",
    "graph_matrix[graph_matrix < 0] = 0\n",
    "# Keep only the upper triangle of the matrix\n",
    "graph_matrix = np.triu(graph_matrix)\n",
    "# Make the matrix simmetrics (sum the matrix with it's transpose)\n",
    "graph_matrix = graph_matrix + graph_matrix.T\n",
    "# Remove auto-loops\n",
    "np.fill_diagonal(graph_matrix, 0)\n",
    "# Cast to [0, n_of_vertices)\n",
    "graph_matrix *= n_of_vertecies\n",
    "# Cast to int\n",
    "graph_matrix = graph_matrix.astype(int)\n",
    "# Print the results\n",
    "pprint(graph_matrix)"
   ]
  },
  {
   "cell_type": "markdown",
   "metadata": {},
   "source": [
    "now to convert the adjacency matrix to an adjacency list we just iterate over the rows of the matrix e save the cols indecies where the value are bigger than 0"
   ]
  },
  {
   "cell_type": "code",
   "execution_count": 5,
   "metadata": {},
   "outputs": [
    {
     "name": "stdout",
     "output_type": "stream",
     "text": [
      "[[(1, 6), (2, 3), (3, 1)],\n",
      " [(0, 6), (2, 2), (4, 6), (5, 4)],\n",
      " [(0, 3), (1, 2), (6, 1)],\n",
      " [(0, 1), (4, 3)],\n",
      " [(1, 6), (3, 3), (5, 6), (6, 6)],\n",
      " [(1, 4), (4, 6)],\n",
      " [(2, 1), (4, 6)]]\n"
     ]
    }
   ],
   "source": [
    "# Convert the matrix to an adjacency list\n",
    "graph_list = [\n",
    "    [\n",
    "        # Create a tuple (end,weight) rounding the weight\n",
    "        (int(valore), int(round(graph_matrix[row][valore], round_decimals)))\n",
    "        # For each value bigger than zero in the row of the \"row\" node\n",
    "        for valore in np.where(graph_matrix[row] > 0)[0]\n",
    "    ]\n",
    "    # For each node of the graph\n",
    "    for row in range(n_of_vertecies)\n",
    "]\n",
    "pprint(graph_list)"
   ]
  },
  {
   "cell_type": "markdown",
   "metadata": {},
   "source": [
    "### Structure Description"
   ]
  },
  {
   "cell_type": "markdown",
   "metadata": {},
   "source": [
    "The$i$th list corrispond to the $i$th vertex.\n",
    "i.e. ```grap_list[1]``` return the values for the vertex $1$.\n",
    "\n",
    "For each vertex there is alist of tuples in the form ```(Destination_vertex,weight)```\n",
    "    "
   ]
  },
  {
   "cell_type": "markdown",
   "metadata": {},
   "source": [
    "## Save the graph to the file"
   ]
  },
  {
   "cell_type": "code",
   "execution_count": 6,
   "metadata": {},
   "outputs": [],
   "source": [
    "# Open the file in writting mode and save the graph to it\n",
    "with open(file_path, \"w\") as f:\n",
    "    json.dump(graph_list, f, indent=4)"
   ]
  },
  {
   "cell_type": "markdown",
   "metadata": {},
   "source": [
    "# Display the Graph"
   ]
  },
  {
   "cell_type": "code",
   "execution_count": 7,
   "metadata": {},
   "outputs": [
    {
     "name": "stderr",
     "output_type": "stream",
     "text": [
      "/home/zommiommy/anaconda3/lib/python3.7/site-packages/networkx/drawing/nx_pylab.py:611: MatplotlibDeprecationWarning: isinstance(..., numbers.Number)\n",
      "  if cb.is_numlike(alpha):\n"
     ]
    },
    {
     "data": {
      "image/png": "[encoded data removed]",
      "text/plain": [
       "<Figure size 360x360 with 1 Axes>"
      ]
     },
     "metadata": {},
     "output_type": "display_data"
    }
   ],
   "source": [
    "# Create an empty graph\n",
    "g = nx.Graph()\n",
    "\n",
    "# add all the vertecies to the graph\n",
    "for i in range(n_of_vertecies):\n",
    "    g.add_node(i)\n",
    "\n",
    "# Add all the edges to the graph\n",
    "for start in range(n_of_vertecies):\n",
    "    for end, weight in graph_list[start]:\n",
    "        g.add_edge(start, end, weight=weight)\n",
    "\n",
    "# Display the Graph\n",
    "# Create and set the dimension of the final image\n",
    "plt.figure(figsize=figure_size)\n",
    "# Calculate the spatial disposition of the nodes using the spring algorithm\n",
    "pos = nx.spring_layout(g)\n",
    "# Draw the graph\n",
    "nx.draw(g, pos, with_labels=True, node_color=node_color)\n",
    "# Draw the weight labels over the edges\n",
    "nx.draw_networkx_edge_labels(\n",
    "    g, pos, edge_labels=nx.get_edge_attributes(g, \"weight\"))\n",
    "# Show the result\n",
    "plt.show()"
   ]
  }
 ],
 "metadata": {
  "kernelspec": {
   "display_name": "Python 3",
   "language": "python",
   "name": "python3"
  },
  "language_info": {
   "codemirror_mode": {
    "name": "ipython",
    "version": 3
   },
   "file_extension": ".py",
   "mimetype": "text/x-python",
   "name": "python",
   "nbconvert_exporter": "python",
   "pygments_lexer": "ipython3",
   "version": "3.7.1"
  }
 },
 "nbformat": 4,
 "nbformat_minor": 2
}
