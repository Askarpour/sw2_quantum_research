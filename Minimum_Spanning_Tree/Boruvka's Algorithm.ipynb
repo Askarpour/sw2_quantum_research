{
 "cells": [
  {
   "cell_type": "markdown",
   "metadata": {},
   "source": [
    "# Borůvka's algorithm"
   ]
  },
  {
   "cell_type": "markdown",
   "metadata": {},
   "source": [
    "## Libraries import"
   ]
  },
  {
   "cell_type": "code",
   "execution_count": 1,
   "metadata": {},
   "outputs": [],
   "source": [
    "import json                       # Read and write files in json\n",
    "import numpy as np                # Matrix operations\n",
    "import networkx as nx             # Graph operation and display\n",
    "from pprint import pprint         # Pretty printing of matrices\n",
    "import matplotlib.pyplot as plt   # Plot figures"
   ]
  },
  {
   "cell_type": "markdown",
   "metadata": {},
   "source": [
    "## Settings"
   ]
  },
  {
   "cell_type": "code",
   "execution_count": 2,
   "metadata": {},
   "outputs": [],
   "source": [
    "file_path = \"test_graph.json\""
   ]
  },
  {
   "cell_type": "code",
   "execution_count": 3,
   "metadata": {},
   "outputs": [],
   "source": [
    "# Display settings\n",
    "figure_size = (5,5)            # (x,y) expressed in inches\n",
    "node_color = \"#89b2f4\"         # Color of the nodes of the graph in the #RRBBGG format\n",
    "mst_edges_color = \"#FF0000\"    # Color of the edges that form the MST\n",
    "default_edge_colour = \"#000000\"# Clour of the edges that don't belong to the MST"
   ]
  },
  {
   "cell_type": "markdown",
   "metadata": {},
   "source": [
    "## Load the graph"
   ]
  },
  {
   "cell_type": "code",
   "execution_count": 4,
   "metadata": {},
   "outputs": [
    {
     "name": "stdout",
     "output_type": "stream",
     "text": [
      "[[[1, 0.901], [2, 0.464], [3, 0.197]],\n",
      " [[0, 0.901], [2, 0.416], [4, 0.94], [5, 0.665]],\n",
      " [[0, 0.464], [1, 0.416], [3, 0.05], [6, 0.224]],\n",
      " [[0, 0.197], [2, 0.05], [4, 0.57], [6, 0.028]],\n",
      " [[1, 0.94], [3, 0.57], [5, 0.898], [6, 0.931]],\n",
      " [[1, 0.665], [4, 0.898]],\n",
      " [[2, 0.224], [3, 0.028], [4, 0.931]]]\n"
     ]
    }
   ],
   "source": [
    "with open(file_path,\"r\") as f:\n",
    "    graph = json.load(f)\n",
    "pprint(graph)"
   ]
  },
  {
   "cell_type": "markdown",
   "metadata": {},
   "source": [
    "# Borůvka's algorithm"
   ]
  },
  {
   "cell_type": "code",
   "execution_count": 5,
   "metadata": {},
   "outputs": [],
   "source": [
    "def find_min_outgoing_edge(graph, tree):\n",
    "    edges = []\n",
    "    # for each vertex in the set\n",
    "    for vertex in tree:\n",
    "        # for each edge that start at that vertex\n",
    "        for end,weight in graph[vertex]:\n",
    "            # if the edge goes to a different set\n",
    "            if end not in tree:\n",
    "                # add it to the list of possible outgoing edges\n",
    "                edges += [(vertex,end,weight)]\n",
    "    # return the minimum of the outgoing edges\n",
    "    return min(edges,key=lambda x: x[2])"
   ]
  },
  {
   "cell_type": "code",
   "execution_count": 6,
   "metadata": {},
   "outputs": [],
   "source": [
    "def find_set_index(tree_list, vertex):\n",
    "    # for each set\n",
    "    for index,t_list in enumerate(tree_list):\n",
    "        # if the vertex is in the set\n",
    "        if vertex in t_list:\n",
    "            # return it's index\n",
    "            return index"
   ]
  },
  {
   "cell_type": "code",
   "execution_count": 7,
   "metadata": {},
   "outputs": [
    {
     "name": "stdout",
     "output_type": "stream",
     "text": [
      "[(0, 3, 0.197),\n",
      " (1, 2, 0.416),\n",
      " (4, 3, 0.57),\n",
      " (6, 3, 0.028),\n",
      " (2, 3, 0.05),\n",
      " (5, 1, 0.665)]\n"
     ]
    }
   ],
   "source": [
    "n_of_vertices = len(graph)\n",
    "vertices = list(range(n_of_vertices))\n",
    "# create a forest of trees with only the root. one for each vertex\n",
    "tree_list = [[x] for x in vertices]\n",
    "# Set of edges of the MST\n",
    "MST_edges = []\n",
    "\n",
    "while len(tree_list) > 1:\n",
    "    t_index = 0\n",
    "    while t_index < len(tree_list):\n",
    "        # get the set\n",
    "        tree = tree_list[t_index]\n",
    "        # find the minimum outgoing edge from the set\n",
    "        min_edge = find_min_outgoing_edge(graph,tree)\n",
    "        # add that edge to the list of edges of the MST\n",
    "        MST_edges += [min_edge]\n",
    "        # find from which other set is from the destination vertex of the edge\n",
    "        second_set_index = find_set_index(tree_list, min_edge[1])\n",
    "        # Merge the two sets\n",
    "        tree_list[t_index] += tree_list[second_set_index]\n",
    "        # Delete the second set\n",
    "        del tree_list[second_set_index]\n",
    "        # go to the next set\n",
    "        t_index += 1\n",
    "# Print the results\n",
    "pprint(MST_edges)"
   ]
  },
  {
   "cell_type": "markdown",
   "metadata": {},
   "source": [
    "# Display the result"
   ]
  },
  {
   "cell_type": "code",
   "execution_count": 8,
   "metadata": {},
   "outputs": [
    {
     "name": "stderr",
     "output_type": "stream",
     "text": [
      "/home/zommiommy/anaconda3/lib/python3.7/site-packages/networkx/drawing/nx_pylab.py:611: MatplotlibDeprecationWarning: isinstance(..., numbers.Number)\n",
      "  if cb.is_numlike(alpha):\n"
     ]
    },
    {
     "data": {
      "image/png": "[encoded data removed]",
      "text/plain": [
       "<Figure size 360x360 with 1 Axes>"
      ]
     },
     "metadata": {},
     "output_type": "display_data"
    }
   ],
   "source": [
    "# Create an empty graph\n",
    "g = nx.Graph()\n",
    "\n",
    "# add all the vertecies to the graph\n",
    "for i in range(n_of_vertices):\n",
    "    g.add_node(i)\n",
    "\n",
    "# Add all the edges to the graph\n",
    "for start in range(n_of_vertices):\n",
    "    for end,weight in graph[start]:\n",
    "        g.add_edge(start,end,weight=weight)\n",
    "        \n",
    "        \n",
    "for start,end,weight in MST_edges:\n",
    "    g.add_edge(start,end,weight=weight,color=mst_edges_color)\n",
    "    \n",
    "# Display the Graph\n",
    "# Create and set the dimension of the final image\n",
    "plt.figure(figsize=figure_size)\n",
    "# Calculate the spatial disposition of the nodes using the spring algorithm\n",
    "pos = nx.spring_layout(g)\n",
    "# Get the colours of the modified edges\n",
    "colour_dict = nx.get_edge_attributes(g,\"color\")\n",
    "# Calculate the colour of the edges\n",
    "e_color = [ colour_dict.get(edge,default_edge_colour) for edge in g.edges()]\n",
    "# Draw the graph\n",
    "nx.draw(g,pos, with_labels=True,node_color=node_color,edge_color=e_color)\n",
    "# Draw the weight labels over the edges\n",
    "nx.draw_networkx_edge_labels(g,pos,edge_labels=nx.get_edge_attributes(g,\"weight\"))\n",
    "# Show the result\n",
    "plt.show()"
   ]
  },
  {
   "cell_type": "markdown",
   "metadata": {},
   "source": [
    "# Borůvka's algorithm class Version"
   ]
  },
  {
   "cell_type": "code",
   "execution_count": 9,
   "metadata": {},
   "outputs": [],
   "source": [
    "class Boruvka_MST():\n",
    "    \"\"\"Class to find the MST using Boruvka's algorithms.\n",
    "    To simplify the trees are rappresented as sets of nodes \n",
    "    and a global set of edges since all the edges choosen will belong to the MST.\"\"\"\n",
    "    \n",
    "    def __init__(self, graph):\n",
    "        \"\"\"Initialize the Class and save the values\"\"\"\n",
    "        self.graph = graph\n",
    "        self.vertices = list(range(len(graph)))\n",
    "        self.MST_edges = []\n",
    "        self._initialize_tree_list()\n",
    "    \n",
    "    def _initialize_tree_list(self):\n",
    "        \"\"\"Initialize the tree list by creating one one node tree for each vertex.\"\"\"\n",
    "        self.tree_list = [[x] for x in self.vertices]\n",
    "        \n",
    "    def _get_start_vertex(self, edge):\n",
    "        \"\"\"Given an edge in the form (start, end, weight) return the start node.\"\"\"\n",
    "        return edge[0]\n",
    "    \n",
    "    def _get_end_vertex(self, edge):\n",
    "        \"\"\"Given an edge in the form (start, end, weight) return the end node.\"\"\"\n",
    "        return edge[1]\n",
    "    \n",
    "    def _get_weight_vertex(self, edge):\n",
    "        \"\"\"Given an edge in the form (start, end, weight) return the end weight.\"\"\"\n",
    "        return edge[2]\n",
    "    \n",
    "    def _merge_sets(self, first_set_index, second_set_index):\n",
    "        \"\"\"Given the indices of the two sets it merge them and replace the first one with the result.\"\"\"\n",
    "        # Merge the two sets\n",
    "        self.tree_list[first_set_index] += self.tree_list[second_set_index]\n",
    "        # Delete the second set\n",
    "        del self.tree_list[second_set_index]\n",
    "        \n",
    "    def _find_set_index(self, vertex):\n",
    "        \"\"\"Find in which tree the node belongs to.\"\"\"\n",
    "        # for each set\n",
    "        for index, tree_vertecies in enumerate(self.tree_list):\n",
    "            # if the vertex is in the set\n",
    "            if vertex in tree_vertecies:\n",
    "                # return it's index\n",
    "                return index\n",
    "        \n",
    "    def _is_there_more_than_one_tree(self):   \n",
    "        \"\"\"If the list have more than one sets then there are more than one tree.\"\"\"\n",
    "        return len(self.tree_list) > 1\n",
    "    \n",
    "    def _get_tree_by_index(self, tree_index):\n",
    "        \"\"\"Return the sets of vertex of the tree given it's index.\"\"\"\n",
    "        return self.tree_list[tree_index]\n",
    "    \n",
    "    def _add_edge_to_MST(self, edge):\n",
    "        \"\"\"Add an edge to the MST edges list.\"\"\"\n",
    "        self.MST_edges.append(edge)\n",
    "        \n",
    "    def _find_min(self,tree, edge):\n",
    "        \"\"\"Check if the edge is outgoing and then if it's a new minimum set it as the new min.\"\"\"\n",
    "        # if the edge is intern to the set than ignore it\n",
    "        if self._get_end_vertex(edge) in tree:\n",
    "            return\n",
    "        \n",
    "        # If the minimum is not set then set it to the current edge\n",
    "        if self.minimum_edge == None:\n",
    "            self.minimum_edge = edge\n",
    "            \n",
    "        # if it's a new minimum update it\n",
    "        if self._get_weight_vertex(self.minimum_edge) > self._get_weight_vertex(edge):\n",
    "            self.minimum_edge = edge  \n",
    "    \n",
    "    def _find_min_outgoing_edge(self, tree):\n",
    "        \"\"\"Find the minimum outgoing edge from the tree.\"\"\"\n",
    "        self.minimum_edge = None\n",
    "        # for each vertex in the set\n",
    "        for vertex in tree:\n",
    "            # for each edge that start at that vertex\n",
    "            for end,weight in self.graph[vertex]:\n",
    "                self._find_min(tree, (vertex, end, weight))\n",
    "        # return the minimum of the outgoing edges\n",
    "        return self.minimum_edge\n",
    "    \n",
    "    def _merge_tree(self, tree_index):\n",
    "        \"\"\"Find the closest tree to the one given and merge them.\"\"\"\n",
    "        # find the minimum outgoing edge from the set\n",
    "        min_edge = self._find_min_outgoing_edge(self._get_tree_by_index(tree_index))\n",
    "        # add that edge to the list of edges of the MST\n",
    "        self._add_edge_to_MST(min_edge)\n",
    "        # find from which other set is from the destination vertex of the edge\n",
    "        second_set_index = self._find_set_index(self._get_end_vertex(min_edge))\n",
    "        # Merge the two sets\n",
    "        self._merge_sets(tree_index, second_set_index)\n",
    "    \n",
    "    def _merge_trees(self):\n",
    "        \"\"\"Iterate over all the trees merging them.\"\"\"\n",
    "        tree_index = 0\n",
    "        while tree_index < len(self.tree_list):\n",
    "            # Merge the tree\n",
    "            self._merge_tree(tree_index)\n",
    "            # go to the next set\n",
    "            tree_index += 1\n",
    "    \n",
    "    def run(self):\n",
    "        \"\"\"Find the MST of the given graph.\"\"\"\n",
    "        while self._is_there_more_than_one_tree():\n",
    "            self._merge_trees()\n",
    "            \n",
    "        return self.MST_edges\n",
    "    "
   ]
  },
  {
   "cell_type": "code",
   "execution_count": 10,
   "metadata": {
    "scrolled": false
   },
   "outputs": [
    {
     "name": "stdout",
     "output_type": "stream",
     "text": [
      "[(0, 3, 0.197),\n",
      " (1, 2, 0.416),\n",
      " (4, 3, 0.57),\n",
      " (6, 3, 0.028),\n",
      " (2, 3, 0.05),\n",
      " (5, 1, 0.665)]\n"
     ]
    }
   ],
   "source": [
    "MST_edges = Boruvka_MST(graph).run()\n",
    "pprint(MST_edges)"
   ]
  }
 ],
 "metadata": {
  "kernelspec": {
   "display_name": "Python 3",
   "language": "python",
   "name": "python3"
  },
  "language_info": {
   "codemirror_mode": {
    "name": "ipython",
    "version": 3
   },
   "file_extension": ".py",
   "mimetype": "text/x-python",
   "name": "python",
   "nbconvert_exporter": "python",
   "pygments_lexer": "ipython3",
   "version": "3.7.1"
  }
 },
 "nbformat": 4,
 "nbformat_minor": 2
}
