{
 "cells": [
  {
   "cell_type": "markdown",
   "metadata": {},
   "source": [
    "## Libreries Imports"
   ]
  },
  {
   "cell_type": "code",
   "execution_count": 1,
   "metadata": {},
   "outputs": [],
   "source": [
    "import json\n",
    "import numpy as np\n",
    "import networkx as nx\n",
    "from pprint import pprint\n",
    "import matplotlib.pyplot as plt"
   ]
  },
  {
   "cell_type": "code",
   "execution_count": 2,
   "metadata": {},
   "outputs": [],
   "source": [
    "# Set seed for reproducibility\n",
    "np.random.seed(420)"
   ]
  },
  {
   "cell_type": "markdown",
   "metadata": {},
   "source": [
    "# Settings"
   ]
  },
  {
   "cell_type": "code",
   "execution_count": 3,
   "metadata": {},
   "outputs": [],
   "source": [
    "n_of_vertecies = 5\n",
    "round_decimals = 3\n",
    "node_color = \"#89b2f4\"\n",
    "file_path = \"test_graph.json\""
   ]
  },
  {
   "cell_type": "markdown",
   "metadata": {},
   "source": [
    "## Creating the test Graph\n",
    "For convinence we create a weighted graph  as an adjacency matrix that then we will convert to an adjacency Lists as the Algorithm needs."
   ]
  },
  {
   "cell_type": "markdown",
   "metadata": {},
   "source": [
    "We create a random matrix using an uniform distributions between -1 and 1. then all the values less than zero are set to zero so we get a random weighted graph."
   ]
  },
  {
   "cell_type": "code",
   "execution_count": 4,
   "metadata": {},
   "outputs": [
    {
     "name": "stdout",
     "output_type": "stream",
     "text": [
      "array([[0.        , 0.        , 0.        , 0.        , 0.73633296],\n",
      "       [0.        , 0.        , 0.        , 0.25270118, 0.19732172],\n",
      "       [0.        , 0.        , 0.        , 0.        , 0.54874276],\n",
      "       [0.        , 0.25270118, 0.        , 0.        , 0.72703328],\n",
      "       [0.73633296, 0.19732172, 0.54874276, 0.72703328, 0.        ]])\n"
     ]
    }
   ],
   "source": [
    "# Create the random matrix with values between -1,1\n",
    "graph_matrix = 2*np.random.random((n_of_vertecies,n_of_vertecies)).astype(float)- 1\n",
    "# Keep only the positive values so that the matrix is half full\n",
    "graph_matrix[graph_matrix < 0] = 0\n",
    "# Keep only the upper triangle of the matrix\n",
    "graph_matrix = np.triu(graph_matrix)\n",
    "# Make the matrix simmetrics (sum the matrix with it's transpose)\n",
    "graph_matrix = graph_matrix + graph_matrix.T\n",
    "# Remove auto-loops\n",
    "np.fill_diagonal(graph_matrix,0)\n",
    "# Print the results\n",
    "pprint(graph_matrix)"
   ]
  },
  {
   "cell_type": "markdown",
   "metadata": {},
   "source": [
    "## TODO CHECK THAT ALL THE WEIGHTS HAVE UNIQUE VALUES"
   ]
  },
  {
   "cell_type": "markdown",
   "metadata": {},
   "source": [
    "now to convert the adjacency matrix to an adjacency list we just iterate over the rows of the matrix e save the cols indecies where the value are bigger than 0"
   ]
  },
  {
   "cell_type": "code",
   "execution_count": 5,
   "metadata": {},
   "outputs": [
    {
     "name": "stdout",
     "output_type": "stream",
     "text": [
      "[[(4, 0.736)],\n",
      " [(3, 0.253), (4, 0.197)],\n",
      " [(4, 0.549)],\n",
      " [(1, 0.253), (4, 0.727)],\n",
      " [(0, 0.736), (1, 0.197), (2, 0.549), (3, 0.727)]]\n"
     ]
    }
   ],
   "source": [
    "# Convert the matrix to an adjacency list\n",
    "graph_list = [\n",
    "                [\n",
    "                    (int(valore),round(graph_matrix[row][valore],round_decimals)) for valore in np.where(graph_matrix[row] > 0)[0]\n",
    "                ] \n",
    "                for row in range(n_of_vertecies)\n",
    "            ]\n",
    "pprint(graph_list)"
   ]
  },
  {
   "cell_type": "markdown",
   "metadata": {},
   "source": [
    "### Structure Description"
   ]
  },
  {
   "cell_type": "markdown",
   "metadata": {},
   "source": [
    "The$i$th list corrispond to the $i$th vertex.\n",
    "i.e. ```grap_list[1]``` return the values for the vertex $1$.\n",
    "\n",
    "For each vertex there is alist of tuples in the form ```(Destination_vertex,weight)```\n",
    "    "
   ]
  },
  {
   "cell_type": "markdown",
   "metadata": {},
   "source": [
    "## Save the graph to the file"
   ]
  },
  {
   "cell_type": "code",
   "execution_count": 6,
   "metadata": {},
   "outputs": [],
   "source": [
    "with open(file_path, \"w\") as f:\n",
    "    json.dump(graph_list,f, indent=4)"
   ]
  },
  {
   "cell_type": "markdown",
   "metadata": {},
   "source": [
    "# Display the Graph"
   ]
  },
  {
   "cell_type": "code",
   "execution_count": 7,
   "metadata": {},
   "outputs": [
    {
     "data": {
      "image/png": "[encoded data removed]",
      "text/plain": [
       "<Figure size 360x360 with 1 Axes>"
      ]
     },
     "metadata": {},
     "output_type": "display_data"
    }
   ],
   "source": [
    "# Create an empty graph\n",
    "g = nx.Graph()\n",
    "\n",
    "# add all the vertecies to the graph\n",
    "[g.add_node(i) for i in range(n_of_vertecies)]\n",
    "\n",
    "# Add all the edges to the graph\n",
    "[\n",
    "    g.add_edge(start,end,weight=_weight)\n",
    "    for start in range(n_of_vertecies)\n",
    "    for end,_weight in graph_list[start]\n",
    "]\n",
    "# Display the Graph\n",
    "# Create and set the dimension of the final image\n",
    "plt.figure(figsize=(5,5))\n",
    "# Calculate the spatial disposition of the nodes\n",
    "pos = nx.spring_layout(g)\n",
    "# Draw the graph\n",
    "nx.draw(g,pos, with_labels=True,node_color=node_color)\n",
    "# Draw the weight labels over the edges\n",
    "nx.draw_networkx_edge_labels(g,pos,edge_labels=nx.get_edge_attributes(g,\"weight\"))\n",
    "# Show the result\n",
    "plt.show()"
   ]
  }
 ],
 "metadata": {
  "kernelspec": {
   "display_name": "Python 3",
   "language": "python",
   "name": "python3"
  },
  "language_info": {
   "codemirror_mode": {
    "name": "ipython",
    "version": 3
   },
   "file_extension": ".py",
   "mimetype": "text/x-python",
   "name": "python",
   "nbconvert_exporter": "python",
   "pygments_lexer": "ipython3",
   "version": "3.7.0"
  }
 },
 "nbformat": 4,
 "nbformat_minor": 2
}
