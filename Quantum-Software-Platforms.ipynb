{
 "cells": [
  {
   "cell_type": "markdown",
   "metadata": {},
   "source": [
    "## Comparison between Quantum Software Platforms\n",
    "\n",
    "#### Reference: https://arxiv.org/pdf/1807.02500.pdf\n",
    "\n",
    "#### Platforms:\n",
    "- [pyQuil](http://docs.rigetti.com/en/stable/)\n",
    "- [QISKit](https://qiskit.org/)\n",
    "- [ProjectQ](https://projectq.ch/)\n",
    "- [Quantum Development Kit](https://www.microsoft.com/en-us/quantum/development-kit)\n",
    "\n",
    "#### 1) pyQuil\n",
    "\n",
    "Open-source Python library developed by Rigetti. It requires Python 2 or 3 (Python 3 strongly recommended).\n",
    "\n",
    "```\n",
    "pip install pyquil\n",
    "```\n",
    "\n",
    "#### 2) QISKit\n",
    "\n",
    "Open-source SDK for working with the OpenQUASM quantum language and quantum processors in the IBM Q experience. Available for Python, Javascript and Swift (Python >= 3.5 required).\n",
    "\n",
    "```\n",
    "pip install qiskit\n",
    "```\n",
    "\n",
    "#### 3) ProjectQ\n",
    "\n",
    "Open-source framework for quantum computing developed at ETH Zurich, featuring connectivity to IBM's quantum backend and providing a high performance simulator (Python 2.7 or 3.4+).\n",
    "\n",
    "```\n",
    "python -m pip install --user projectq\n",
    "\n",
    "python -m pip install --user --global-option=--without-cppsimulator\n",
    "```\n",
    "\n",
    "#### 4) Quantum Development Kit\n",
    "\n",
    "Microsoft SDK for quantum computing. This is the youngest of the four platforms here listed, but it has some interesting characteristics, like the use of a specific language, Q# and also of a completely different technology, based on Majorana fermions (which is the reason why right now there are no hardware devices on which run the algorithms).\n",
    "\n",
    "Installation: https://docs.microsoft.com/en-us/quantum/?view=qsharp-preview\n",
    "\n",
    "## Summary\n",
    "\n",
    "\n",
    "|Platforms|pyQuil|QISKit|ProjectQ|Quantum Development Kit|\n",
    "| :---: | :----: | :----: | :----: | :---: |\n",
    "    |Documentation|GOOD <br>many resources, notebooks, examples are available|Probably the most complete: clear explanations, many tutorials and on the GitHub page there are some jupyter notebooks where the most common algorithms are implemented.Since it is one of the most used platform, the community is quite large,so a lot of information can be found on forums.|Good documentation but a bit sparse. The GitHub repository contains many useful and clear examples.|GOOD <br>Well done documentation, with excellenttheory explanations and examples|\n",
    "|Interesting features|The IBM Q Experience website contains agraphical quantum circuit interface with which the usercan drag and drop gates to build circuits. There are tools for constructing highly configurablenoise models for performing realistic noisy simulations of the errors that occur during execution on real devices.There is the possibility to plot graphs to visualizedata and results in a more clear way.|Instead of simulating a quantum program, one can use our resource counter (as a back-end) to determine how many operations it would take on a future quantum computer with a given architecture.Using the emulation features of the simulator, one can easily emulate Shor's algorithm for problem sizes for which a quantum computer would require above 50 qubits.|\n",
    "|Simulation VS Reality|It currently lacks the ability to do measurement feedforward and qubit resetting,so if you use these functions you can't run your program on a realquantum computer.|Since it exploits the IBM Q backends, the limitationsare the same.| |\n",
    "|Usability|GOOD<br>very clean syntaxqubit registers and classical registers canbe allocated dynamically|The programming language is Python.The notation used for the gates is intuitive and the samegoes for building circuits with code.There is an integration with VSCODE.|The syntax is the best aspect of ProjectQ: the notation for applying gates to qubits is meant toresemble Dirac notation by inserting a vertical line between them.|GOOD, but...unlike the other platforms, QDK usesa specific language (Q#) and a more\"physics\" notation, so the learning curve could be slowerTraceSimulator for debugging classicalcode that is part of a quantum programVisual Studio extension|\n",
    "|Hardware|ON REQUEST<br>QPU access, 8 qubits|- IBMQX2 (5 qubits)- IBMQX4 (5 qubits)- IBMQX5 (16 qubits)- QS1_1 (20 qubits, only for members)|ProjectQ does not have its own dedicated quantumcomputer. However it allows to exploit the IBM Q backends.|NONEthe technology Microsoft is trying touse has not been implemented on hardware yet|\n",
    "|Simulator|QVM with 30 qubits or more + Reference QVM|Many simulators available as backends. The difference is themethodology in which the circuits are simulated:- the unitary simulator implements unitary matrix multiplication, hence it reaches long simulation time even with a \"small\" numberof qubits, since the unitary matrix 2^n x 2^n must be stored in memory.- the state vector simulator outperforms the unitary one (up to 25 qubits).|One of the strenghts of ProjectQ is its simulator.It is written in C++, it is fast and the number of qubits is limited by the  user's local memory.It can handle circuits with 26 qubits of depth 5 in undera minute and circuits of 28 circuits of depth 20 in justunder ten minutes.|quantum simulator up to 30 qubits(the kernels were written by developersof ProjectQ, so similar performance).possibility with Azure to do simulationwith more than 40 qubits|"
   ]
  },
  {
   "cell_type": "code",
   "execution_count": null,
   "metadata": {},
   "outputs": [],
   "source": [
    "import qgrid\n",
    "qgrid_widget"
   ]
  }
 ],
 "metadata": {
  "kernelspec": {
   "display_name": "Python 3",
   "language": "python",
   "name": "python3"
  },
  "language_info": {
   "codemirror_mode": {
    "name": "ipython",
    "version": 3
   },
   "file_extension": ".py",
   "mimetype": "text/x-python",
   "name": "python",
   "nbconvert_exporter": "python",
   "pygments_lexer": "ipython3",
   "version": "3.7.3"
  },
  "toc": {
   "base_numbering": 1,
   "nav_menu": {},
   "number_sections": false,
   "sideBar": true,
   "skip_h1_title": false,
   "title_cell": "Table of Contents",
   "title_sidebar": "Contents",
   "toc_cell": false,
   "toc_position": {},
   "toc_section_display": true,
   "toc_window_display": false
  }
 },
 "nbformat": 4,
 "nbformat_minor": 2
}
